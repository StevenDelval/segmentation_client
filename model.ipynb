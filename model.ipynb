{
 "cells": [
  {
   "cell_type": "code",
   "execution_count": 53,
   "metadata": {},
   "outputs": [],
   "source": [
    "import numpy as np\n",
    "import pandas as pd\n",
    "import matplotlib.pyplot as plt\n",
    "from sklearn.cluster import KMeans\n",
    "pd.options.display.max_rows = 150\n",
    "pd.options.display.max_columns = 150"
   ]
  },
  {
   "cell_type": "code",
   "execution_count": 54,
   "metadata": {},
   "outputs": [],
   "source": [
    "df = pd.read_csv(\"data/data_merge.csv\")"
   ]
  },
  {
   "cell_type": "code",
   "execution_count": 55,
   "metadata": {},
   "outputs": [],
   "source": [
    "num_columns = [col for col in df.columns if df[col].dtype != \"object\"]\n",
    "cat_columns = [col for col in df.columns if df[col].dtype == \"object\"]"
   ]
  },
  {
   "cell_type": "code",
   "execution_count": 56,
   "metadata": {},
   "outputs": [
    {
     "name": "stdout",
     "output_type": "stream",
     "text": [
      "[t-SNE] Computing 91 nearest neighbors...\n",
      "[t-SNE] Indexed 92901 samples in 0.003s...\n",
      "[t-SNE] Computed neighbors for 92901 samples in 12.006s...\n",
      "[t-SNE] Computed conditional probabilities for sample 1000 / 92901\n",
      "[t-SNE] Computed conditional probabilities for sample 2000 / 92901\n",
      "[t-SNE] Computed conditional probabilities for sample 3000 / 92901\n",
      "[t-SNE] Computed conditional probabilities for sample 4000 / 92901\n",
      "[t-SNE] Computed conditional probabilities for sample 5000 / 92901\n",
      "[t-SNE] Computed conditional probabilities for sample 6000 / 92901\n",
      "[t-SNE] Computed conditional probabilities for sample 7000 / 92901\n",
      "[t-SNE] Computed conditional probabilities for sample 8000 / 92901\n",
      "[t-SNE] Computed conditional probabilities for sample 9000 / 92901\n",
      "[t-SNE] Computed conditional probabilities for sample 10000 / 92901\n",
      "[t-SNE] Computed conditional probabilities for sample 11000 / 92901\n",
      "[t-SNE] Computed conditional probabilities for sample 12000 / 92901\n",
      "[t-SNE] Computed conditional probabilities for sample 13000 / 92901\n",
      "[t-SNE] Computed conditional probabilities for sample 14000 / 92901\n",
      "[t-SNE] Computed conditional probabilities for sample 15000 / 92901\n",
      "[t-SNE] Computed conditional probabilities for sample 16000 / 92901\n",
      "[t-SNE] Computed conditional probabilities for sample 17000 / 92901\n",
      "[t-SNE] Computed conditional probabilities for sample 18000 / 92901\n",
      "[t-SNE] Computed conditional probabilities for sample 19000 / 92901\n",
      "[t-SNE] Computed conditional probabilities for sample 20000 / 92901\n",
      "[t-SNE] Computed conditional probabilities for sample 21000 / 92901\n",
      "[t-SNE] Computed conditional probabilities for sample 22000 / 92901\n",
      "[t-SNE] Computed conditional probabilities for sample 23000 / 92901\n",
      "[t-SNE] Computed conditional probabilities for sample 24000 / 92901\n",
      "[t-SNE] Computed conditional probabilities for sample 25000 / 92901\n",
      "[t-SNE] Computed conditional probabilities for sample 26000 / 92901\n",
      "[t-SNE] Computed conditional probabilities for sample 27000 / 92901\n",
      "[t-SNE] Computed conditional probabilities for sample 28000 / 92901\n",
      "[t-SNE] Computed conditional probabilities for sample 29000 / 92901\n",
      "[t-SNE] Computed conditional probabilities for sample 30000 / 92901\n",
      "[t-SNE] Computed conditional probabilities for sample 31000 / 92901\n",
      "[t-SNE] Computed conditional probabilities for sample 32000 / 92901\n",
      "[t-SNE] Computed conditional probabilities for sample 33000 / 92901\n",
      "[t-SNE] Computed conditional probabilities for sample 34000 / 92901\n",
      "[t-SNE] Computed conditional probabilities for sample 35000 / 92901\n",
      "[t-SNE] Computed conditional probabilities for sample 36000 / 92901\n",
      "[t-SNE] Computed conditional probabilities for sample 37000 / 92901\n",
      "[t-SNE] Computed conditional probabilities for sample 38000 / 92901\n",
      "[t-SNE] Computed conditional probabilities for sample 39000 / 92901\n",
      "[t-SNE] Computed conditional probabilities for sample 40000 / 92901\n",
      "[t-SNE] Computed conditional probabilities for sample 41000 / 92901\n",
      "[t-SNE] Computed conditional probabilities for sample 42000 / 92901\n",
      "[t-SNE] Computed conditional probabilities for sample 43000 / 92901\n",
      "[t-SNE] Computed conditional probabilities for sample 44000 / 92901\n",
      "[t-SNE] Computed conditional probabilities for sample 45000 / 92901\n",
      "[t-SNE] Computed conditional probabilities for sample 46000 / 92901\n",
      "[t-SNE] Computed conditional probabilities for sample 47000 / 92901\n",
      "[t-SNE] Computed conditional probabilities for sample 48000 / 92901\n",
      "[t-SNE] Computed conditional probabilities for sample 49000 / 92901\n",
      "[t-SNE] Computed conditional probabilities for sample 50000 / 92901\n",
      "[t-SNE] Computed conditional probabilities for sample 51000 / 92901\n",
      "[t-SNE] Computed conditional probabilities for sample 52000 / 92901\n",
      "[t-SNE] Computed conditional probabilities for sample 53000 / 92901\n",
      "[t-SNE] Computed conditional probabilities for sample 54000 / 92901\n",
      "[t-SNE] Computed conditional probabilities for sample 55000 / 92901\n",
      "[t-SNE] Computed conditional probabilities for sample 56000 / 92901\n",
      "[t-SNE] Computed conditional probabilities for sample 57000 / 92901\n",
      "[t-SNE] Computed conditional probabilities for sample 58000 / 92901\n",
      "[t-SNE] Computed conditional probabilities for sample 59000 / 92901\n",
      "[t-SNE] Computed conditional probabilities for sample 60000 / 92901\n",
      "[t-SNE] Computed conditional probabilities for sample 61000 / 92901\n",
      "[t-SNE] Computed conditional probabilities for sample 62000 / 92901\n",
      "[t-SNE] Computed conditional probabilities for sample 63000 / 92901\n",
      "[t-SNE] Computed conditional probabilities for sample 64000 / 92901\n",
      "[t-SNE] Computed conditional probabilities for sample 65000 / 92901\n",
      "[t-SNE] Computed conditional probabilities for sample 66000 / 92901\n",
      "[t-SNE] Computed conditional probabilities for sample 67000 / 92901\n",
      "[t-SNE] Computed conditional probabilities for sample 68000 / 92901\n",
      "[t-SNE] Computed conditional probabilities for sample 69000 / 92901\n",
      "[t-SNE] Computed conditional probabilities for sample 70000 / 92901\n",
      "[t-SNE] Computed conditional probabilities for sample 71000 / 92901\n",
      "[t-SNE] Computed conditional probabilities for sample 72000 / 92901\n",
      "[t-SNE] Computed conditional probabilities for sample 73000 / 92901\n",
      "[t-SNE] Computed conditional probabilities for sample 74000 / 92901\n",
      "[t-SNE] Computed conditional probabilities for sample 75000 / 92901\n",
      "[t-SNE] Computed conditional probabilities for sample 76000 / 92901\n",
      "[t-SNE] Computed conditional probabilities for sample 77000 / 92901\n",
      "[t-SNE] Computed conditional probabilities for sample 78000 / 92901\n",
      "[t-SNE] Computed conditional probabilities for sample 79000 / 92901\n",
      "[t-SNE] Computed conditional probabilities for sample 80000 / 92901\n",
      "[t-SNE] Computed conditional probabilities for sample 81000 / 92901\n",
      "[t-SNE] Computed conditional probabilities for sample 82000 / 92901\n",
      "[t-SNE] Computed conditional probabilities for sample 83000 / 92901\n",
      "[t-SNE] Computed conditional probabilities for sample 84000 / 92901\n",
      "[t-SNE] Computed conditional probabilities for sample 85000 / 92901\n",
      "[t-SNE] Computed conditional probabilities for sample 86000 / 92901\n",
      "[t-SNE] Computed conditional probabilities for sample 87000 / 92901\n",
      "[t-SNE] Computed conditional probabilities for sample 88000 / 92901\n",
      "[t-SNE] Computed conditional probabilities for sample 89000 / 92901\n",
      "[t-SNE] Computed conditional probabilities for sample 90000 / 92901\n",
      "[t-SNE] Computed conditional probabilities for sample 91000 / 92901\n",
      "[t-SNE] Computed conditional probabilities for sample 92000 / 92901\n",
      "[t-SNE] Computed conditional probabilities for sample 92901 / 92901\n",
      "[t-SNE] Mean sigma: 0.658226\n",
      "[t-SNE] Computed conditional probabilities in 2.541s\n",
      "[t-SNE] Iteration 50: error = 105.8884354, gradient norm = 0.0084254 (50 iterations in 75.484s)\n",
      "[t-SNE] Iteration 100: error = 93.3175583, gradient norm = 0.0027104 (50 iterations in 46.282s)\n",
      "[t-SNE] Iteration 150: error = 89.5919113, gradient norm = 0.0016214 (50 iterations in 43.628s)\n",
      "[t-SNE] Iteration 200: error = 87.6457291, gradient norm = 0.0011627 (50 iterations in 49.566s)\n",
      "[t-SNE] Iteration 250: error = 86.4371567, gradient norm = 0.0009076 (50 iterations in 56.521s)\n",
      "[t-SNE] KL divergence after 250 iterations with early exaggeration: 86.437157\n",
      "[t-SNE] Iteration 300: error = 3.7458584, gradient norm = 0.0022526 (50 iterations in 53.465s)\n",
      "[t-SNE] Iteration 350: error = 3.0470638, gradient norm = 0.0021900 (50 iterations in 58.343s)\n",
      "[t-SNE] Iteration 400: error = 2.6233227, gradient norm = 0.0018824 (50 iterations in 57.247s)\n",
      "[t-SNE] Iteration 450: error = 2.3555958, gradient norm = 0.0016398 (50 iterations in 57.259s)\n",
      "[t-SNE] Iteration 500: error = 2.1718032, gradient norm = 0.0014457 (50 iterations in 54.749s)\n",
      "[t-SNE] Iteration 550: error = 2.0381515, gradient norm = 0.0013007 (50 iterations in 53.444s)\n",
      "[t-SNE] Iteration 600: error = 1.9368497, gradient norm = 0.0011834 (50 iterations in 56.051s)\n",
      "[t-SNE] Iteration 650: error = 1.8583487, gradient norm = 0.0010614 (50 iterations in 58.475s)\n",
      "[t-SNE] Iteration 700: error = 1.7970208, gradient norm = 0.0009410 (50 iterations in 58.681s)\n",
      "[t-SNE] Iteration 750: error = 1.7498730, gradient norm = 0.0008114 (50 iterations in 59.611s)\n",
      "[t-SNE] Iteration 800: error = 1.7132404, gradient norm = 0.0006893 (50 iterations in 58.602s)\n",
      "[t-SNE] Iteration 850: error = 1.6844194, gradient norm = 0.0006007 (50 iterations in 56.630s)\n",
      "[t-SNE] Iteration 900: error = 1.6623956, gradient norm = 0.0004963 (50 iterations in 53.086s)\n",
      "[t-SNE] Iteration 950: error = 1.6451324, gradient norm = 0.0004216 (50 iterations in 52.077s)\n",
      "[t-SNE] Iteration 1000: error = 1.6316174, gradient norm = 0.0003553 (50 iterations in 63.852s)\n",
      "[t-SNE] KL divergence after 1000 iterations: 1.631617\n"
     ]
    }
   ],
   "source": [
    "from sklearn.compose import ColumnTransformer\n",
    "from sklearn.preprocessing import  StandardScaler,OneHotEncoder,FunctionTransformer\n",
    "from sklearn.decomposition import PCA,TruncatedSVD\n",
    "from sklearn.pipeline import Pipeline\n",
    "from sklearn.manifold import TSNE\n",
    "\n",
    "std = StandardScaler()\n",
    "ohe= OneHotEncoder(sparse_output=False)\n",
    "\n",
    "log_1p = FunctionTransformer(func=np.log1p)\n",
    "preprocessor_pca = ColumnTransformer(\n",
    "    transformers=[\n",
    "        (\"ohe\",ohe,cat_columns),\n",
    "        (\"log\",log_1p,num_columns)\n",
    "    ]\n",
    "    \n",
    ")\n",
    "tsne=Pipeline([\n",
    "     ('preprocessor', preprocessor_pca),\n",
    "     ('std', std ),\n",
    "     (\"tsne\", TSNE(n_components=3,random_state=42,verbose=2,n_jobs=-1))\n",
    "])\n",
    "\n",
    "tsne_value = tsne.fit_transform(df)"
   ]
  },
  {
   "cell_type": "code",
   "execution_count": 57,
   "metadata": {},
   "outputs": [],
   "source": [
    "import pickle\n",
    "pickle_out = open(\"tsne.pkl\", \"wb\") \n",
    "pickle.dump(tsne_value, pickle_out) \n",
    "pickle_out.close()"
   ]
  },
  {
   "cell_type": "code",
   "execution_count": 58,
   "metadata": {},
   "outputs": [
    {
     "data": {
      "image/png": "[encoded data removed]",
      "text/plain": [
       "<Figure size 800x550 with 1 Axes>"
      ]
     },
     "metadata": {},
     "output_type": "display_data"
    },
    {
     "data": {
      "text/plain": [
       "<AxesSubplot: title={'center': 'Distortion Score Elbow for KMeans Clustering'}, xlabel='k', ylabel='distortion score'>"
      ]
     },
     "execution_count": 58,
     "metadata": {},
     "output_type": "execute_result"
    }
   ],
   "source": [
    "from yellowbrick.cluster import KElbowVisualizer\n",
    "visualizer = KElbowVisualizer(KMeans(n_init=10,random_state=42),metric=\"distortion\", k=(2,12),timings=False)\n",
    "\n",
    "visualizer.fit(tsne_value)        # Fit the data to the visualizer\n",
    "visualizer.show()        # Finalize and render the figure"
   ]
  },
  {
   "cell_type": "code",
   "execution_count": 59,
   "metadata": {},
   "outputs": [
    {
     "data": {
      "text/html": [
       "<style>#sk-container-id-4 {color: black;background-color: white;}#sk-container-id-4 pre{padding: 0;}#sk-container-id-4 div.sk-toggleable {background-color: white;}#sk-container-id-4 label.sk-toggleable__label {cursor: pointer;display: block;width: 100%;margin-bottom: 0;padding: 0.3em;box-sizing: border-box;text-align: center;}#sk-container-id-4 label.sk-toggleable__label-arrow:before {content: \"▸\";float: left;margin-right: 0.25em;color: #696969;}#sk-container-id-4 label.sk-toggleable__label-arrow:hover:before {color: black;}#sk-container-id-4 div.sk-estimator:hover label.sk-toggleable__label-arrow:before {color: black;}#sk-container-id-4 div.sk-toggleable__content {max-height: 0;max-width: 0;overflow: hidden;text-align: left;background-color: #f0f8ff;}#sk-container-id-4 div.sk-toggleable__content pre {margin: 0.2em;color: black;border-radius: 0.25em;background-color: #f0f8ff;}#sk-container-id-4 input.sk-toggleable__control:checked~div.sk-toggleable__content {max-height: 200px;max-width: 100%;overflow: auto;}#sk-container-id-4 input.sk-toggleable__control:checked~label.sk-toggleable__label-arrow:before {content: \"▾\";}#sk-container-id-4 div.sk-estimator input.sk-toggleable__control:checked~label.sk-toggleable__label {background-color: #d4ebff;}#sk-container-id-4 div.sk-label input.sk-toggleable__control:checked~label.sk-toggleable__label {background-color: #d4ebff;}#sk-container-id-4 input.sk-hidden--visually {border: 0;clip: rect(1px 1px 1px 1px);clip: rect(1px, 1px, 1px, 1px);height: 1px;margin: -1px;overflow: hidden;padding: 0;position: absolute;width: 1px;}#sk-container-id-4 div.sk-estimator {font-family: monospace;background-color: #f0f8ff;border: 1px dotted black;border-radius: 0.25em;box-sizing: border-box;margin-bottom: 0.5em;}#sk-container-id-4 div.sk-estimator:hover {background-color: #d4ebff;}#sk-container-id-4 div.sk-parallel-item::after {content: \"\";width: 100%;border-bottom: 1px solid gray;flex-grow: 1;}#sk-container-id-4 div.sk-label:hover label.sk-toggleable__label {background-color: #d4ebff;}#sk-container-id-4 div.sk-serial::before {content: \"\";position: absolute;border-left: 1px solid gray;box-sizing: border-box;top: 0;bottom: 0;left: 50%;z-index: 0;}#sk-container-id-4 div.sk-serial {display: flex;flex-direction: column;align-items: center;background-color: white;padding-right: 0.2em;padding-left: 0.2em;position: relative;}#sk-container-id-4 div.sk-item {position: relative;z-index: 1;}#sk-container-id-4 div.sk-parallel {display: flex;align-items: stretch;justify-content: center;background-color: white;position: relative;}#sk-container-id-4 div.sk-item::before, #sk-container-id-4 div.sk-parallel-item::before {content: \"\";position: absolute;border-left: 1px solid gray;box-sizing: border-box;top: 0;bottom: 0;left: 50%;z-index: -1;}#sk-container-id-4 div.sk-parallel-item {display: flex;flex-direction: column;z-index: 1;position: relative;background-color: white;}#sk-container-id-4 div.sk-parallel-item:first-child::after {align-self: flex-end;width: 50%;}#sk-container-id-4 div.sk-parallel-item:last-child::after {align-self: flex-start;width: 50%;}#sk-container-id-4 div.sk-parallel-item:only-child::after {width: 0;}#sk-container-id-4 div.sk-dashed-wrapped {border: 1px dashed gray;margin: 0 0.4em 0.5em 0.4em;box-sizing: border-box;padding-bottom: 0.4em;background-color: white;}#sk-container-id-4 div.sk-label label {font-family: monospace;font-weight: bold;display: inline-block;line-height: 1.2em;}#sk-container-id-4 div.sk-label-container {text-align: center;}#sk-container-id-4 div.sk-container {/* jupyter's `normalize.less` sets `[hidden] { display: none; }` but bootstrap.min.css set `[hidden] { display: none !important; }` so we also need the `!important` here to be able to override the default hidden behavior on the sphinx rendered scikit-learn.org. See: https://github.com/scikit-learn/scikit-learn/issues/21755 */display: inline-block !important;position: relative;}#sk-container-id-4 div.sk-text-repr-fallback {display: none;}</style><div id=\"sk-container-id-4\" class=\"sk-top-container\"><div class=\"sk-text-repr-fallback\"><pre>KMeans(n_clusters=6, n_init=10, random_state=42)</pre><b>In a Jupyter environment, please rerun this cell to show the HTML representation or trust the notebook. <br />On GitHub, the HTML representation is unable to render, please try loading this page with nbviewer.org.</b></div><div class=\"sk-container\" hidden><div class=\"sk-item\"><div class=\"sk-estimator sk-toggleable\"><input class=\"sk-toggleable__control sk-hidden--visually\" id=\"sk-estimator-id-4\" type=\"checkbox\" checked><label for=\"sk-estimator-id-4\" class=\"sk-toggleable__label sk-toggleable__label-arrow\">KMeans</label><div class=\"sk-toggleable__content\"><pre>KMeans(n_clusters=6, n_init=10, random_state=42)</pre></div></div></div></div></div>"
      ],
      "text/plain": [
       "KMeans(n_clusters=6, n_init=10, random_state=42)"
      ]
     },
     "execution_count": 59,
     "metadata": {},
     "output_type": "execute_result"
    }
   ],
   "source": [
    "kmeans = KMeans(n_clusters=6,n_init=10,random_state=42)\n",
    "kmeans.fit(tsne_value)"
   ]
  },
  {
   "cell_type": "code",
   "execution_count": 60,
   "metadata": {},
   "outputs": [],
   "source": [
    "df[\"label\"]=kmeans.labels_"
   ]
  },
  {
   "cell_type": "code",
   "execution_count": 61,
   "metadata": {},
   "outputs": [
    {
     "data": {
      "text/html": [
       "<div>\n",
       "<style scoped>\n",
       "    .dataframe tbody tr th:only-of-type {\n",
       "        vertical-align: middle;\n",
       "    }\n",
       "\n",
       "    .dataframe tbody tr th {\n",
       "        vertical-align: top;\n",
       "    }\n",
       "\n",
       "    .dataframe thead th {\n",
       "        text-align: right;\n",
       "    }\n",
       "</style>\n",
       "<table border=\"1\" class=\"dataframe\">\n",
       "  <thead>\n",
       "    <tr style=\"text-align: right;\">\n",
       "      <th></th>\n",
       "      <th>nb_items_total</th>\n",
       "      <th>montant_total</th>\n",
       "      <th>nb_commande</th>\n",
       "      <th>payment_type_most_frequent</th>\n",
       "      <th>most_frequent_product_category</th>\n",
       "      <th>mean_review_score</th>\n",
       "      <th>mean_payment_installments</th>\n",
       "      <th>mean_length_comment_title</th>\n",
       "      <th>mean_length_comment_message</th>\n",
       "      <th>mean_distance</th>\n",
       "      <th>recence</th>\n",
       "      <th>med_product_photos_qty</th>\n",
       "      <th>med_product_description_lenght</th>\n",
       "      <th>label</th>\n",
       "    </tr>\n",
       "  </thead>\n",
       "  <tbody>\n",
       "    <tr>\n",
       "      <th>0</th>\n",
       "      <td>1.0</td>\n",
       "      <td>141.90</td>\n",
       "      <td>1</td>\n",
       "      <td>credit_card</td>\n",
       "      <td>Furniture</td>\n",
       "      <td>5.0</td>\n",
       "      <td>8.0</td>\n",
       "      <td>15.0</td>\n",
       "      <td>111.0</td>\n",
       "      <td>1.047809</td>\n",
       "      <td>165.0</td>\n",
       "      <td>1.0</td>\n",
       "      <td>236.0</td>\n",
       "      <td>5</td>\n",
       "    </tr>\n",
       "    <tr>\n",
       "      <th>1</th>\n",
       "      <td>1.0</td>\n",
       "      <td>27.19</td>\n",
       "      <td>1</td>\n",
       "      <td>credit_card</td>\n",
       "      <td>Health_and_Beauty</td>\n",
       "      <td>4.0</td>\n",
       "      <td>1.0</td>\n",
       "      <td>0.0</td>\n",
       "      <td>0.0</td>\n",
       "      <td>0.215858</td>\n",
       "      <td>168.0</td>\n",
       "      <td>1.0</td>\n",
       "      <td>635.0</td>\n",
       "      <td>5</td>\n",
       "    </tr>\n",
       "    <tr>\n",
       "      <th>2</th>\n",
       "      <td>1.0</td>\n",
       "      <td>86.22</td>\n",
       "      <td>1</td>\n",
       "      <td>credit_card</td>\n",
       "      <td>Miscellaneous</td>\n",
       "      <td>3.0</td>\n",
       "      <td>8.0</td>\n",
       "      <td>0.0</td>\n",
       "      <td>0.0</td>\n",
       "      <td>4.718337</td>\n",
       "      <td>591.0</td>\n",
       "      <td>3.0</td>\n",
       "      <td>177.0</td>\n",
       "      <td>2</td>\n",
       "    </tr>\n",
       "    <tr>\n",
       "      <th>3</th>\n",
       "      <td>1.0</td>\n",
       "      <td>43.62</td>\n",
       "      <td>1</td>\n",
       "      <td>credit_card</td>\n",
       "      <td>Communication</td>\n",
       "      <td>4.0</td>\n",
       "      <td>4.0</td>\n",
       "      <td>0.0</td>\n",
       "      <td>12.0</td>\n",
       "      <td>22.323718</td>\n",
       "      <td>375.0</td>\n",
       "      <td>5.0</td>\n",
       "      <td>1741.0</td>\n",
       "      <td>2</td>\n",
       "    </tr>\n",
       "    <tr>\n",
       "      <th>4</th>\n",
       "      <td>1.0</td>\n",
       "      <td>196.89</td>\n",
       "      <td>1</td>\n",
       "      <td>credit_card</td>\n",
       "      <td>Communication</td>\n",
       "      <td>5.0</td>\n",
       "      <td>6.0</td>\n",
       "      <td>0.0</td>\n",
       "      <td>0.0</td>\n",
       "      <td>1.511395</td>\n",
       "      <td>342.0</td>\n",
       "      <td>3.0</td>\n",
       "      <td>794.0</td>\n",
       "      <td>2</td>\n",
       "    </tr>\n",
       "    <tr>\n",
       "      <th>...</th>\n",
       "      <td>...</td>\n",
       "      <td>...</td>\n",
       "      <td>...</td>\n",
       "      <td>...</td>\n",
       "      <td>...</td>\n",
       "      <td>...</td>\n",
       "      <td>...</td>\n",
       "      <td>...</td>\n",
       "      <td>...</td>\n",
       "      <td>...</td>\n",
       "      <td>...</td>\n",
       "      <td>...</td>\n",
       "      <td>...</td>\n",
       "      <td>...</td>\n",
       "    </tr>\n",
       "    <tr>\n",
       "      <th>92896</th>\n",
       "      <td>2.0</td>\n",
       "      <td>2067.42</td>\n",
       "      <td>1</td>\n",
       "      <td>credit_card</td>\n",
       "      <td>Health_and_Beauty</td>\n",
       "      <td>5.0</td>\n",
       "      <td>10.0</td>\n",
       "      <td>0.0</td>\n",
       "      <td>0.0</td>\n",
       "      <td>18.181014</td>\n",
       "      <td>501.0</td>\n",
       "      <td>1.0</td>\n",
       "      <td>423.0</td>\n",
       "      <td>4</td>\n",
       "    </tr>\n",
       "    <tr>\n",
       "      <th>92897</th>\n",
       "      <td>1.0</td>\n",
       "      <td>84.58</td>\n",
       "      <td>1</td>\n",
       "      <td>credit_card</td>\n",
       "      <td>Baby</td>\n",
       "      <td>4.0</td>\n",
       "      <td>1.0</td>\n",
       "      <td>0.0</td>\n",
       "      <td>0.0</td>\n",
       "      <td>14.007418</td>\n",
       "      <td>316.0</td>\n",
       "      <td>2.0</td>\n",
       "      <td>506.0</td>\n",
       "      <td>5</td>\n",
       "    </tr>\n",
       "    <tr>\n",
       "      <th>92898</th>\n",
       "      <td>1.0</td>\n",
       "      <td>112.46</td>\n",
       "      <td>1</td>\n",
       "      <td>credit_card</td>\n",
       "      <td>Automotive</td>\n",
       "      <td>5.0</td>\n",
       "      <td>1.0</td>\n",
       "      <td>0.0</td>\n",
       "      <td>0.0</td>\n",
       "      <td>14.092158</td>\n",
       "      <td>622.0</td>\n",
       "      <td>5.0</td>\n",
       "      <td>716.0</td>\n",
       "      <td>3</td>\n",
       "    </tr>\n",
       "    <tr>\n",
       "      <th>92899</th>\n",
       "      <td>1.0</td>\n",
       "      <td>133.69</td>\n",
       "      <td>1</td>\n",
       "      <td>credit_card</td>\n",
       "      <td>Well-being</td>\n",
       "      <td>5.0</td>\n",
       "      <td>5.0</td>\n",
       "      <td>8.0</td>\n",
       "      <td>133.0</td>\n",
       "      <td>6.149897</td>\n",
       "      <td>173.0</td>\n",
       "      <td>3.0</td>\n",
       "      <td>591.0</td>\n",
       "      <td>3</td>\n",
       "    </tr>\n",
       "    <tr>\n",
       "      <th>92900</th>\n",
       "      <td>1.0</td>\n",
       "      <td>71.56</td>\n",
       "      <td>1</td>\n",
       "      <td>credit_card</td>\n",
       "      <td>Health_and_Beauty</td>\n",
       "      <td>5.0</td>\n",
       "      <td>4.0</td>\n",
       "      <td>0.0</td>\n",
       "      <td>0.0</td>\n",
       "      <td>3.432792</td>\n",
       "      <td>538.0</td>\n",
       "      <td>2.0</td>\n",
       "      <td>1003.0</td>\n",
       "      <td>4</td>\n",
       "    </tr>\n",
       "  </tbody>\n",
       "</table>\n",
       "<p>92901 rows × 14 columns</p>\n",
       "</div>"
      ],
      "text/plain": [
       "       nb_items_total  montant_total  nb_commande payment_type_most_frequent  \\\n",
       "0                 1.0         141.90            1                credit_card   \n",
       "1                 1.0          27.19            1                credit_card   \n",
       "2                 1.0          86.22            1                credit_card   \n",
       "3                 1.0          43.62            1                credit_card   \n",
       "4                 1.0         196.89            1                credit_card   \n",
       "...               ...            ...          ...                        ...   \n",
       "92896             2.0        2067.42            1                credit_card   \n",
       "92897             1.0          84.58            1                credit_card   \n",
       "92898             1.0         112.46            1                credit_card   \n",
       "92899             1.0         133.69            1                credit_card   \n",
       "92900             1.0          71.56            1                credit_card   \n",
       "\n",
       "      most_frequent_product_category  mean_review_score  \\\n",
       "0                          Furniture                5.0   \n",
       "1                  Health_and_Beauty                4.0   \n",
       "2                      Miscellaneous                3.0   \n",
       "3                      Communication                4.0   \n",
       "4                      Communication                5.0   \n",
       "...                              ...                ...   \n",
       "92896              Health_and_Beauty                5.0   \n",
       "92897                           Baby                4.0   \n",
       "92898                     Automotive                5.0   \n",
       "92899                     Well-being                5.0   \n",
       "92900              Health_and_Beauty                5.0   \n",
       "\n",
       "       mean_payment_installments  mean_length_comment_title  \\\n",
       "0                            8.0                       15.0   \n",
       "1                            1.0                        0.0   \n",
       "2                            8.0                        0.0   \n",
       "3                            4.0                        0.0   \n",
       "4                            6.0                        0.0   \n",
       "...                          ...                        ...   \n",
       "92896                       10.0                        0.0   \n",
       "92897                        1.0                        0.0   \n",
       "92898                        1.0                        0.0   \n",
       "92899                        5.0                        8.0   \n",
       "92900                        4.0                        0.0   \n",
       "\n",
       "       mean_length_comment_message  mean_distance  recence  \\\n",
       "0                            111.0       1.047809    165.0   \n",
       "1                              0.0       0.215858    168.0   \n",
       "2                              0.0       4.718337    591.0   \n",
       "3                             12.0      22.323718    375.0   \n",
       "4                              0.0       1.511395    342.0   \n",
       "...                            ...            ...      ...   \n",
       "92896                          0.0      18.181014    501.0   \n",
       "92897                          0.0      14.007418    316.0   \n",
       "92898                          0.0      14.092158    622.0   \n",
       "92899                        133.0       6.149897    173.0   \n",
       "92900                          0.0       3.432792    538.0   \n",
       "\n",
       "       med_product_photos_qty  med_product_description_lenght  label  \n",
       "0                         1.0                           236.0      5  \n",
       "1                         1.0                           635.0      5  \n",
       "2                         3.0                           177.0      2  \n",
       "3                         5.0                          1741.0      2  \n",
       "4                         3.0                           794.0      2  \n",
       "...                       ...                             ...    ...  \n",
       "92896                     1.0                           423.0      4  \n",
       "92897                     2.0                           506.0      5  \n",
       "92898                     5.0                           716.0      3  \n",
       "92899                     3.0                           591.0      3  \n",
       "92900                     2.0                          1003.0      4  \n",
       "\n",
       "[92901 rows x 14 columns]"
      ]
     },
     "execution_count": 61,
     "metadata": {},
     "output_type": "execute_result"
    }
   ],
   "source": [
    "df"
   ]
  },
  {
   "cell_type": "code",
   "execution_count": 62,
   "metadata": {},
   "outputs": [
    {
     "name": "stdout",
     "output_type": "stream",
     "text": [
      "{0: '#1f77b4', 1: '#ff7f0e', 2: '#2ca02c', 3: '#d62728', 4: '#9467bd', 5: '#8c564b', 6: '#e377c2', 7: '#7f7f7f', 8: '#bcbd22', 9: '#17becf'}\n"
     ]
    },
    {
     "data": {
      "image/png": "[encoded data removed]",
      "text/plain": [
       "<Figure size 800x550 with 1 Axes>"
      ]
     },
     "metadata": {},
     "output_type": "display_data"
    }
   ],
   "source": [
    "import matplotlib.colors as mcolors\n",
    "fig = plt.figure()\n",
    "ax = fig.add_subplot(projection='3d')\n",
    "# Créer une liste de couleurs à partir de la palette \"Set1\" de Matplotlib\n",
    "set1_colors = list(mcolors.TABLEAU_COLORS.values())[:10]\n",
    "\n",
    "# Créer un dictionnaire pour mapper des couleurs aux valeurs de la liste\n",
    "color_dict = {i: set1_colors[i] for i in range(len(set1_colors))}\n",
    "print(color_dict)\n",
    "\n",
    "ax.scatter(tsne_value[:,0],tsne_value[:,1],tsne_value[:,2],marker=\".\",c=[color_dict[i] for i in df[\"label\"]])\n",
    "plt.show()"
   ]
  },
  {
   "cell_type": "code",
   "execution_count": 63,
   "metadata": {},
   "outputs": [
    {
     "name": "stderr",
     "output_type": "stream",
     "text": [
      "/tmp/ipykernel_6001/825856455.py:1: FutureWarning:\n",
      "\n",
      "The default value of numeric_only in DataFrameGroupBy.mean is deprecated. In a future version, numeric_only will default to False. Either specify numeric_only or select only columns which should be valid for the function.\n",
      "\n"
     ]
    },
    {
     "data": {
      "text/html": [
       "<div>\n",
       "<style scoped>\n",
       "    .dataframe tbody tr th:only-of-type {\n",
       "        vertical-align: middle;\n",
       "    }\n",
       "\n",
       "    .dataframe tbody tr th {\n",
       "        vertical-align: top;\n",
       "    }\n",
       "\n",
       "    .dataframe thead th {\n",
       "        text-align: right;\n",
       "    }\n",
       "</style>\n",
       "<table border=\"1\" class=\"dataframe\">\n",
       "  <thead>\n",
       "    <tr style=\"text-align: right;\">\n",
       "      <th></th>\n",
       "      <th>nb_items_total</th>\n",
       "      <th>montant_total</th>\n",
       "      <th>nb_commande</th>\n",
       "      <th>mean_review_score</th>\n",
       "      <th>mean_payment_installments</th>\n",
       "      <th>mean_length_comment_title</th>\n",
       "      <th>mean_length_comment_message</th>\n",
       "      <th>mean_distance</th>\n",
       "      <th>recence</th>\n",
       "      <th>med_product_photos_qty</th>\n",
       "      <th>med_product_description_lenght</th>\n",
       "    </tr>\n",
       "    <tr>\n",
       "      <th>label</th>\n",
       "      <th></th>\n",
       "      <th></th>\n",
       "      <th></th>\n",
       "      <th></th>\n",
       "      <th></th>\n",
       "      <th></th>\n",
       "      <th></th>\n",
       "      <th></th>\n",
       "      <th></th>\n",
       "      <th></th>\n",
       "      <th></th>\n",
       "    </tr>\n",
       "  </thead>\n",
       "  <tbody>\n",
       "    <tr>\n",
       "      <th>0</th>\n",
       "      <td>1.194525</td>\n",
       "      <td>151.215707</td>\n",
       "      <td>1.020810</td>\n",
       "      <td>3.857055</td>\n",
       "      <td>2.790698</td>\n",
       "      <td>1.363330</td>\n",
       "      <td>42.750576</td>\n",
       "      <td>5.374977</td>\n",
       "      <td>312.669650</td>\n",
       "      <td>2.127620</td>\n",
       "      <td>567.599053</td>\n",
       "    </tr>\n",
       "    <tr>\n",
       "      <th>1</th>\n",
       "      <td>1.158989</td>\n",
       "      <td>141.990322</td>\n",
       "      <td>1.004354</td>\n",
       "      <td>3.907034</td>\n",
       "      <td>1.208567</td>\n",
       "      <td>1.541538</td>\n",
       "      <td>33.655676</td>\n",
       "      <td>5.730762</td>\n",
       "      <td>297.685744</td>\n",
       "      <td>2.315379</td>\n",
       "      <td>823.007022</td>\n",
       "    </tr>\n",
       "    <tr>\n",
       "      <th>2</th>\n",
       "      <td>1.057031</td>\n",
       "      <td>153.239053</td>\n",
       "      <td>1.000000</td>\n",
       "      <td>4.389498</td>\n",
       "      <td>3.067432</td>\n",
       "      <td>0.437429</td>\n",
       "      <td>14.033009</td>\n",
       "      <td>5.543470</td>\n",
       "      <td>294.419512</td>\n",
       "      <td>2.154872</td>\n",
       "      <td>742.604171</td>\n",
       "    </tr>\n",
       "    <tr>\n",
       "      <th>3</th>\n",
       "      <td>1.048539</td>\n",
       "      <td>153.703659</td>\n",
       "      <td>1.002759</td>\n",
       "      <td>4.429972</td>\n",
       "      <td>2.999373</td>\n",
       "      <td>1.471822</td>\n",
       "      <td>17.151344</td>\n",
       "      <td>5.895273</td>\n",
       "      <td>280.092249</td>\n",
       "      <td>2.415559</td>\n",
       "      <td>911.877806</td>\n",
       "    </tr>\n",
       "    <tr>\n",
       "      <th>4</th>\n",
       "      <td>1.199059</td>\n",
       "      <td>187.299651</td>\n",
       "      <td>1.000000</td>\n",
       "      <td>4.017189</td>\n",
       "      <td>4.070201</td>\n",
       "      <td>0.553199</td>\n",
       "      <td>25.118632</td>\n",
       "      <td>5.601638</td>\n",
       "      <td>320.387453</td>\n",
       "      <td>2.274404</td>\n",
       "      <td>742.160602</td>\n",
       "    </tr>\n",
       "    <tr>\n",
       "      <th>5</th>\n",
       "      <td>1.441886</td>\n",
       "      <td>201.088796</td>\n",
       "      <td>1.173003</td>\n",
       "      <td>4.057594</td>\n",
       "      <td>3.136163</td>\n",
       "      <td>2.934798</td>\n",
       "      <td>34.994341</td>\n",
       "      <td>5.362999</td>\n",
       "      <td>254.068831</td>\n",
       "      <td>2.024560</td>\n",
       "      <td>892.571511</td>\n",
       "    </tr>\n",
       "  </tbody>\n",
       "</table>\n",
       "</div>"
      ],
      "text/plain": [
       "       nb_items_total  montant_total  nb_commande  mean_review_score  \\\n",
       "label                                                                  \n",
       "0            1.194525     151.215707     1.020810           3.857055   \n",
       "1            1.158989     141.990322     1.004354           3.907034   \n",
       "2            1.057031     153.239053     1.000000           4.389498   \n",
       "3            1.048539     153.703659     1.002759           4.429972   \n",
       "4            1.199059     187.299651     1.000000           4.017189   \n",
       "5            1.441886     201.088796     1.173003           4.057594   \n",
       "\n",
       "       mean_payment_installments  mean_length_comment_title  \\\n",
       "label                                                         \n",
       "0                       2.790698                   1.363330   \n",
       "1                       1.208567                   1.541538   \n",
       "2                       3.067432                   0.437429   \n",
       "3                       2.999373                   1.471822   \n",
       "4                       4.070201                   0.553199   \n",
       "5                       3.136163                   2.934798   \n",
       "\n",
       "       mean_length_comment_message  mean_distance     recence  \\\n",
       "label                                                           \n",
       "0                        42.750576       5.374977  312.669650   \n",
       "1                        33.655676       5.730762  297.685744   \n",
       "2                        14.033009       5.543470  294.419512   \n",
       "3                        17.151344       5.895273  280.092249   \n",
       "4                        25.118632       5.601638  320.387453   \n",
       "5                        34.994341       5.362999  254.068831   \n",
       "\n",
       "       med_product_photos_qty  med_product_description_lenght  \n",
       "label                                                          \n",
       "0                    2.127620                      567.599053  \n",
       "1                    2.315379                      823.007022  \n",
       "2                    2.154872                      742.604171  \n",
       "3                    2.415559                      911.877806  \n",
       "4                    2.274404                      742.160602  \n",
       "5                    2.024560                      892.571511  "
      ]
     },
     "execution_count": 63,
     "metadata": {},
     "output_type": "execute_result"
    }
   ],
   "source": [
    "result = df.groupby(['label']).mean()\n",
    "result"
   ]
  },
  {
   "cell_type": "code",
   "execution_count": 66,
   "metadata": {},
   "outputs": [
    {
     "data": {
      "application/vnd.plotly.v1+json": {
       "config": {
        "plotlyServerURL": "https://plot.ly"
       },
       "data": [
        {
         "fill": "toself",
         "name": "cluster #0",
         "r": [
          1.1945252480047737,
          151.21570672036995,
          1.0208100246140077,
          3.857054772382586,
          2.790697645508565,
          1.3633301011909202,
          42.75057556997589,
          5.374976765929847,
          312.6696501827404,
          2.1276199000522116,
          567.5990527336467
         ],
         "theta": [
          "nb_items_total",
          "montant_total",
          "nb_commande",
          "mean_review_score",
          "mean_payment_installments",
          "mean_length_comment_title",
          "mean_length_comment_message",
          "mean_distance",
          "recence",
          "med_product_photos_qty",
          "med_product_description_lenght"
         ],
         "type": "scatterpolar"
        },
        {
         "fill": "toself",
         "name": "cluster #1",
         "r": [
          1.1589887640449439,
          141.99032233146067,
          1.0043539325842696,
          3.9070341760299625,
          1.208567415730337,
          1.5415379213483147,
          33.65567649812734,
          5.730762363601412,
          297.68574438202245,
          2.315379213483146,
          823.0070224719101
         ],
         "theta": [
          "nb_items_total",
          "montant_total",
          "nb_commande",
          "mean_review_score",
          "mean_payment_installments",
          "mean_length_comment_title",
          "mean_length_comment_message",
          "mean_distance",
          "recence",
          "med_product_photos_qty",
          "med_product_description_lenght"
         ],
         "type": "scatterpolar"
        },
        {
         "fill": "toself",
         "name": "cluster #2",
         "r": [
          1.0570314266335066,
          153.239052679177,
          1,
          4.389498078227447,
          3.0674316075062174,
          0.4374293465973321,
          14.03300926972643,
          5.543470188980532,
          294.4195116436808,
          2.1548722586479765,
          742.6041713768935
         ],
         "theta": [
          "nb_items_total",
          "montant_total",
          "nb_commande",
          "mean_review_score",
          "mean_payment_installments",
          "mean_length_comment_title",
          "mean_length_comment_message",
          "mean_distance",
          "recence",
          "med_product_photos_qty",
          "med_product_description_lenght"
         ],
         "type": "scatterpolar"
        },
        {
         "fill": "toself",
         "name": "cluster #3",
         "r": [
          1.0485388185124795,
          153.70365922488398,
          1.002759312680296,
          4.429971988795518,
          2.999372883481751,
          1.4718215644466743,
          17.151344119737445,
          5.895273106303382,
          280.09224883983444,
          2.4155587608177598,
          911.8778063464192
         ],
         "theta": [
          "nb_items_total",
          "montant_total",
          "nb_commande",
          "mean_review_score",
          "mean_payment_installments",
          "mean_length_comment_title",
          "mean_length_comment_message",
          "mean_distance",
          "recence",
          "med_product_photos_qty",
          "med_product_description_lenght"
         ],
         "type": "scatterpolar"
        },
        {
         "fill": "toself",
         "name": "cluster #4",
         "r": [
          1.1990589711417816,
          187.29965119196987,
          1,
          4.017189460476788,
          4.070200752823086,
          0.5531994981179423,
          25.118632371392724,
          5.601637682886351,
          320.3874529485571,
          2.274404015056462,
          742.1606022584692
         ],
         "theta": [
          "nb_items_total",
          "montant_total",
          "nb_commande",
          "mean_review_score",
          "mean_payment_installments",
          "mean_length_comment_title",
          "mean_length_comment_message",
          "mean_distance",
          "recence",
          "med_product_photos_qty",
          "med_product_description_lenght"
         ],
         "type": "scatterpolar"
        },
        {
         "fill": "toself",
         "name": "cluster #5",
         "r": [
          1.441885685123756,
          201.08879561112528,
          1.173003317172748,
          4.057594057440958,
          3.136162600193603,
          2.9347981141933683,
          34.99434060559666,
          5.362998869317163,
          254.0688313345241,
          2.024559836693034,
          892.5715105894361
         ],
         "theta": [
          "nb_items_total",
          "montant_total",
          "nb_commande",
          "mean_review_score",
          "mean_payment_installments",
          "mean_length_comment_title",
          "mean_length_comment_message",
          "mean_distance",
          "recence",
          "med_product_photos_qty",
          "med_product_description_lenght"
         ],
         "type": "scatterpolar"
        }
       ],
       "layout": {
        "polar": {
         "radialaxis": {
          "range": [
           0,
           5
          ],
          "visible": true
         }
        },
        "showlegend": true,
        "template": {
         "data": {
          "bar": [
           {
            "error_x": {
             "color": "#2a3f5f"
            },
            "error_y": {
             "color": "#2a3f5f"
            },
            "marker": {
             "line": {
              "color": "#E5ECF6",
              "width": 0.5
             },
             "pattern": {
              "fillmode": "overlay",
              "size": 10,
              "solidity": 0.2
             }
            },
            "type": "bar"
           }
          ],
          "barpolar": [
           {
            "marker": {
             "line": {
              "color": "#E5ECF6",
              "width": 0.5
             },
             "pattern": {
              "fillmode": "overlay",
              "size": 10,
              "solidity": 0.2
             }
            },
            "type": "barpolar"
           }
          ],
          "carpet": [
           {
            "aaxis": {
             "endlinecolor": "#2a3f5f",
             "gridcolor": "white",
             "linecolor": "white",
             "minorgridcolor": "white",
             "startlinecolor": "#2a3f5f"
            },
            "baxis": {
             "endlinecolor": "#2a3f5f",
             "gridcolor": "white",
             "linecolor": "white",
             "minorgridcolor": "white",
             "startlinecolor": "#2a3f5f"
            },
            "type": "carpet"
           }
          ],
          "choropleth": [
           {
            "colorbar": {
             "outlinewidth": 0,
             "ticks": ""
            },
            "type": "choropleth"
           }
          ],
          "contour": [
           {
            "colorbar": {
             "outlinewidth": 0,
             "ticks": ""
            },
            "colorscale": [
             [
              0,
              "#0d0887"
             ],
             [
              0.1111111111111111,
              "#46039f"
             ],
             [
              0.2222222222222222,
              "#7201a8"
             ],
             [
              0.3333333333333333,
              "#9c179e"
             ],
             [
              0.4444444444444444,
              "#bd3786"
             ],
             [
              0.5555555555555556,
              "#d8576b"
             ],
             [
              0.6666666666666666,
              "#ed7953"
             ],
             [
              0.7777777777777778,
              "#fb9f3a"
             ],
             [
              0.8888888888888888,
              "#fdca26"
             ],
             [
              1,
              "#f0f921"
             ]
            ],
            "type": "contour"
           }
          ],
          "contourcarpet": [
           {
            "colorbar": {
             "outlinewidth": 0,
             "ticks": ""
            },
            "type": "contourcarpet"
           }
          ],
          "heatmap": [
           {
            "colorbar": {
             "outlinewidth": 0,
             "ticks": ""
            },
            "colorscale": [
             [
              0,
              "#0d0887"
             ],
             [
              0.1111111111111111,
              "#46039f"
             ],
             [
              0.2222222222222222,
              "#7201a8"
             ],
             [
              0.3333333333333333,
              "#9c179e"
             ],
             [
              0.4444444444444444,
              "#bd3786"
             ],
             [
              0.5555555555555556,
              "#d8576b"
             ],
             [
              0.6666666666666666,
              "#ed7953"
             ],
             [
              0.7777777777777778,
              "#fb9f3a"
             ],
             [
              0.8888888888888888,
              "#fdca26"
             ],
             [
              1,
              "#f0f921"
             ]
            ],
            "type": "heatmap"
           }
          ],
          "heatmapgl": [
           {
            "colorbar": {
             "outlinewidth": 0,
             "ticks": ""
            },
            "colorscale": [
             [
              0,
              "#0d0887"
             ],
             [
              0.1111111111111111,
              "#46039f"
             ],
             [
              0.2222222222222222,
              "#7201a8"
             ],
             [
              0.3333333333333333,
              "#9c179e"
             ],
             [
              0.4444444444444444,
              "#bd3786"
             ],
             [
              0.5555555555555556,
              "#d8576b"
             ],
             [
              0.6666666666666666,
              "#ed7953"
             ],
             [
              0.7777777777777778,
              "#fb9f3a"
             ],
             [
              0.8888888888888888,
              "#fdca26"
             ],
             [
              1,
              "#f0f921"
             ]
            ],
            "type": "heatmapgl"
           }
          ],
          "histogram": [
           {
            "marker": {
             "pattern": {
              "fillmode": "overlay",
              "size": 10,
              "solidity": 0.2
             }
            },
            "type": "histogram"
           }
          ],
          "histogram2d": [
           {
            "colorbar": {
             "outlinewidth": 0,
             "ticks": ""
            },
            "colorscale": [
             [
              0,
              "#0d0887"
             ],
             [
              0.1111111111111111,
              "#46039f"
             ],
             [
              0.2222222222222222,
              "#7201a8"
             ],
             [
              0.3333333333333333,
              "#9c179e"
             ],
             [
              0.4444444444444444,
              "#bd3786"
             ],
             [
              0.5555555555555556,
              "#d8576b"
             ],
             [
              0.6666666666666666,
              "#ed7953"
             ],
             [
              0.7777777777777778,
              "#fb9f3a"
             ],
             [
              0.8888888888888888,
              "#fdca26"
             ],
             [
              1,
              "#f0f921"
             ]
            ],
            "type": "histogram2d"
           }
          ],
          "histogram2dcontour": [
           {
            "colorbar": {
             "outlinewidth": 0,
             "ticks": ""
            },
            "colorscale": [
             [
              0,
              "#0d0887"
             ],
             [
              0.1111111111111111,
              "#46039f"
             ],
             [
              0.2222222222222222,
              "#7201a8"
             ],
             [
              0.3333333333333333,
              "#9c179e"
             ],
             [
              0.4444444444444444,
              "#bd3786"
             ],
             [
              0.5555555555555556,
              "#d8576b"
             ],
             [
              0.6666666666666666,
              "#ed7953"
             ],
             [
              0.7777777777777778,
              "#fb9f3a"
             ],
             [
              0.8888888888888888,
              "#fdca26"
             ],
             [
              1,
              "#f0f921"
             ]
            ],
            "type": "histogram2dcontour"
           }
          ],
          "mesh3d": [
           {
            "colorbar": {
             "outlinewidth": 0,
             "ticks": ""
            },
            "type": "mesh3d"
           }
          ],
          "parcoords": [
           {
            "line": {
             "colorbar": {
              "outlinewidth": 0,
              "ticks": ""
             }
            },
            "type": "parcoords"
           }
          ],
          "pie": [
           {
            "automargin": true,
            "type": "pie"
           }
          ],
          "scatter": [
           {
            "fillpattern": {
             "fillmode": "overlay",
             "size": 10,
             "solidity": 0.2
            },
            "type": "scatter"
           }
          ],
          "scatter3d": [
           {
            "line": {
             "colorbar": {
              "outlinewidth": 0,
              "ticks": ""
             }
            },
            "marker": {
             "colorbar": {
              "outlinewidth": 0,
              "ticks": ""
             }
            },
            "type": "scatter3d"
           }
          ],
          "scattercarpet": [
           {
            "marker": {
             "colorbar": {
              "outlinewidth": 0,
              "ticks": ""
             }
            },
            "type": "scattercarpet"
           }
          ],
          "scattergeo": [
           {
            "marker": {
             "colorbar": {
              "outlinewidth": 0,
              "ticks": ""
             }
            },
            "type": "scattergeo"
           }
          ],
          "scattergl": [
           {
            "marker": {
             "colorbar": {
              "outlinewidth": 0,
              "ticks": ""
             }
            },
            "type": "scattergl"
           }
          ],
          "scattermapbox": [
           {
            "marker": {
             "colorbar": {
              "outlinewidth": 0,
              "ticks": ""
             }
            },
            "type": "scattermapbox"
           }
          ],
          "scatterpolar": [
           {
            "marker": {
             "colorbar": {
              "outlinewidth": 0,
              "ticks": ""
             }
            },
            "type": "scatterpolar"
           }
          ],
          "scatterpolargl": [
           {
            "marker": {
             "colorbar": {
              "outlinewidth": 0,
              "ticks": ""
             }
            },
            "type": "scatterpolargl"
           }
          ],
          "scatterternary": [
           {
            "marker": {
             "colorbar": {
              "outlinewidth": 0,
              "ticks": ""
             }
            },
            "type": "scatterternary"
           }
          ],
          "surface": [
           {
            "colorbar": {
             "outlinewidth": 0,
             "ticks": ""
            },
            "colorscale": [
             [
              0,
              "#0d0887"
             ],
             [
              0.1111111111111111,
              "#46039f"
             ],
             [
              0.2222222222222222,
              "#7201a8"
             ],
             [
              0.3333333333333333,
              "#9c179e"
             ],
             [
              0.4444444444444444,
              "#bd3786"
             ],
             [
              0.5555555555555556,
              "#d8576b"
             ],
             [
              0.6666666666666666,
              "#ed7953"
             ],
             [
              0.7777777777777778,
              "#fb9f3a"
             ],
             [
              0.8888888888888888,
              "#fdca26"
             ],
             [
              1,
              "#f0f921"
             ]
            ],
            "type": "surface"
           }
          ],
          "table": [
           {
            "cells": {
             "fill": {
              "color": "#EBF0F8"
             },
             "line": {
              "color": "white"
             }
            },
            "header": {
             "fill": {
              "color": "#C8D4E3"
             },
             "line": {
              "color": "white"
             }
            },
            "type": "table"
           }
          ]
         },
         "layout": {
          "annotationdefaults": {
           "arrowcolor": "#2a3f5f",
           "arrowhead": 0,
           "arrowwidth": 1
          },
          "autotypenumbers": "strict",
          "coloraxis": {
           "colorbar": {
            "outlinewidth": 0,
            "ticks": ""
           }
          },
          "colorscale": {
           "diverging": [
            [
             0,
             "#8e0152"
            ],
            [
             0.1,
             "#c51b7d"
            ],
            [
             0.2,
             "#de77ae"
            ],
            [
             0.3,
             "#f1b6da"
            ],
            [
             0.4,
             "#fde0ef"
            ],
            [
             0.5,
             "#f7f7f7"
            ],
            [
             0.6,
             "#e6f5d0"
            ],
            [
             0.7,
             "#b8e186"
            ],
            [
             0.8,
             "#7fbc41"
            ],
            [
             0.9,
             "#4d9221"
            ],
            [
             1,
             "#276419"
            ]
           ],
           "sequential": [
            [
             0,
             "#0d0887"
            ],
            [
             0.1111111111111111,
             "#46039f"
            ],
            [
             0.2222222222222222,
             "#7201a8"
            ],
            [
             0.3333333333333333,
             "#9c179e"
            ],
            [
             0.4444444444444444,
             "#bd3786"
            ],
            [
             0.5555555555555556,
             "#d8576b"
            ],
            [
             0.6666666666666666,
             "#ed7953"
            ],
            [
             0.7777777777777778,
             "#fb9f3a"
            ],
            [
             0.8888888888888888,
             "#fdca26"
            ],
            [
             1,
             "#f0f921"
            ]
           ],
           "sequentialminus": [
            [
             0,
             "#0d0887"
            ],
            [
             0.1111111111111111,
             "#46039f"
            ],
            [
             0.2222222222222222,
             "#7201a8"
            ],
            [
             0.3333333333333333,
             "#9c179e"
            ],
            [
             0.4444444444444444,
             "#bd3786"
            ],
            [
             0.5555555555555556,
             "#d8576b"
            ],
            [
             0.6666666666666666,
             "#ed7953"
            ],
            [
             0.7777777777777778,
             "#fb9f3a"
            ],
            [
             0.8888888888888888,
             "#fdca26"
            ],
            [
             1,
             "#f0f921"
            ]
           ]
          },
          "colorway": [
           "#636efa",
           "#EF553B",
           "#00cc96",
           "#ab63fa",
           "#FFA15A",
           "#19d3f3",
           "#FF6692",
           "#B6E880",
           "#FF97FF",
           "#FECB52"
          ],
          "font": {
           "color": "#2a3f5f"
          },
          "geo": {
           "bgcolor": "white",
           "lakecolor": "white",
           "landcolor": "#E5ECF6",
           "showlakes": true,
           "showland": true,
           "subunitcolor": "white"
          },
          "hoverlabel": {
           "align": "left"
          },
          "hovermode": "closest",
          "mapbox": {
           "style": "light"
          },
          "paper_bgcolor": "white",
          "plot_bgcolor": "#E5ECF6",
          "polar": {
           "angularaxis": {
            "gridcolor": "white",
            "linecolor": "white",
            "ticks": ""
           },
           "bgcolor": "#E5ECF6",
           "radialaxis": {
            "gridcolor": "white",
            "linecolor": "white",
            "ticks": ""
           }
          },
          "scene": {
           "xaxis": {
            "backgroundcolor": "#E5ECF6",
            "gridcolor": "white",
            "gridwidth": 2,
            "linecolor": "white",
            "showbackground": true,
            "ticks": "",
            "zerolinecolor": "white"
           },
           "yaxis": {
            "backgroundcolor": "#E5ECF6",
            "gridcolor": "white",
            "gridwidth": 2,
            "linecolor": "white",
            "showbackground": true,
            "ticks": "",
            "zerolinecolor": "white"
           },
           "zaxis": {
            "backgroundcolor": "#E5ECF6",
            "gridcolor": "white",
            "gridwidth": 2,
            "linecolor": "white",
            "showbackground": true,
            "ticks": "",
            "zerolinecolor": "white"
           }
          },
          "shapedefaults": {
           "line": {
            "color": "#2a3f5f"
           }
          },
          "ternary": {
           "aaxis": {
            "gridcolor": "white",
            "linecolor": "white",
            "ticks": ""
           },
           "baxis": {
            "gridcolor": "white",
            "linecolor": "white",
            "ticks": ""
           },
           "bgcolor": "#E5ECF6",
           "caxis": {
            "gridcolor": "white",
            "linecolor": "white",
            "ticks": ""
           }
          },
          "title": {
           "x": 0.05
          },
          "xaxis": {
           "automargin": true,
           "gridcolor": "white",
           "linecolor": "white",
           "ticks": "",
           "title": {
            "standoff": 15
           },
           "zerolinecolor": "white",
           "zerolinewidth": 2
          },
          "yaxis": {
           "automargin": true,
           "gridcolor": "white",
           "linecolor": "white",
           "ticks": "",
           "title": {
            "standoff": 15
           },
           "zerolinecolor": "white",
           "zerolinewidth": 2
          }
         }
        },
        "title": {
         "text": "Issues with Plotly",
         "x": 0.5
        }
       }
      }
     },
     "metadata": {},
     "output_type": "display_data"
    }
   ],
   "source": [
    "import plotly.graph_objects as go\n",
    "\n",
    "categories = result.columns\n",
    "fig = go.Figure()\n",
    "\n",
    "for g in result.index:\n",
    "    fig.add_trace(go.Scatterpolar(\n",
    "        r = result.loc[g].values,\n",
    "        theta = categories,\n",
    "        fill = 'toself',\n",
    "        name = f'cluster #{g}'\n",
    "    ))\n",
    "\n",
    "fig.update_layout(\n",
    "  polar=dict(\n",
    "    radialaxis=dict(\n",
    "      visible=True,\n",
    "      range=[0, 5] # here we can define the range\n",
    "    )),\n",
    "  showlegend=True,\n",
    "    title=\"Issues with Plotly\",\n",
    "    title_x=0.5\n",
    ")\n",
    "\n",
    "fig.show()"
   ]
  },
  {
   "cell_type": "code",
   "execution_count": 65,
   "metadata": {},
   "outputs": [
    {
     "ename": "NameError",
     "evalue": "name 'test' is not defined",
     "output_type": "error",
     "traceback": [
      "\u001b[0;31m---------------------------------------------------------------------------\u001b[0m",
      "\u001b[0;31mNameError\u001b[0m                                 Traceback (most recent call last)",
      "Cell \u001b[0;32mIn[65], line 1\u001b[0m\n\u001b[0;32m----> 1\u001b[0m test\n",
      "\u001b[0;31mNameError\u001b[0m: name 'test' is not defined"
     ]
    }
   ],
   "source": [
    "test"
   ]
  },
  {
   "cell_type": "code",
   "execution_count": null,
   "metadata": {},
   "outputs": [],
   "source": [
    "from kmodes.kprototypes import KPrototypes\n",
    "catColumnsPos = [df.columns.get_loc(col) for col in list(df.select_dtypes('object').columns)]\n",
    "\n",
    "model_Kproto = KPrototypes(n_clusters=4, init=\"Cao\", verbose=2, n_jobs=-1, n_init=8, random_state=42)\n",
    "df_std = df\n",
    "df_std[num_columns] = preprocessor.fit_transform(df[num_columns])\n",
    "model_Kproto.fit_predict(df_std, categorical = catColumnsPos)"
   ]
  },
  {
   "cell_type": "code",
   "execution_count": null,
   "metadata": {},
   "outputs": [],
   "source": [
    "centroides = pca.transform(pd.DataFrame(model_Kproto.cluster_centroids_,columns=df[num_columns+cat_columns].columns))\n",
    "plt.scatter(pca_value[:,0],pca_value[:,1],c=model_Kproto.labels_,marker=\".\",s=10)\n",
    "for center in centroides:\n",
    "    plt.scatter(center[0],center[1],marker='x',c='r',s=20)"
   ]
  }
 ],
 "metadata": {
  "kernelspec": {
   "display_name": "client",
   "language": "python",
   "name": "python3"
  },
  "language_info": {
   "codemirror_mode": {
    "name": "ipython",
    "version": 3
   },
   "file_extension": ".py",
   "mimetype": "text/x-python",
   "name": "python",
   "nbconvert_exporter": "python",
   "pygments_lexer": "ipython3",
   "version": "3.10.9"
  },
  "orig_nbformat": 4,
  "vscode": {
   "interpreter": {
    "hash": "fac8336b4023db0dd2de0d497a22458410b3d75ee45ffeba42d3464a936c51da"
   }
  }
 },
 "nbformat": 4,
 "nbformat_minor": 2
}
