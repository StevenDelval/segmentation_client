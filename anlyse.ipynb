{
 "cells": [
  {
   "cell_type": "code",
   "execution_count": 12,
   "metadata": {},
   "outputs": [],
   "source": [
    "import pandas as pd\n",
    "import numpy as np\n",
    "import matplotlib.pyplot as plt\n",
    "import seaborn as sns\n",
    "\n",
    "pd.options.display.max_rows = 150\n",
    "pd.options.display.max_columns = 150\n",
    "pd.options.display.max_info_columns = 150\n",
    "pd.options.display.max_info_rows = 150"
   ]
  },
  {
   "cell_type": "code",
   "execution_count": 13,
   "metadata": {},
   "outputs": [],
   "source": [
    "df_olist_customers_dataset = pd.read_csv(\"data/olist_customers_dataset.csv\")\n",
    "df_olist_order_items_dataset = pd.read_csv(\"data/olist_order_items_dataset.csv\")\n",
    "df_olist_order_payments_dataset = pd.read_csv(\"data/olist_order_payments_dataset.csv\")\n",
    "df_olist_order_reviews_dataset = pd.read_csv(\"data/olist_order_reviews_dataset.csv\")\n",
    "df_olist_orders_dataset = pd.read_csv(\"data/olist_orders_dataset.csv\")\n",
    "df_olist_products_dataset = pd.read_csv(\"data/olist_products_dataset.csv\")\n",
    "df_olist_sellers_dataset = pd.read_csv(\"data/olist_sellers_dataset.csv\")\n",
    "df_product_category_name_translation = pd.read_csv(\"data/product_category_name_translation.csv\")\n",
    "\n",
    "#df_olist_geolocation_dataset = pd.read_csv(\"data/olist_geolocation_dataset.csv\")"
   ]
  },
  {
   "cell_type": "code",
   "execution_count": 14,
   "metadata": {},
   "outputs": [],
   "source": [
    "df_merge = df_olist_orders_dataset.merge(df_olist_order_reviews_dataset,how=\"outer\",on=\"order_id\")"
   ]
  },
  {
   "cell_type": "code",
   "execution_count": 15,
   "metadata": {},
   "outputs": [],
   "source": [
    "df_merge = df_merge.merge(df_olist_order_payments_dataset,how=\"outer\",on=\"order_id\")"
   ]
  },
  {
   "cell_type": "code",
   "execution_count": 16,
   "metadata": {},
   "outputs": [],
   "source": [
    "df_merge = df_merge.merge(df_olist_order_items_dataset,how=\"outer\",on=\"order_id\")"
   ]
  },
  {
   "cell_type": "code",
   "execution_count": 17,
   "metadata": {},
   "outputs": [],
   "source": [
    "df_merge = df_merge.merge(df_olist_customers_dataset,how=\"outer\",on=\"customer_id\")"
   ]
  },
  {
   "cell_type": "code",
   "execution_count": 18,
   "metadata": {},
   "outputs": [],
   "source": [
    "df_merge = df_merge.merge(df_olist_products_dataset,how=\"outer\",on=\"product_id\")"
   ]
  },
  {
   "cell_type": "code",
   "execution_count": 19,
   "metadata": {},
   "outputs": [],
   "source": [
    "df_merge = df_merge.merge(df_olist_sellers_dataset,how=\"outer\",on=\"seller_id\")"
   ]
  },
  {
   "cell_type": "code",
   "execution_count": 20,
   "metadata": {},
   "outputs": [],
   "source": [
    "df_merge = df_merge.merge(df_product_category_name_translation,how=\"outer\",on=\"product_category_name\")"
   ]
  },
  {
   "cell_type": "code",
   "execution_count": 21,
   "metadata": {},
   "outputs": [
    {
     "data": {
      "text/plain": [
       "Index(['order_id', 'customer_id', 'order_status', 'order_purchase_timestamp',\n",
       "       'order_approved_at', 'order_delivered_carrier_date',\n",
       "       'order_delivered_customer_date', 'order_estimated_delivery_date',\n",
       "       'review_id', 'review_score', 'review_comment_title',\n",
       "       'review_comment_message', 'review_creation_date',\n",
       "       'review_answer_timestamp', 'payment_sequential', 'payment_type',\n",
       "       'payment_installments', 'payment_value', 'order_item_id', 'product_id',\n",
       "       'seller_id', 'shipping_limit_date', 'price', 'freight_value',\n",
       "       'customer_unique_id', 'customer_zip_code_prefix', 'customer_city',\n",
       "       'customer_state', 'product_category_name', 'product_name_lenght',\n",
       "       'product_description_lenght', 'product_photos_qty', 'product_weight_g',\n",
       "       'product_length_cm', 'product_height_cm', 'product_width_cm',\n",
       "       'seller_zip_code_prefix', 'seller_city', 'seller_state',\n",
       "       'product_category_name_english'],\n",
       "      dtype='object')"
      ]
     },
     "execution_count": 21,
     "metadata": {},
     "output_type": "execute_result"
    }
   ],
   "source": [
    "df_merge.columns"
   ]
  }
 ],
 "metadata": {
  "kernelspec": {
   "display_name": "client",
   "language": "python",
   "name": "python3"
  },
  "language_info": {
   "codemirror_mode": {
    "name": "ipython",
    "version": 3
   },
   "file_extension": ".py",
   "mimetype": "text/x-python",
   "name": "python",
   "nbconvert_exporter": "python",
   "pygments_lexer": "ipython3",
   "version": "3.10.9"
  },
  "orig_nbformat": 4,
  "vscode": {
   "interpreter": {
    "hash": "fac8336b4023db0dd2de0d497a22458410b3d75ee45ffeba42d3464a936c51da"
   }
  }
 },
 "nbformat": 4,
 "nbformat_minor": 2
}
