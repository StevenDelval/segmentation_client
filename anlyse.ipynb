{
 "cells": [
  {
   "cell_type": "code",
   "execution_count": 1,
   "metadata": {},
   "outputs": [],
   "source": [
    "import pandas as pd\n",
    "import numpy as np\n",
    "import matplotlib.pyplot as plt\n",
    "import seaborn as sns"
   ]
  },
  {
   "cell_type": "code",
   "execution_count": 17,
   "metadata": {},
   "outputs": [],
   "source": [
    "df_olist_customers_dataset = pd.read_csv(\"data/olist_customers_dataset.csv\")\n",
    "df_olist_order_items_dataset = pd.read_csv(\"data/olist_order_items_dataset.csv\")\n",
    "df_olist_order_payments_dataset = pd.read_csv(\"data/olist_order_payments_dataset.csv\")\n",
    "df_olist_order_reviews_dataset = pd.read_csv(\"data/olist_order_reviews_dataset.csv\")\n",
    "df_olist_orders_dataset = pd.read_csv(\"data/olist_orders_dataset.csv\")\n",
    "df_olist_products_dataset = pd.read_csv(\"data/olist_products_dataset.csv\")\n",
    "df_olist_sellers_dataset = pd.read_csv(\"data/olist_sellers_dataset.csv\")\n",
    "df_product_category_name_translation = pd.read_csv(\"data/product_category_name_translation.csv\")\n",
    "\n",
    "#df_olist_geolocation_dataset = pd.read_csv(\"data/olist_geolocation_dataset.csv\")"
   ]
  }
 ],
 "metadata": {
  "kernelspec": {
   "display_name": "client",
   "language": "python",
   "name": "python3"
  },
  "language_info": {
   "codemirror_mode": {
    "name": "ipython",
    "version": 3
   },
   "file_extension": ".py",
   "mimetype": "text/x-python",
   "name": "python",
   "nbconvert_exporter": "python",
   "pygments_lexer": "ipython3",
   "version": "3.10.9"
  },
  "orig_nbformat": 4,
  "vscode": {
   "interpreter": {
    "hash": "fac8336b4023db0dd2de0d497a22458410b3d75ee45ffeba42d3464a936c51da"
   }
  }
 },
 "nbformat": 4,
 "nbformat_minor": 2
}
