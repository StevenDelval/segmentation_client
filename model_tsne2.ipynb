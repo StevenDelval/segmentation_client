{
 "cells": [
  {
   "cell_type": "code",
   "execution_count": 1,
   "metadata": {},
   "outputs": [],
   "source": [
    "import numpy as np\n",
    "import pandas as pd\n",
    "import matplotlib.pyplot as plt\n",
    "from sklearn.cluster import KMeans\n",
    "pd.options.display.max_rows = 150\n",
    "pd.options.display.max_columns = 150"
   ]
  },
  {
   "cell_type": "code",
   "execution_count": 2,
   "metadata": {},
   "outputs": [],
   "source": [
    "df = pd.read_csv(\"data/data_merge.csv\")"
   ]
  },
  {
   "cell_type": "code",
   "execution_count": 3,
   "metadata": {},
   "outputs": [],
   "source": [
    "num_columns = [col for col in df.columns if df[col].dtype != \"object\"]\n",
    "cat_columns = [col for col in df.columns if df[col].dtype == \"object\"]"
   ]
  },
  {
   "cell_type": "code",
   "execution_count": 4,
   "metadata": {},
   "outputs": [
    {
     "name": "stdout",
     "output_type": "stream",
     "text": [
      "[t-SNE] Computing 91 nearest neighbors...\n",
      "[t-SNE] Indexed 92901 samples in 0.003s...\n",
      "[t-SNE] Computed neighbors for 92901 samples in 16.851s...\n",
      "[t-SNE] Computed conditional probabilities for sample 1000 / 92901\n",
      "[t-SNE] Computed conditional probabilities for sample 2000 / 92901\n",
      "[t-SNE] Computed conditional probabilities for sample 3000 / 92901\n",
      "[t-SNE] Computed conditional probabilities for sample 4000 / 92901\n",
      "[t-SNE] Computed conditional probabilities for sample 5000 / 92901\n",
      "[t-SNE] Computed conditional probabilities for sample 6000 / 92901\n",
      "[t-SNE] Computed conditional probabilities for sample 7000 / 92901\n",
      "[t-SNE] Computed conditional probabilities for sample 8000 / 92901\n",
      "[t-SNE] Computed conditional probabilities for sample 9000 / 92901\n",
      "[t-SNE] Computed conditional probabilities for sample 10000 / 92901\n",
      "[t-SNE] Computed conditional probabilities for sample 11000 / 92901\n",
      "[t-SNE] Computed conditional probabilities for sample 12000 / 92901\n",
      "[t-SNE] Computed conditional probabilities for sample 13000 / 92901\n",
      "[t-SNE] Computed conditional probabilities for sample 14000 / 92901\n",
      "[t-SNE] Computed conditional probabilities for sample 15000 / 92901\n",
      "[t-SNE] Computed conditional probabilities for sample 16000 / 92901\n",
      "[t-SNE] Computed conditional probabilities for sample 17000 / 92901\n",
      "[t-SNE] Computed conditional probabilities for sample 18000 / 92901\n",
      "[t-SNE] Computed conditional probabilities for sample 19000 / 92901\n",
      "[t-SNE] Computed conditional probabilities for sample 20000 / 92901\n",
      "[t-SNE] Computed conditional probabilities for sample 21000 / 92901\n",
      "[t-SNE] Computed conditional probabilities for sample 22000 / 92901\n",
      "[t-SNE] Computed conditional probabilities for sample 23000 / 92901\n",
      "[t-SNE] Computed conditional probabilities for sample 24000 / 92901\n",
      "[t-SNE] Computed conditional probabilities for sample 25000 / 92901\n",
      "[t-SNE] Computed conditional probabilities for sample 26000 / 92901\n",
      "[t-SNE] Computed conditional probabilities for sample 27000 / 92901\n",
      "[t-SNE] Computed conditional probabilities for sample 28000 / 92901\n",
      "[t-SNE] Computed conditional probabilities for sample 29000 / 92901\n",
      "[t-SNE] Computed conditional probabilities for sample 30000 / 92901\n",
      "[t-SNE] Computed conditional probabilities for sample 31000 / 92901\n",
      "[t-SNE] Computed conditional probabilities for sample 32000 / 92901\n",
      "[t-SNE] Computed conditional probabilities for sample 33000 / 92901\n",
      "[t-SNE] Computed conditional probabilities for sample 34000 / 92901\n",
      "[t-SNE] Computed conditional probabilities for sample 35000 / 92901\n",
      "[t-SNE] Computed conditional probabilities for sample 36000 / 92901\n",
      "[t-SNE] Computed conditional probabilities for sample 37000 / 92901\n",
      "[t-SNE] Computed conditional probabilities for sample 38000 / 92901\n",
      "[t-SNE] Computed conditional probabilities for sample 39000 / 92901\n",
      "[t-SNE] Computed conditional probabilities for sample 40000 / 92901\n",
      "[t-SNE] Computed conditional probabilities for sample 41000 / 92901\n",
      "[t-SNE] Computed conditional probabilities for sample 42000 / 92901\n",
      "[t-SNE] Computed conditional probabilities for sample 43000 / 92901\n",
      "[t-SNE] Computed conditional probabilities for sample 44000 / 92901\n",
      "[t-SNE] Computed conditional probabilities for sample 45000 / 92901\n",
      "[t-SNE] Computed conditional probabilities for sample 46000 / 92901\n",
      "[t-SNE] Computed conditional probabilities for sample 47000 / 92901\n",
      "[t-SNE] Computed conditional probabilities for sample 48000 / 92901\n",
      "[t-SNE] Computed conditional probabilities for sample 49000 / 92901\n",
      "[t-SNE] Computed conditional probabilities for sample 50000 / 92901\n",
      "[t-SNE] Computed conditional probabilities for sample 51000 / 92901\n",
      "[t-SNE] Computed conditional probabilities for sample 52000 / 92901\n",
      "[t-SNE] Computed conditional probabilities for sample 53000 / 92901\n",
      "[t-SNE] Computed conditional probabilities for sample 54000 / 92901\n",
      "[t-SNE] Computed conditional probabilities for sample 55000 / 92901\n",
      "[t-SNE] Computed conditional probabilities for sample 56000 / 92901\n",
      "[t-SNE] Computed conditional probabilities for sample 57000 / 92901\n",
      "[t-SNE] Computed conditional probabilities for sample 58000 / 92901\n",
      "[t-SNE] Computed conditional probabilities for sample 59000 / 92901\n",
      "[t-SNE] Computed conditional probabilities for sample 60000 / 92901\n",
      "[t-SNE] Computed conditional probabilities for sample 61000 / 92901\n",
      "[t-SNE] Computed conditional probabilities for sample 62000 / 92901\n",
      "[t-SNE] Computed conditional probabilities for sample 63000 / 92901\n",
      "[t-SNE] Computed conditional probabilities for sample 64000 / 92901\n",
      "[t-SNE] Computed conditional probabilities for sample 65000 / 92901\n",
      "[t-SNE] Computed conditional probabilities for sample 66000 / 92901\n",
      "[t-SNE] Computed conditional probabilities for sample 67000 / 92901\n",
      "[t-SNE] Computed conditional probabilities for sample 68000 / 92901\n",
      "[t-SNE] Computed conditional probabilities for sample 69000 / 92901\n",
      "[t-SNE] Computed conditional probabilities for sample 70000 / 92901\n",
      "[t-SNE] Computed conditional probabilities for sample 71000 / 92901\n",
      "[t-SNE] Computed conditional probabilities for sample 72000 / 92901\n",
      "[t-SNE] Computed conditional probabilities for sample 73000 / 92901\n",
      "[t-SNE] Computed conditional probabilities for sample 74000 / 92901\n",
      "[t-SNE] Computed conditional probabilities for sample 75000 / 92901\n",
      "[t-SNE] Computed conditional probabilities for sample 76000 / 92901\n",
      "[t-SNE] Computed conditional probabilities for sample 77000 / 92901\n",
      "[t-SNE] Computed conditional probabilities for sample 78000 / 92901\n",
      "[t-SNE] Computed conditional probabilities for sample 79000 / 92901\n",
      "[t-SNE] Computed conditional probabilities for sample 80000 / 92901\n",
      "[t-SNE] Computed conditional probabilities for sample 81000 / 92901\n",
      "[t-SNE] Computed conditional probabilities for sample 82000 / 92901\n",
      "[t-SNE] Computed conditional probabilities for sample 83000 / 92901\n",
      "[t-SNE] Computed conditional probabilities for sample 84000 / 92901\n",
      "[t-SNE] Computed conditional probabilities for sample 85000 / 92901\n",
      "[t-SNE] Computed conditional probabilities for sample 86000 / 92901\n",
      "[t-SNE] Computed conditional probabilities for sample 87000 / 92901\n",
      "[t-SNE] Computed conditional probabilities for sample 88000 / 92901\n",
      "[t-SNE] Computed conditional probabilities for sample 89000 / 92901\n",
      "[t-SNE] Computed conditional probabilities for sample 90000 / 92901\n",
      "[t-SNE] Computed conditional probabilities for sample 91000 / 92901\n",
      "[t-SNE] Computed conditional probabilities for sample 92000 / 92901\n",
      "[t-SNE] Computed conditional probabilities for sample 92901 / 92901\n",
      "[t-SNE] Mean sigma: 0.658226\n",
      "[t-SNE] Computed conditional probabilities in 3.416s\n",
      "[t-SNE] Iteration 50: error = 108.2331467, gradient norm = 0.0091789 (50 iterations in 40.937s)\n",
      "[t-SNE] Iteration 100: error = 97.5421753, gradient norm = 0.0043167 (50 iterations in 31.512s)\n",
      "[t-SNE] Iteration 150: error = 93.6728210, gradient norm = 0.0030390 (50 iterations in 27.295s)\n",
      "[t-SNE] Iteration 200: error = 91.4374313, gradient norm = 0.0023292 (50 iterations in 33.191s)\n",
      "[t-SNE] Iteration 250: error = 89.9431381, gradient norm = 0.0019222 (50 iterations in 33.290s)\n",
      "[t-SNE] KL divergence after 250 iterations with early exaggeration: 89.943138\n",
      "[t-SNE] Iteration 300: error = 4.2157707, gradient norm = 0.0041721 (50 iterations in 24.238s)\n",
      "[t-SNE] Iteration 350: error = 3.5350392, gradient norm = 0.0046171 (50 iterations in 23.866s)\n",
      "[t-SNE] Iteration 400: error = 3.1177146, gradient norm = 0.0044892 (50 iterations in 23.545s)\n",
      "[t-SNE] Iteration 450: error = 2.8404148, gradient norm = 0.0043042 (50 iterations in 21.770s)\n",
      "[t-SNE] Iteration 500: error = 2.6452436, gradient norm = 0.0040444 (50 iterations in 21.383s)\n",
      "[t-SNE] Iteration 550: error = 2.5022998, gradient norm = 0.0037139 (50 iterations in 22.985s)\n",
      "[t-SNE] Iteration 600: error = 2.3945692, gradient norm = 0.0034060 (50 iterations in 22.836s)\n",
      "[t-SNE] Iteration 650: error = 2.3101246, gradient norm = 0.0031252 (50 iterations in 23.176s)\n",
      "[t-SNE] Iteration 700: error = 2.2419577, gradient norm = 0.0028915 (50 iterations in 22.700s)\n",
      "[t-SNE] Iteration 750: error = 2.1857014, gradient norm = 0.0026997 (50 iterations in 22.537s)\n",
      "[t-SNE] Iteration 800: error = 2.1380553, gradient norm = 0.0025273 (50 iterations in 22.819s)\n",
      "[t-SNE] Iteration 850: error = 2.0970466, gradient norm = 0.0023878 (50 iterations in 22.838s)\n",
      "[t-SNE] Iteration 900: error = 2.0612826, gradient norm = 0.0022554 (50 iterations in 22.985s)\n",
      "[t-SNE] Iteration 950: error = 2.0298481, gradient norm = 0.0021349 (50 iterations in 23.011s)\n",
      "[t-SNE] Iteration 1000: error = 2.0018599, gradient norm = 0.0020348 (50 iterations in 22.933s)\n",
      "[t-SNE] KL divergence after 1000 iterations: 2.001860\n"
     ]
    }
   ],
   "source": [
    "from sklearn.compose import ColumnTransformer\n",
    "from sklearn.preprocessing import  StandardScaler,OneHotEncoder,FunctionTransformer\n",
    "from sklearn.decomposition import PCA,TruncatedSVD\n",
    "from sklearn.pipeline import Pipeline\n",
    "from sklearn.manifold import TSNE\n",
    "\n",
    "std = StandardScaler()\n",
    "ohe= OneHotEncoder(sparse_output=False)\n",
    "\n",
    "log_1p = FunctionTransformer(func=np.log1p)\n",
    "preprocessor_pca = ColumnTransformer(\n",
    "    transformers=[\n",
    "        (\"ohe\",ohe,cat_columns),\n",
    "        (\"log\",log_1p,num_columns)\n",
    "    ]\n",
    "    \n",
    ")\n",
    "tsne=Pipeline([\n",
    "     ('preprocessor', preprocessor_pca),\n",
    "     ('std', std ),\n",
    "     (\"tsne\", TSNE(n_components=2,random_state=42,verbose=2,n_jobs=-1))\n",
    "])\n",
    "\n",
    "tsne_value = tsne.fit_transform(df)"
   ]
  },
  {
   "cell_type": "code",
   "execution_count": 5,
   "metadata": {},
   "outputs": [],
   "source": [
    "import pickle\n",
    "pickle_out = open(\"tsne_com2.pkl\", \"wb\") \n",
    "pickle.dump(tsne_value, pickle_out) \n",
    "pickle_out.close()\n",
    "# pickle_in = open('tsne.pkl', 'rb') \n",
    "# tsne_value = pickle.load(pickle_in)"
   ]
  },
  {
   "cell_type": "code",
   "execution_count": null,
   "metadata": {},
   "outputs": [],
   "source": []
  },
  {
   "cell_type": "code",
   "execution_count": 6,
   "metadata": {},
   "outputs": [
    {
     "data": {
      "image/png": "[encoded data removed]",
      "text/plain": [
       "<Figure size 800x550 with 1 Axes>"
      ]
     },
     "metadata": {},
     "output_type": "display_data"
    },
    {
     "data": {
      "text/plain": [
       "<AxesSubplot: title={'center': 'Distortion Score Elbow for KMeans Clustering'}, xlabel='k', ylabel='distortion score'>"
      ]
     },
     "execution_count": 6,
     "metadata": {},
     "output_type": "execute_result"
    }
   ],
   "source": [
    "from yellowbrick.cluster import KElbowVisualizer\n",
    "visualizer = KElbowVisualizer(KMeans(n_init=10,random_state=42),metric=\"distortion\", k=(2,12),timings=False)\n",
    "\n",
    "visualizer.fit(tsne_value)        # Fit the data to the visualizer\n",
    "visualizer.show()        # Finalize and render the figure"
   ]
  },
  {
   "cell_type": "code",
   "execution_count": 7,
   "metadata": {},
   "outputs": [
    {
     "data": {
      "text/html": [
       "<style>#sk-container-id-1 {color: black;background-color: white;}#sk-container-id-1 pre{padding: 0;}#sk-container-id-1 div.sk-toggleable {background-color: white;}#sk-container-id-1 label.sk-toggleable__label {cursor: pointer;display: block;width: 100%;margin-bottom: 0;padding: 0.3em;box-sizing: border-box;text-align: center;}#sk-container-id-1 label.sk-toggleable__label-arrow:before {content: \"▸\";float: left;margin-right: 0.25em;color: #696969;}#sk-container-id-1 label.sk-toggleable__label-arrow:hover:before {color: black;}#sk-container-id-1 div.sk-estimator:hover label.sk-toggleable__label-arrow:before {color: black;}#sk-container-id-1 div.sk-toggleable__content {max-height: 0;max-width: 0;overflow: hidden;text-align: left;background-color: #f0f8ff;}#sk-container-id-1 div.sk-toggleable__content pre {margin: 0.2em;color: black;border-radius: 0.25em;background-color: #f0f8ff;}#sk-container-id-1 input.sk-toggleable__control:checked~div.sk-toggleable__content {max-height: 200px;max-width: 100%;overflow: auto;}#sk-container-id-1 input.sk-toggleable__control:checked~label.sk-toggleable__label-arrow:before {content: \"▾\";}#sk-container-id-1 div.sk-estimator input.sk-toggleable__control:checked~label.sk-toggleable__label {background-color: #d4ebff;}#sk-container-id-1 div.sk-label input.sk-toggleable__control:checked~label.sk-toggleable__label {background-color: #d4ebff;}#sk-container-id-1 input.sk-hidden--visually {border: 0;clip: rect(1px 1px 1px 1px);clip: rect(1px, 1px, 1px, 1px);height: 1px;margin: -1px;overflow: hidden;padding: 0;position: absolute;width: 1px;}#sk-container-id-1 div.sk-estimator {font-family: monospace;background-color: #f0f8ff;border: 1px dotted black;border-radius: 0.25em;box-sizing: border-box;margin-bottom: 0.5em;}#sk-container-id-1 div.sk-estimator:hover {background-color: #d4ebff;}#sk-container-id-1 div.sk-parallel-item::after {content: \"\";width: 100%;border-bottom: 1px solid gray;flex-grow: 1;}#sk-container-id-1 div.sk-label:hover label.sk-toggleable__label {background-color: #d4ebff;}#sk-container-id-1 div.sk-serial::before {content: \"\";position: absolute;border-left: 1px solid gray;box-sizing: border-box;top: 0;bottom: 0;left: 50%;z-index: 0;}#sk-container-id-1 div.sk-serial {display: flex;flex-direction: column;align-items: center;background-color: white;padding-right: 0.2em;padding-left: 0.2em;position: relative;}#sk-container-id-1 div.sk-item {position: relative;z-index: 1;}#sk-container-id-1 div.sk-parallel {display: flex;align-items: stretch;justify-content: center;background-color: white;position: relative;}#sk-container-id-1 div.sk-item::before, #sk-container-id-1 div.sk-parallel-item::before {content: \"\";position: absolute;border-left: 1px solid gray;box-sizing: border-box;top: 0;bottom: 0;left: 50%;z-index: -1;}#sk-container-id-1 div.sk-parallel-item {display: flex;flex-direction: column;z-index: 1;position: relative;background-color: white;}#sk-container-id-1 div.sk-parallel-item:first-child::after {align-self: flex-end;width: 50%;}#sk-container-id-1 div.sk-parallel-item:last-child::after {align-self: flex-start;width: 50%;}#sk-container-id-1 div.sk-parallel-item:only-child::after {width: 0;}#sk-container-id-1 div.sk-dashed-wrapped {border: 1px dashed gray;margin: 0 0.4em 0.5em 0.4em;box-sizing: border-box;padding-bottom: 0.4em;background-color: white;}#sk-container-id-1 div.sk-label label {font-family: monospace;font-weight: bold;display: inline-block;line-height: 1.2em;}#sk-container-id-1 div.sk-label-container {text-align: center;}#sk-container-id-1 div.sk-container {/* jupyter's `normalize.less` sets `[hidden] { display: none; }` but bootstrap.min.css set `[hidden] { display: none !important; }` so we also need the `!important` here to be able to override the default hidden behavior on the sphinx rendered scikit-learn.org. See: https://github.com/scikit-learn/scikit-learn/issues/21755 */display: inline-block !important;position: relative;}#sk-container-id-1 div.sk-text-repr-fallback {display: none;}</style><div id=\"sk-container-id-1\" class=\"sk-top-container\"><div class=\"sk-text-repr-fallback\"><pre>KMeans(n_clusters=6, n_init=10, random_state=42)</pre><b>In a Jupyter environment, please rerun this cell to show the HTML representation or trust the notebook. <br />On GitHub, the HTML representation is unable to render, please try loading this page with nbviewer.org.</b></div><div class=\"sk-container\" hidden><div class=\"sk-item\"><div class=\"sk-estimator sk-toggleable\"><input class=\"sk-toggleable__control sk-hidden--visually\" id=\"sk-estimator-id-1\" type=\"checkbox\" checked><label for=\"sk-estimator-id-1\" class=\"sk-toggleable__label sk-toggleable__label-arrow\">KMeans</label><div class=\"sk-toggleable__content\"><pre>KMeans(n_clusters=6, n_init=10, random_state=42)</pre></div></div></div></div></div>"
      ],
      "text/plain": [
       "KMeans(n_clusters=6, n_init=10, random_state=42)"
      ]
     },
     "execution_count": 7,
     "metadata": {},
     "output_type": "execute_result"
    }
   ],
   "source": [
    "kmeans = KMeans(n_clusters=4,n_init=10,random_state=42)\n",
    "kmeans.fit(tsne_value)"
   ]
  },
  {
   "cell_type": "code",
   "execution_count": 8,
   "metadata": {},
   "outputs": [],
   "source": [
    "df[\"label\"]=kmeans.labels_"
   ]
  },
  {
   "cell_type": "code",
   "execution_count": 9,
   "metadata": {},
   "outputs": [
    {
     "name": "stdout",
     "output_type": "stream",
     "text": [
      "{0: '#1f77b4', 1: '#ff7f0e', 2: '#2ca02c', 3: '#d62728', 4: '#9467bd', 5: '#8c564b', 6: '#e377c2', 7: '#7f7f7f', 8: '#bcbd22', 9: '#17becf'}\n"
     ]
    },
    {
     "data": {
      "image/png": "[encoded data removed]",
      "text/plain": [
       "<Figure size 800x550 with 1 Axes>"
      ]
     },
     "metadata": {},
     "output_type": "display_data"
    }
   ],
   "source": [
    "from mpl_toolkits.mplot3d import axes3d\n",
    "import matplotlib.colors as mcolors\n",
    "\n",
    "\n",
    "# Créer une liste de couleurs à partir de la palette \"Set1\" de Matplotlib\n",
    "set1_colors = list(mcolors.TABLEAU_COLORS.values())[:10]\n",
    "\n",
    "# Créer un dictionnaire pour mapper des couleurs aux valeurs de la liste\n",
    "color_dict = {i: set1_colors[i] for i in range(len(set1_colors))}\n",
    "print(color_dict)\n",
    "\n",
    "plt.scatter(tsne_value[:,0],tsne_value[:,1],marker=\".\",c=[color_dict[i] for i in df[\"label\"]])\n",
    "plt.show()"
   ]
  },
  {
   "cell_type": "code",
   "execution_count": 10,
   "metadata": {},
   "outputs": [
    {
     "name": "stderr",
     "output_type": "stream",
     "text": [
      "/tmp/ipykernel_16565/825856455.py:1: FutureWarning: The default value of numeric_only in DataFrameGroupBy.mean is deprecated. In a future version, numeric_only will default to False. Either specify numeric_only or select only columns which should be valid for the function.\n",
      "  result = df.groupby(['label']).mean()\n"
     ]
    },
    {
     "data": {
      "text/html": [
       "<div>\n",
       "<style scoped>\n",
       "    .dataframe tbody tr th:only-of-type {\n",
       "        vertical-align: middle;\n",
       "    }\n",
       "\n",
       "    .dataframe tbody tr th {\n",
       "        vertical-align: top;\n",
       "    }\n",
       "\n",
       "    .dataframe thead th {\n",
       "        text-align: right;\n",
       "    }\n",
       "</style>\n",
       "<table border=\"1\" class=\"dataframe\">\n",
       "  <thead>\n",
       "    <tr style=\"text-align: right;\">\n",
       "      <th></th>\n",
       "      <th>nb_items_total</th>\n",
       "      <th>montant_total</th>\n",
       "      <th>nb_commande</th>\n",
       "      <th>mean_review_score</th>\n",
       "      <th>mean_payment_installments</th>\n",
       "      <th>mean_length_comment_title</th>\n",
       "      <th>mean_length_comment_message</th>\n",
       "      <th>mean_distance</th>\n",
       "      <th>recence</th>\n",
       "      <th>med_product_photos_qty</th>\n",
       "      <th>med_product_description_lenght</th>\n",
       "    </tr>\n",
       "    <tr>\n",
       "      <th>label</th>\n",
       "      <th></th>\n",
       "      <th></th>\n",
       "      <th></th>\n",
       "      <th></th>\n",
       "      <th></th>\n",
       "      <th></th>\n",
       "      <th></th>\n",
       "      <th></th>\n",
       "      <th></th>\n",
       "      <th></th>\n",
       "      <th></th>\n",
       "    </tr>\n",
       "  </thead>\n",
       "  <tbody>\n",
       "    <tr>\n",
       "      <th>0</th>\n",
       "      <td>1.104005</td>\n",
       "      <td>149.285867</td>\n",
       "      <td>1.000000</td>\n",
       "      <td>4.222905</td>\n",
       "      <td>3.205200</td>\n",
       "      <td>0.936826</td>\n",
       "      <td>29.454955</td>\n",
       "      <td>5.202667</td>\n",
       "      <td>306.574443</td>\n",
       "      <td>2.104462</td>\n",
       "      <td>956.538446</td>\n",
       "    </tr>\n",
       "    <tr>\n",
       "      <th>1</th>\n",
       "      <td>1.314727</td>\n",
       "      <td>200.093698</td>\n",
       "      <td>1.134683</td>\n",
       "      <td>4.064403</td>\n",
       "      <td>2.380084</td>\n",
       "      <td>2.021918</td>\n",
       "      <td>29.774867</td>\n",
       "      <td>5.453754</td>\n",
       "      <td>273.025977</td>\n",
       "      <td>2.374942</td>\n",
       "      <td>838.748018</td>\n",
       "    </tr>\n",
       "    <tr>\n",
       "      <th>2</th>\n",
       "      <td>1.197660</td>\n",
       "      <td>158.796694</td>\n",
       "      <td>1.011046</td>\n",
       "      <td>4.033325</td>\n",
       "      <td>1.341112</td>\n",
       "      <td>1.562139</td>\n",
       "      <td>30.069046</td>\n",
       "      <td>5.899824</td>\n",
       "      <td>289.750572</td>\n",
       "      <td>2.125270</td>\n",
       "      <td>854.550428</td>\n",
       "    </tr>\n",
       "    <tr>\n",
       "      <th>3</th>\n",
       "      <td>1.080557</td>\n",
       "      <td>183.002662</td>\n",
       "      <td>1.000000</td>\n",
       "      <td>4.236601</td>\n",
       "      <td>3.738879</td>\n",
       "      <td>0.003466</td>\n",
       "      <td>20.814686</td>\n",
       "      <td>6.027684</td>\n",
       "      <td>309.046601</td>\n",
       "      <td>2.248090</td>\n",
       "      <td>738.489056</td>\n",
       "    </tr>\n",
       "    <tr>\n",
       "      <th>4</th>\n",
       "      <td>1.057814</td>\n",
       "      <td>123.140992</td>\n",
       "      <td>1.000388</td>\n",
       "      <td>4.290690</td>\n",
       "      <td>2.680662</td>\n",
       "      <td>0.667972</td>\n",
       "      <td>17.896057</td>\n",
       "      <td>5.510089</td>\n",
       "      <td>298.001489</td>\n",
       "      <td>2.463615</td>\n",
       "      <td>619.102875</td>\n",
       "    </tr>\n",
       "    <tr>\n",
       "      <th>5</th>\n",
       "      <td>1.323922</td>\n",
       "      <td>177.006160</td>\n",
       "      <td>1.055361</td>\n",
       "      <td>3.915062</td>\n",
       "      <td>4.047364</td>\n",
       "      <td>2.909301</td>\n",
       "      <td>34.726303</td>\n",
       "      <td>5.432735</td>\n",
       "      <td>280.116319</td>\n",
       "      <td>2.009657</td>\n",
       "      <td>704.629329</td>\n",
       "    </tr>\n",
       "  </tbody>\n",
       "</table>\n",
       "</div>"
      ],
      "text/plain": [
       "       nb_items_total  montant_total  nb_commande  mean_review_score  \\\n",
       "label                                                                  \n",
       "0            1.104005     149.285867     1.000000           4.222905   \n",
       "1            1.314727     200.093698     1.134683           4.064403   \n",
       "2            1.197660     158.796694     1.011046           4.033325   \n",
       "3            1.080557     183.002662     1.000000           4.236601   \n",
       "4            1.057814     123.140992     1.000388           4.290690   \n",
       "5            1.323922     177.006160     1.055361           3.915062   \n",
       "\n",
       "       mean_payment_installments  mean_length_comment_title  \\\n",
       "label                                                         \n",
       "0                       3.205200                   0.936826   \n",
       "1                       2.380084                   2.021918   \n",
       "2                       1.341112                   1.562139   \n",
       "3                       3.738879                   0.003466   \n",
       "4                       2.680662                   0.667972   \n",
       "5                       4.047364                   2.909301   \n",
       "\n",
       "       mean_length_comment_message  mean_distance     recence  \\\n",
       "label                                                           \n",
       "0                        29.454955       5.202667  306.574443   \n",
       "1                        29.774867       5.453754  273.025977   \n",
       "2                        30.069046       5.899824  289.750572   \n",
       "3                        20.814686       6.027684  309.046601   \n",
       "4                        17.896057       5.510089  298.001489   \n",
       "5                        34.726303       5.432735  280.116319   \n",
       "\n",
       "       med_product_photos_qty  med_product_description_lenght  \n",
       "label                                                          \n",
       "0                    2.104462                      956.538446  \n",
       "1                    2.374942                      838.748018  \n",
       "2                    2.125270                      854.550428  \n",
       "3                    2.248090                      738.489056  \n",
       "4                    2.463615                      619.102875  \n",
       "5                    2.009657                      704.629329  "
      ]
     },
     "execution_count": 10,
     "metadata": {},
     "output_type": "execute_result"
    }
   ],
   "source": [
    "result = df.groupby(['label']).mean()\n",
    "result"
   ]
  },
  {
   "cell_type": "code",
   "execution_count": 11,
   "metadata": {},
   "outputs": [
    {
     "data": {
      "application/vnd.plotly.v1+json": {
       "config": {
        "plotlyServerURL": "https://plot.ly"
       },
       "data": [
        {
         "fill": "toself",
         "name": "cluster #0",
         "r": [
          1.1040047037303196,
          149.28586659698175,
          1,
          4.222904553472268,
          3.205200235186516,
          0.9368262886261187,
          29.454955249232377,
          5.202666789383244,
          306.57444306526423,
          2.1044620108447116,
          956.5384464624028
         ],
         "theta": [
          "nb_items_total",
          "montant_total",
          "nb_commande",
          "mean_review_score",
          "mean_payment_installments",
          "mean_length_comment_title",
          "mean_length_comment_message",
          "mean_distance",
          "recence",
          "med_product_photos_qty",
          "med_product_description_lenght"
         ],
         "type": "scatterpolar"
        },
        {
         "fill": "toself",
         "name": "cluster #1",
         "r": [
          1.3147272363951241,
          200.09369812828882,
          1.1346832744954374,
          4.064402702842721,
          2.380084032991513,
          2.021918464315054,
          29.77486733719665,
          5.453754370204863,
          273.02597748617865,
          2.3749417171784453,
          838.7480183840671
         ],
         "theta": [
          "nb_items_total",
          "montant_total",
          "nb_commande",
          "mean_review_score",
          "mean_payment_installments",
          "mean_length_comment_title",
          "mean_length_comment_message",
          "mean_distance",
          "recence",
          "med_product_photos_qty",
          "med_product_description_lenght"
         ],
         "type": "scatterpolar"
        },
        {
         "fill": "toself",
         "name": "cluster #2",
         "r": [
          1.1976599777763253,
          158.7966939015622,
          1.0110464736257272,
          4.033324618166765,
          1.3411116194958277,
          1.5621391376342681,
          30.0690459071399,
          5.89982449777176,
          289.75057193280605,
          2.125269625465717,
          854.5504281325577
         ],
         "theta": [
          "nb_items_total",
          "montant_total",
          "nb_commande",
          "mean_review_score",
          "mean_payment_installments",
          "mean_length_comment_title",
          "mean_length_comment_message",
          "mean_distance",
          "recence",
          "med_product_photos_qty",
          "med_product_description_lenght"
         ],
         "type": "scatterpolar"
        },
        {
         "fill": "toself",
         "name": "cluster #3",
         "r": [
          1.0805571602798638,
          183.00266191668274,
          1,
          4.236600552025162,
          3.7388792605430385,
          0.0034662045060658577,
          20.814686436870147,
          6.027684379140022,
          309.0466011939149,
          2.248090378073047,
          738.489055780217
         ],
         "theta": [
          "nb_items_total",
          "montant_total",
          "nb_commande",
          "mean_review_score",
          "mean_payment_installments",
          "mean_length_comment_title",
          "mean_length_comment_message",
          "mean_distance",
          "recence",
          "med_product_photos_qty",
          "med_product_description_lenght"
         ],
         "type": "scatterpolar"
        },
        {
         "fill": "toself",
         "name": "cluster #4",
         "r": [
          1.0578143208597695,
          123.14099184254823,
          1.0003884500841642,
          4.290690146316198,
          2.680661659976693,
          0.667972290560663,
          17.896057231645734,
          5.510088764045716,
          298.001489058656,
          2.463615175449955,
          619.1028745306228
         ],
         "theta": [
          "nb_items_total",
          "montant_total",
          "nb_commande",
          "mean_review_score",
          "mean_payment_installments",
          "mean_length_comment_title",
          "mean_length_comment_message",
          "mean_distance",
          "recence",
          "med_product_photos_qty",
          "med_product_description_lenght"
         ],
         "type": "scatterpolar"
        },
        {
         "fill": "toself",
         "name": "cluster #5",
         "r": [
          1.3239220028295504,
          177.00615980808269,
          1.0553607676693118,
          3.9150622296036577,
          4.0473642123393,
          2.9093006089684446,
          34.72630251583933,
          5.432734707955313,
          280.1163191240696,
          2.009657378360091,
          704.6293289044719
         ],
         "theta": [
          "nb_items_total",
          "montant_total",
          "nb_commande",
          "mean_review_score",
          "mean_payment_installments",
          "mean_length_comment_title",
          "mean_length_comment_message",
          "mean_distance",
          "recence",
          "med_product_photos_qty",
          "med_product_description_lenght"
         ],
         "type": "scatterpolar"
        }
       ],
       "layout": {
        "polar": {
         "radialaxis": {
          "range": [
           0,
           5
          ],
          "visible": true
         }
        },
        "showlegend": true,
        "template": {
         "data": {
          "bar": [
           {
            "error_x": {
             "color": "#2a3f5f"
            },
            "error_y": {
             "color": "#2a3f5f"
            },
            "marker": {
             "line": {
              "color": "#E5ECF6",
              "width": 0.5
             },
             "pattern": {
              "fillmode": "overlay",
              "size": 10,
              "solidity": 0.2
             }
            },
            "type": "bar"
           }
          ],
          "barpolar": [
           {
            "marker": {
             "line": {
              "color": "#E5ECF6",
              "width": 0.5
             },
             "pattern": {
              "fillmode": "overlay",
              "size": 10,
              "solidity": 0.2
             }
            },
            "type": "barpolar"
           }
          ],
          "carpet": [
           {
            "aaxis": {
             "endlinecolor": "#2a3f5f",
             "gridcolor": "white",
             "linecolor": "white",
             "minorgridcolor": "white",
             "startlinecolor": "#2a3f5f"
            },
            "baxis": {
             "endlinecolor": "#2a3f5f",
             "gridcolor": "white",
             "linecolor": "white",
             "minorgridcolor": "white",
             "startlinecolor": "#2a3f5f"
            },
            "type": "carpet"
           }
          ],
          "choropleth": [
           {
            "colorbar": {
             "outlinewidth": 0,
             "ticks": ""
            },
            "type": "choropleth"
           }
          ],
          "contour": [
           {
            "colorbar": {
             "outlinewidth": 0,
             "ticks": ""
            },
            "colorscale": [
             [
              0,
              "#0d0887"
             ],
             [
              0.1111111111111111,
              "#46039f"
             ],
             [
              0.2222222222222222,
              "#7201a8"
             ],
             [
              0.3333333333333333,
              "#9c179e"
             ],
             [
              0.4444444444444444,
              "#bd3786"
             ],
             [
              0.5555555555555556,
              "#d8576b"
             ],
             [
              0.6666666666666666,
              "#ed7953"
             ],
             [
              0.7777777777777778,
              "#fb9f3a"
             ],
             [
              0.8888888888888888,
              "#fdca26"
             ],
             [
              1,
              "#f0f921"
             ]
            ],
            "type": "contour"
           }
          ],
          "contourcarpet": [
           {
            "colorbar": {
             "outlinewidth": 0,
             "ticks": ""
            },
            "type": "contourcarpet"
           }
          ],
          "heatmap": [
           {
            "colorbar": {
             "outlinewidth": 0,
             "ticks": ""
            },
            "colorscale": [
             [
              0,
              "#0d0887"
             ],
             [
              0.1111111111111111,
              "#46039f"
             ],
             [
              0.2222222222222222,
              "#7201a8"
             ],
             [
              0.3333333333333333,
              "#9c179e"
             ],
             [
              0.4444444444444444,
              "#bd3786"
             ],
             [
              0.5555555555555556,
              "#d8576b"
             ],
             [
              0.6666666666666666,
              "#ed7953"
             ],
             [
              0.7777777777777778,
              "#fb9f3a"
             ],
             [
              0.8888888888888888,
              "#fdca26"
             ],
             [
              1,
              "#f0f921"
             ]
            ],
            "type": "heatmap"
           }
          ],
          "heatmapgl": [
           {
            "colorbar": {
             "outlinewidth": 0,
             "ticks": ""
            },
            "colorscale": [
             [
              0,
              "#0d0887"
             ],
             [
              0.1111111111111111,
              "#46039f"
             ],
             [
              0.2222222222222222,
              "#7201a8"
             ],
             [
              0.3333333333333333,
              "#9c179e"
             ],
             [
              0.4444444444444444,
              "#bd3786"
             ],
             [
              0.5555555555555556,
              "#d8576b"
             ],
             [
              0.6666666666666666,
              "#ed7953"
             ],
             [
              0.7777777777777778,
              "#fb9f3a"
             ],
             [
              0.8888888888888888,
              "#fdca26"
             ],
             [
              1,
              "#f0f921"
             ]
            ],
            "type": "heatmapgl"
           }
          ],
          "histogram": [
           {
            "marker": {
             "pattern": {
              "fillmode": "overlay",
              "size": 10,
              "solidity": 0.2
             }
            },
            "type": "histogram"
           }
          ],
          "histogram2d": [
           {
            "colorbar": {
             "outlinewidth": 0,
             "ticks": ""
            },
            "colorscale": [
             [
              0,
              "#0d0887"
             ],
             [
              0.1111111111111111,
              "#46039f"
             ],
             [
              0.2222222222222222,
              "#7201a8"
             ],
             [
              0.3333333333333333,
              "#9c179e"
             ],
             [
              0.4444444444444444,
              "#bd3786"
             ],
             [
              0.5555555555555556,
              "#d8576b"
             ],
             [
              0.6666666666666666,
              "#ed7953"
             ],
             [
              0.7777777777777778,
              "#fb9f3a"
             ],
             [
              0.8888888888888888,
              "#fdca26"
             ],
             [
              1,
              "#f0f921"
             ]
            ],
            "type": "histogram2d"
           }
          ],
          "histogram2dcontour": [
           {
            "colorbar": {
             "outlinewidth": 0,
             "ticks": ""
            },
            "colorscale": [
             [
              0,
              "#0d0887"
             ],
             [
              0.1111111111111111,
              "#46039f"
             ],
             [
              0.2222222222222222,
              "#7201a8"
             ],
             [
              0.3333333333333333,
              "#9c179e"
             ],
             [
              0.4444444444444444,
              "#bd3786"
             ],
             [
              0.5555555555555556,
              "#d8576b"
             ],
             [
              0.6666666666666666,
              "#ed7953"
             ],
             [
              0.7777777777777778,
              "#fb9f3a"
             ],
             [
              0.8888888888888888,
              "#fdca26"
             ],
             [
              1,
              "#f0f921"
             ]
            ],
            "type": "histogram2dcontour"
           }
          ],
          "mesh3d": [
           {
            "colorbar": {
             "outlinewidth": 0,
             "ticks": ""
            },
            "type": "mesh3d"
           }
          ],
          "parcoords": [
           {
            "line": {
             "colorbar": {
              "outlinewidth": 0,
              "ticks": ""
             }
            },
            "type": "parcoords"
           }
          ],
          "pie": [
           {
            "automargin": true,
            "type": "pie"
           }
          ],
          "scatter": [
           {
            "fillpattern": {
             "fillmode": "overlay",
             "size": 10,
             "solidity": 0.2
            },
            "type": "scatter"
           }
          ],
          "scatter3d": [
           {
            "line": {
             "colorbar": {
              "outlinewidth": 0,
              "ticks": ""
             }
            },
            "marker": {
             "colorbar": {
              "outlinewidth": 0,
              "ticks": ""
             }
            },
            "type": "scatter3d"
           }
          ],
          "scattercarpet": [
           {
            "marker": {
             "colorbar": {
              "outlinewidth": 0,
              "ticks": ""
             }
            },
            "type": "scattercarpet"
           }
          ],
          "scattergeo": [
           {
            "marker": {
             "colorbar": {
              "outlinewidth": 0,
              "ticks": ""
             }
            },
            "type": "scattergeo"
           }
          ],
          "scattergl": [
           {
            "marker": {
             "colorbar": {
              "outlinewidth": 0,
              "ticks": ""
             }
            },
            "type": "scattergl"
           }
          ],
          "scattermapbox": [
           {
            "marker": {
             "colorbar": {
              "outlinewidth": 0,
              "ticks": ""
             }
            },
            "type": "scattermapbox"
           }
          ],
          "scatterpolar": [
           {
            "marker": {
             "colorbar": {
              "outlinewidth": 0,
              "ticks": ""
             }
            },
            "type": "scatterpolar"
           }
          ],
          "scatterpolargl": [
           {
            "marker": {
             "colorbar": {
              "outlinewidth": 0,
              "ticks": ""
             }
            },
            "type": "scatterpolargl"
           }
          ],
          "scatterternary": [
           {
            "marker": {
             "colorbar": {
              "outlinewidth": 0,
              "ticks": ""
             }
            },
            "type": "scatterternary"
           }
          ],
          "surface": [
           {
            "colorbar": {
             "outlinewidth": 0,
             "ticks": ""
            },
            "colorscale": [
             [
              0,
              "#0d0887"
             ],
             [
              0.1111111111111111,
              "#46039f"
             ],
             [
              0.2222222222222222,
              "#7201a8"
             ],
             [
              0.3333333333333333,
              "#9c179e"
             ],
             [
              0.4444444444444444,
              "#bd3786"
             ],
             [
              0.5555555555555556,
              "#d8576b"
             ],
             [
              0.6666666666666666,
              "#ed7953"
             ],
             [
              0.7777777777777778,
              "#fb9f3a"
             ],
             [
              0.8888888888888888,
              "#fdca26"
             ],
             [
              1,
              "#f0f921"
             ]
            ],
            "type": "surface"
           }
          ],
          "table": [
           {
            "cells": {
             "fill": {
              "color": "#EBF0F8"
             },
             "line": {
              "color": "white"
             }
            },
            "header": {
             "fill": {
              "color": "#C8D4E3"
             },
             "line": {
              "color": "white"
             }
            },
            "type": "table"
           }
          ]
         },
         "layout": {
          "annotationdefaults": {
           "arrowcolor": "#2a3f5f",
           "arrowhead": 0,
           "arrowwidth": 1
          },
          "autotypenumbers": "strict",
          "coloraxis": {
           "colorbar": {
            "outlinewidth": 0,
            "ticks": ""
           }
          },
          "colorscale": {
           "diverging": [
            [
             0,
             "#8e0152"
            ],
            [
             0.1,
             "#c51b7d"
            ],
            [
             0.2,
             "#de77ae"
            ],
            [
             0.3,
             "#f1b6da"
            ],
            [
             0.4,
             "#fde0ef"
            ],
            [
             0.5,
             "#f7f7f7"
            ],
            [
             0.6,
             "#e6f5d0"
            ],
            [
             0.7,
             "#b8e186"
            ],
            [
             0.8,
             "#7fbc41"
            ],
            [
             0.9,
             "#4d9221"
            ],
            [
             1,
             "#276419"
            ]
           ],
           "sequential": [
            [
             0,
             "#0d0887"
            ],
            [
             0.1111111111111111,
             "#46039f"
            ],
            [
             0.2222222222222222,
             "#7201a8"
            ],
            [
             0.3333333333333333,
             "#9c179e"
            ],
            [
             0.4444444444444444,
             "#bd3786"
            ],
            [
             0.5555555555555556,
             "#d8576b"
            ],
            [
             0.6666666666666666,
             "#ed7953"
            ],
            [
             0.7777777777777778,
             "#fb9f3a"
            ],
            [
             0.8888888888888888,
             "#fdca26"
            ],
            [
             1,
             "#f0f921"
            ]
           ],
           "sequentialminus": [
            [
             0,
             "#0d0887"
            ],
            [
             0.1111111111111111,
             "#46039f"
            ],
            [
             0.2222222222222222,
             "#7201a8"
            ],
            [
             0.3333333333333333,
             "#9c179e"
            ],
            [
             0.4444444444444444,
             "#bd3786"
            ],
            [
             0.5555555555555556,
             "#d8576b"
            ],
            [
             0.6666666666666666,
             "#ed7953"
            ],
            [
             0.7777777777777778,
             "#fb9f3a"
            ],
            [
             0.8888888888888888,
             "#fdca26"
            ],
            [
             1,
             "#f0f921"
            ]
           ]
          },
          "colorway": [
           "#636efa",
           "#EF553B",
           "#00cc96",
           "#ab63fa",
           "#FFA15A",
           "#19d3f3",
           "#FF6692",
           "#B6E880",
           "#FF97FF",
           "#FECB52"
          ],
          "font": {
           "color": "#2a3f5f"
          },
          "geo": {
           "bgcolor": "white",
           "lakecolor": "white",
           "landcolor": "#E5ECF6",
           "showlakes": true,
           "showland": true,
           "subunitcolor": "white"
          },
          "hoverlabel": {
           "align": "left"
          },
          "hovermode": "closest",
          "mapbox": {
           "style": "light"
          },
          "paper_bgcolor": "white",
          "plot_bgcolor": "#E5ECF6",
          "polar": {
           "angularaxis": {
            "gridcolor": "white",
            "linecolor": "white",
            "ticks": ""
           },
           "bgcolor": "#E5ECF6",
           "radialaxis": {
            "gridcolor": "white",
            "linecolor": "white",
            "ticks": ""
           }
          },
          "scene": {
           "xaxis": {
            "backgroundcolor": "#E5ECF6",
            "gridcolor": "white",
            "gridwidth": 2,
            "linecolor": "white",
            "showbackground": true,
            "ticks": "",
            "zerolinecolor": "white"
           },
           "yaxis": {
            "backgroundcolor": "#E5ECF6",
            "gridcolor": "white",
            "gridwidth": 2,
            "linecolor": "white",
            "showbackground": true,
            "ticks": "",
            "zerolinecolor": "white"
           },
           "zaxis": {
            "backgroundcolor": "#E5ECF6",
            "gridcolor": "white",
            "gridwidth": 2,
            "linecolor": "white",
            "showbackground": true,
            "ticks": "",
            "zerolinecolor": "white"
           }
          },
          "shapedefaults": {
           "line": {
            "color": "#2a3f5f"
           }
          },
          "ternary": {
           "aaxis": {
            "gridcolor": "white",
            "linecolor": "white",
            "ticks": ""
           },
           "baxis": {
            "gridcolor": "white",
            "linecolor": "white",
            "ticks": ""
           },
           "bgcolor": "#E5ECF6",
           "caxis": {
            "gridcolor": "white",
            "linecolor": "white",
            "ticks": ""
           }
          },
          "title": {
           "x": 0.05
          },
          "xaxis": {
           "automargin": true,
           "gridcolor": "white",
           "linecolor": "white",
           "ticks": "",
           "title": {
            "standoff": 15
           },
           "zerolinecolor": "white",
           "zerolinewidth": 2
          },
          "yaxis": {
           "automargin": true,
           "gridcolor": "white",
           "linecolor": "white",
           "ticks": "",
           "title": {
            "standoff": 15
           },
           "zerolinecolor": "white",
           "zerolinewidth": 2
          }
         }
        },
        "title": {
         "text": "Issues with Plotly",
         "x": 0.5
        }
       }
      }
     },
     "metadata": {},
     "output_type": "display_data"
    }
   ],
   "source": [
    "import plotly.graph_objects as go\n",
    "\n",
    "categories = result.columns\n",
    "fig = go.Figure()\n",
    "\n",
    "for g in result.index:\n",
    "    fig.add_trace(go.Scatterpolar(\n",
    "        r = result.loc[g].values,\n",
    "        theta = categories,\n",
    "        fill = 'toself',\n",
    "        name = f'cluster #{g}'\n",
    "    ))\n",
    "\n",
    "fig.update_layout(\n",
    "  polar=dict(\n",
    "    radialaxis=dict(\n",
    "      visible=True,\n",
    "      range=[0, 5] # here we can define the range\n",
    "    )),\n",
    "  showlegend=True,\n",
    "    title=\"Issues with Plotly\",\n",
    "    title_x=0.5\n",
    ")\n",
    "\n",
    "fig.show()"
   ]
  },
  {
   "cell_type": "code",
   "execution_count": 12,
   "metadata": {},
   "outputs": [],
   "source": [
    "from sklearn.compose import ColumnTransformer\n",
    "from sklearn.preprocessing import  StandardScaler,FunctionTransformer\n",
    "from sklearn.pipeline import Pipeline\n",
    "\n",
    "\n",
    "std = StandardScaler()\n",
    "\n",
    "log_1p = FunctionTransformer(func=np.log1p)\n",
    "preprocessor_pca = ColumnTransformer(\n",
    "    transformers=[\n",
    "        (\"log\",log_1p,num_columns)\n",
    "    ]\n",
    "    \n",
    ")\n",
    "pipe=Pipeline([\n",
    "     ('preprocessor', preprocessor_pca),\n",
    "     ('std', std )\n",
    "])\n",
    "\n"
   ]
  },
  {
   "cell_type": "code",
   "execution_count": 13,
   "metadata": {},
   "outputs": [
    {
     "name": "stdout",
     "output_type": "stream",
     "text": [
      "Initialization method and algorithm are deterministic. Setting n_init to 1.\n",
      "Init: initializing centroids\n",
      "Init: initializing centroids\n",
      "Init: initializing centroids\n",
      "Init: initializing centroids\n",
      "Init: initializing centroids\n",
      "Init: initializing centroids\n",
      "Init: initializing centroids\n",
      "Init: initializing clusters\n",
      "Init: initializing centroids\n",
      "Init: initializing clusters\n",
      "Init: initializing clusters\n",
      "Init: initializing clusters\n",
      "Init: initializing clusters\n",
      "Init: initializing clusters\n",
      "Init: initializing clusters\n",
      "Init: initializing clusters\n",
      "Starting iterations...\n",
      "Starting iterations...\n",
      "Starting iterations...\n",
      "Starting iterations...\n",
      "Starting iterations...\n",
      "Starting iterations...\n",
      "Starting iterations...\n",
      "Starting iterations...\n",
      "Run: 1, iteration: 1/100, moves: 29078, ncost: 889336.1155955697\n",
      "Run: 7, iteration: 1/100, moves: 28399, ncost: 873780.3569493832\n",
      "Run: 8, iteration: 1/100, moves: 33462, ncost: 948422.0112950098\n",
      "Run: 2, iteration: 1/100, moves: 31521, ncost: 885050.3507834056\n",
      "Run: 6, iteration: 1/100, moves: 26312, ncost: 949500.4209471252\n",
      "Run: 5, iteration: 1/100, moves: 30592, ncost: 879001.6661412701\n",
      "Run: 4, iteration: 1/100, moves: 34425, ncost: 878673.011212837\n",
      "Run: 3, iteration: 1/100, moves: 38571, ncost: 886555.150619754\n",
      "Run: 7, iteration: 2/100, moves: 9828, ncost: 858852.7482319598\n",
      "Run: 2, iteration: 2/100, moves: 13078, ncost: 859110.1303407997\n",
      "Run: 5, iteration: 2/100, moves: 15395, ncost: 859117.2587554695\n",
      "Run: 6, iteration: 2/100, moves: 15683, ncost: 908265.3070476311\n",
      "Run: 1, iteration: 2/100, moves: 14879, ncost: 863374.4626982253\n",
      "Run: 8, iteration: 2/100, moves: 14000, ncost: 933495.856185528\n",
      "Run: 3, iteration: 2/100, moves: 13246, ncost: 868718.9252054157\n",
      "Run: 4, iteration: 2/100, moves: 13178, ncost: 861088.6065445667\n",
      "Run: 7, iteration: 3/100, moves: 3563, ncost: 856732.855226311\n",
      "Run: 2, iteration: 3/100, moves: 7890, ncost: 849272.763866159\n",
      "Run: 4, iteration: 3/100, moves: 5232, ncost: 858676.731033238\n",
      "Run: 5, iteration: 3/100, moves: 6806, ncost: 853951.0571510245\n",
      "Run: 6, iteration: 3/100, moves: 8131, ncost: 894524.4672875218\n",
      "Run: 3, iteration: 3/100, moves: 7107, ncost: 861333.9379905186\n",
      "Run: 1, iteration: 3/100, moves: 9074, ncost: 854101.0597780406\n",
      "Run: 8, iteration: 3/100, moves: 8834, ncost: 927379.3496757774\n",
      "Run: 7, iteration: 4/100, moves: 2649, ncost: 855531.691055477\n",
      "Run: 2, iteration: 4/100, moves: 4758, ncost: 846762.3692459571\n",
      "Run: 4, iteration: 4/100, moves: 2739, ncost: 858058.8321712322\n",
      "Run: 5, iteration: 4/100, moves: 2491, ncost: 853295.2380929065\n",
      "Run: 6, iteration: 4/100, moves: 6870, ncost: 887673.3859571113\n",
      "Run: 3, iteration: 4/100, moves: 3981, ncost: 858819.7803385912\n",
      "Run: 8, iteration: 4/100, moves: 6628, ncost: 924249.3231514565\n",
      "Run: 1, iteration: 4/100, moves: 6297, ncost: 848604.1378894811\n",
      "Run: 7, iteration: 5/100, moves: 3599, ncost: 853018.4251167946\n",
      "Run: 2, iteration: 5/100, moves: 3022, ncost: 845766.8189532328\n",
      "Run: 4, iteration: 5/100, moves: 1552, ncost: 857869.4717394873\n",
      "Run: 5, iteration: 5/100, moves: 922, ncost: 853221.6551793581\n",
      "Run: 8, iteration: 5/100, moves: 4336, ncost: 922632.7552435787\n",
      "Run: 3, iteration: 5/100, moves: 2128, ncost: 858166.5150607384\n",
      "Run: 6, iteration: 5/100, moves: 6421, ncost: 883300.1393627226\n",
      "Run: 1, iteration: 5/100, moves: 4244, ncost: 845833.2122880849\n",
      "Run: 2, iteration: 6/100, moves: 2180, ncost: 845245.1885851079\n",
      "Run: 5, iteration: 6/100, moves: 369, ncost: 853208.790268485\n",
      "Run: 4, iteration: 6/100, moves: 1056, ncost: 857766.509918162\n",
      "Run: 7, iteration: 6/100, moves: 5100, ncost: 848293.4286694748\n",
      "Run: 8, iteration: 6/100, moves: 4669, ncost: 917577.563455095\n",
      "Run: 3, iteration: 6/100, moves: 1938, ncost: 857478.563840346\n",
      "Run: 1, iteration: 6/100, moves: 2535, ncost: 845014.6436653234\n",
      "Run: 6, iteration: 6/100, moves: 6183, ncost: 878273.187450578\n",
      "Run: 5, iteration: 7/100, moves: 174, ncost: 853206.174028357\n",
      "Run: 2, iteration: 7/100, moves: 1623, ncost: 844969.3231597982\n",
      "Run: 4, iteration: 7/100, moves: 771, ncost: 857699.5210302616\n",
      "Run: 7, iteration: 7/100, moves: 4985, ncost: 844772.6039631463\n",
      "Run: 3, iteration: 7/100, moves: 2258, ncost: 856130.3106767756\n",
      "Run: 1, iteration: 7/100, moves: 1550, ncost: 844746.6674358584\n",
      "Run: 8, iteration: 7/100, moves: 7830, ncost: 898361.4279247101\n",
      "Run: 6, iteration: 7/100, moves: 7293, ncost: 861100.2426610383\n",
      "Run: 5, iteration: 8/100, moves: 67, ncost: 853205.664540695\n",
      "Run: 2, iteration: 8/100, moves: 1282, ncost: 844804.213577513\n",
      "Run: 4, iteration: 8/100, moves: 547, ncost: 857658.2727217743\n",
      "Run: 1, iteration: 8/100, moves: 1030, ncost: 844643.0369615956\n",
      "Run: 7, iteration: 8/100, moves: 3154, ncost: 843692.3610572532\n",
      "Run: 3, iteration: 8/100, moves: 2449, ncost: 853975.8124110386\n",
      "Run: 8, iteration: 8/100, moves: 8404, ncost: 871575.5534321537\n",
      "Run: 6, iteration: 8/100, moves: 5659, ncost: 854241.2463574229\n",
      "Run: 5, iteration: 9/100, moves: 32, ncost: 853205.5294873185\n",
      "Run: 2, iteration: 9/100, moves: 961, ncost: 844708.4803869396\n",
      "Run: 4, iteration: 9/100, moves: 469, ncost: 857626.2985618884\n",
      "Run: 1, iteration: 9/100, moves: 685, ncost: 844595.6726853875\n",
      "Run: 7, iteration: 9/100, moves: 1580, ncost: 843410.2374542092\n",
      "Run: 8, iteration: 9/100, moves: 5888, ncost: 861950.6489015807\n",
      "Run: 3, iteration: 9/100, moves: 2096, ncost: 852306.4337958002\n",
      "Run: 6, iteration: 9/100, moves: 3330, ncost: 853182.7948998642\n",
      "Run: 5, iteration: 10/100, moves: 17, ncost: 853205.4578397059\n",
      "Run: 2, iteration: 10/100, moves: 717, ncost: 844652.6637259538\n",
      "Run: 4, iteration: 10/100, moves: 364, ncost: 857601.2825345309\n",
      "Run: 1, iteration: 10/100, moves: 504, ncost: 844566.4075092911\n",
      "Run: 7, iteration: 10/100, moves: 968, ncost: 843306.3702802735\n",
      "Run: 8, iteration: 10/100, moves: 4541, ncost: 857457.8233338583\n",
      "Run: 3, iteration: 10/100, moves: 1351, ncost: 851772.6345408144\n",
      "Run: 6, iteration: 10/100, moves: 1572, ncost: 852944.7695824661\n",
      "Run: 5, iteration: 11/100, moves: 13, ncost: 853205.4296922211\n",
      "Run: 2, iteration: 11/100, moves: 594, ncost: 844613.0879336941\n",
      "Run: 4, iteration: 11/100, moves: 385, ncost: 857572.6034380095\n",
      "Run: 1, iteration: 11/100, moves: 475, ncost: 844541.7808043127\n",
      "Run: 7, iteration: 11/100, moves: 566, ncost: 843273.1797741707\n",
      "Run: 3, iteration: 11/100, moves: 653, ncost: 851664.8294598999\n",
      "Run: 8, iteration: 11/100, moves: 4337, ncost: 854434.0371701949\n",
      "Run: 5, iteration: 12/100, moves: 8, ncost: 853205.4085612099\n",
      "Run: 6, iteration: 11/100, moves: 904, ncost: 852849.8898030149\n",
      "Run: 2, iteration: 12/100, moves: 507, ncost: 844580.4262567835\n",
      "Run: 4, iteration: 12/100, moves: 423, ncost: 857539.4049720586\n",
      "Run: 1, iteration: 12/100, moves: 349, ncost: 844526.7900168076\n",
      "Run: 7, iteration: 12/100, moves: 351, ncost: 843260.2723767385\n",
      "Run: 3, iteration: 12/100, moves: 324, ncost: 851644.8385106298\n",
      "Run: 8, iteration: 12/100, moves: 3811, ncost: 852603.6240931749\n",
      "Run: 6, iteration: 12/100, moves: 567, ncost: 852815.6146703679\n",
      "Run: 5, iteration: 13/100, moves: 8, ncost: 853205.3847546504\n",
      "Run: 2, iteration: 13/100, moves: 479, ncost: 844552.9001484168\n",
      "Run: 4, iteration: 13/100, moves: 395, ncost: 857511.6038543946\n",
      "Run: 1, iteration: 13/100, moves: 331, ncost: 844513.3943527424\n",
      "Run: 7, iteration: 13/100, moves: 255, ncost: 843254.2518450537\n",
      "Run: 3, iteration: 13/100, moves: 229, ncost: 851636.0702409707\n",
      "Run: 8, iteration: 13/100, moves: 2428, ncost: 852004.43324947\n",
      "Run: 6, iteration: 13/100, moves: 339, ncost: 852803.3400254213\n",
      "Run: 5, iteration: 14/100, moves: 3, ncost: 853205.3816587493\n",
      "Run: 2, iteration: 14/100, moves: 384, ncost: 844534.4165494769\n",
      "Run: 4, iteration: 14/100, moves: 353, ncost: 857487.057920325\n",
      "Run: 1, iteration: 14/100, moves: 312, ncost: 844501.1314511553\n",
      "Run: 7, iteration: 14/100, moves: 141, ncost: 843252.0276836004\n",
      "Run: 3, iteration: 14/100, moves: 168, ncost: 851630.6033898144\n",
      "Run: 8, iteration: 14/100, moves: 1503, ncost: 851777.0142189843\n",
      "Run: 6, iteration: 14/100, moves: 201, ncost: 852799.0332454332\n",
      "Run: 5, iteration: 15/100, moves: 0, ncost: 853205.3816587493\n",
      "Run: 2, iteration: 15/100, moves: 320, ncost: 844521.2628595047\n",
      "Run: 4, iteration: 15/100, moves: 389, ncost: 857459.2544050326\n",
      "Run: 1, iteration: 15/100, moves: 297, ncost: 844489.5414399331\n",
      "Run: 7, iteration: 15/100, moves: 118, ncost: 843250.421084774\n",
      "Run: 3, iteration: 15/100, moves: 167, ncost: 851626.3357551045\n",
      "Run: 6, iteration: 15/100, moves: 103, ncost: 852797.9036431683\n",
      "Run: 8, iteration: 15/100, moves: 942, ncost: 851690.940291289\n",
      "Run: 4, iteration: 16/100, moves: 403, ncost: 857427.1197290823\n",
      "Run: 2, iteration: 16/100, moves: 305, ncost: 844508.697372789\n",
      "Run: 1, iteration: 16/100, moves: 240, ncost: 844482.0466273945\n",
      "Run: 7, iteration: 16/100, moves: 71, ncost: 843249.9559232285\n",
      "Run: 3, iteration: 16/100, moves: 121, ncost: 851623.7251429559\n",
      "Run: 6, iteration: 16/100, moves: 56, ncost: 852797.5957327172\n",
      "Run: 8, iteration: 16/100, moves: 569, ncost: 851657.9357827235\n",
      "Run: 2, iteration: 17/100, moves: 287, ncost: 844497.3501590855\n",
      "Run: 4, iteration: 17/100, moves: 405, ncost: 857391.8542764606\n",
      "Run: 1, iteration: 17/100, moves: 239, ncost: 844474.5420705383\n",
      "Run: 7, iteration: 17/100, moves: 30, ncost: 843249.818406455\n",
      "Run: 3, iteration: 17/100, moves: 128, ncost: 851620.6266274384\n",
      "Run: 8, iteration: 17/100, moves: 279, ncost: 851649.070428323\n",
      "Run: 6, iteration: 17/100, moves: 18, ncost: 852797.5311033266\n",
      "Run: 2, iteration: 18/100, moves: 269, ncost: 844487.3920700275\n",
      "Run: 4, iteration: 18/100, moves: 479, ncost: 857345.7172156966\n",
      "Run: 1, iteration: 18/100, moves: 248, ncost: 844465.8837620526\n",
      "Run: 7, iteration: 18/100, moves: 33, ncost: 843249.7112887162\n",
      "Run: 3, iteration: 18/100, moves: 146, ncost: 851616.7423851523\n",
      "Run: 8, iteration: 18/100, moves: 150, ncost: 851646.0266686206\n",
      "Run: 6, iteration: 18/100, moves: 8, ncost: 852797.5095999512\n",
      "Run: 2, iteration: 19/100, moves: 224, ncost: 844480.7032450023\n",
      "Run: 4, iteration: 19/100, moves: 517, ncost: 857284.4349779361\n",
      "Run: 1, iteration: 19/100, moves: 242, ncost: 844458.5560751058\n",
      "Run: 7, iteration: 19/100, moves: 10, ncost: 843249.6899748185\n",
      "Run: 3, iteration: 19/100, moves: 141, ncost: 851611.9306281573\n",
      "Run: 6, iteration: 19/100, moves: 3, ncost: 852797.5034165507\n",
      "Run: 8, iteration: 19/100, moves: 89, ncost: 851645.0516073616\n",
      "Run: 2, iteration: 20/100, moves: 232, ncost: 844472.8841314684\n",
      "Run: 4, iteration: 20/100, moves: 727, ncost: 857158.9782335247\n",
      "Run: 1, iteration: 20/100, moves: 162, ncost: 844454.1935195212\n",
      "Run: 7, iteration: 20/100, moves: 9, ncost: 843249.6728170353\n",
      "Run: 3, iteration: 20/100, moves: 186, ncost: 851604.6843920334\n",
      "Run: 8, iteration: 20/100, moves: 51, ncost: 851644.6516448335\n",
      "Run: 6, iteration: 20/100, moves: 4, ncost: 852797.4943614748\n",
      "Run: 2, iteration: 21/100, moves: 262, ncost: 844464.013218835\n",
      "Run: 4, iteration: 21/100, moves: 1008, ncost: 856886.4036497889\n",
      "Run: 1, iteration: 21/100, moves: 193, ncost: 844448.7599103565\n",
      "Run: 7, iteration: 21/100, moves: 10, ncost: 843249.6522967377\n",
      "Run: 3, iteration: 21/100, moves: 182, ncost: 851597.7252191928\n",
      "Run: 8, iteration: 21/100, moves: 26, ncost: 851644.5673436044\n",
      "Run: 6, iteration: 21/100, moves: 2, ncost: 852797.4919061237\n",
      "Run: 2, iteration: 22/100, moves: 228, ncost: 844457.5383686628\n",
      "Run: 4, iteration: 22/100, moves: 1462, ncost: 856229.041587278\n",
      "Run: 7, iteration: 22/100, moves: 5, ncost: 843249.6435721572\n",
      "Run: 1, iteration: 22/100, moves: 175, ncost: 844444.7099723817\n",
      "Run: 3, iteration: 22/100, moves: 192, ncost: 851590.4760177742\n",
      "Run: 8, iteration: 22/100, moves: 16, ncost: 851644.5356064487\n",
      "Run: 6, iteration: 22/100, moves: 0, ncost: 852797.4919061237\n",
      "Run: 2, iteration: 23/100, moves: 194, ncost: 844452.1112283026\n",
      "Run: 4, iteration: 23/100, moves: 2188, ncost: 854767.9834051382\n",
      "Run: 7, iteration: 23/100, moves: 7, ncost: 843249.6272464946\n",
      "Run: 1, iteration: 23/100, moves: 121, ncost: 844442.6880996495\n",
      "Run: 3, iteration: 23/100, moves: 240, ncost: 851576.7715000319\n",
      "Run: 8, iteration: 23/100, moves: 5, ncost: 851644.5264812872\n",
      "Run: 2, iteration: 24/100, moves: 190, ncost: 844447.0107308701\n",
      "Run: 7, iteration: 24/100, moves: 3, ncost: 843249.6220731\n",
      "Run: 4, iteration: 24/100, moves: 2416, ncost: 852936.6033366485\n",
      "Run: 1, iteration: 24/100, moves: 89, ncost: 844441.5817913518\n",
      "Run: 8, iteration: 24/100, moves: 0, ncost: 851644.5264812872\n",
      "Run: 3, iteration: 24/100, moves: 382, ncost: 851524.0903793048\n",
      "Run: 2, iteration: 25/100, moves: 154, ncost: 844443.8596530022\n",
      "Run: 4, iteration: 25/100, moves: 2106, ncost: 851560.8893654229\n",
      "Run: 7, iteration: 25/100, moves: 3, ncost: 843249.6188111034\n",
      "Run: 3, iteration: 25/100, moves: 869, ncost: 851301.1994758572\n",
      "Run: 1, iteration: 25/100, moves: 63, ncost: 844440.9114340802\n",
      "Run: 2, iteration: 26/100, moves: 104, ncost: 844442.2882353972\n",
      "Run: 4, iteration: 26/100, moves: 1757, ncost: 850556.7098384576\n",
      "Run: 7, iteration: 26/100, moves: 0, ncost: 843249.6188111034\n",
      "Run: 3, iteration: 26/100, moves: 1526, ncost: 850710.4432866703\n",
      "Run: 1, iteration: 26/100, moves: 49, ncost: 844440.3895250921\n",
      "Run: 2, iteration: 27/100, moves: 83, ncost: 844441.3557063406\n",
      "Run: 4, iteration: 27/100, moves: 1652, ncost: 850099.8952101995\n",
      "Run: 1, iteration: 27/100, moves: 46, ncost: 844440.0612943285\n",
      "Run: 2, iteration: 28/100, moves: 65, ncost: 844440.6460904115\n",
      "Run: 3, iteration: 27/100, moves: 2571, ncost: 849321.4044685792\n",
      "Run: 4, iteration: 28/100, moves: 1031, ncost: 849767.5746415744\n",
      "Run: 2, iteration: 29/100, moves: 48, ncost: 844440.24373134\n",
      "Run: 1, iteration: 28/100, moves: 44, ncost: 844439.7233187841\n",
      "Run: 3, iteration: 28/100, moves: 3301, ncost: 847687.1867863348\n",
      "Run: 4, iteration: 29/100, moves: 1168, ncost: 847856.7997052986\n",
      "Run: 2, iteration: 30/100, moves: 45, ncost: 844439.8937165028\n",
      "Run: 1, iteration: 29/100, moves: 32, ncost: 844439.5408579835\n",
      "Run: 3, iteration: 29/100, moves: 3037, ncost: 846649.7364842051\n",
      "Run: 4, iteration: 30/100, moves: 2040, ncost: 845394.0012112848\n",
      "Run: 2, iteration: 31/100, moves: 36, ncost: 844439.6593138919\n",
      "Run: 1, iteration: 30/100, moves: 35, ncost: 844439.3631726422\n",
      "Run: 3, iteration: 30/100, moves: 2187, ncost: 846130.9119583652\n",
      "Run: 4, iteration: 31/100, moves: 1678, ncost: 844824.0395209846\n",
      "Run: 2, iteration: 32/100, moves: 29, ncost: 844439.5046408895\n",
      "Run: 1, iteration: 31/100, moves: 23, ncost: 844439.2693678634\n",
      "Run: 3, iteration: 31/100, moves: 1551, ncost: 845817.6918176527\n",
      "Run: 4, iteration: 32/100, moves: 1005, ncost: 844712.4283362917\n",
      "Run: 2, iteration: 33/100, moves: 31, ncost: 844439.3522307518\n",
      "Run: 1, iteration: 32/100, moves: 33, ncost: 844439.0798107907\n",
      "Run: 3, iteration: 32/100, moves: 1178, ncost: 845559.1110895291\n",
      "Run: 4, iteration: 33/100, moves: 716, ncost: 844653.3709784248\n",
      "Run: 2, iteration: 34/100, moves: 25, ncost: 844439.24112408\n",
      "Run: 1, iteration: 33/100, moves: 28, ncost: 844438.9155382566\n",
      "Run: 3, iteration: 33/100, moves: 1001, ncost: 845296.8955066736\n",
      "Run: 4, iteration: 34/100, moves: 571, ncost: 844615.157268433\n",
      "Run: 2, iteration: 35/100, moves: 29, ncost: 844439.0763301706\n",
      "Run: 1, iteration: 34/100, moves: 39, ncost: 844438.696221655\n",
      "Run: 3, iteration: 34/100, moves: 1012, ncost: 844996.2611346856\n",
      "Run: 4, iteration: 35/100, moves: 504, ncost: 844582.5351840757\n",
      "Run: 2, iteration: 36/100, moves: 38, ncost: 844438.8329460664\n",
      "Run: 1, iteration: 35/100, moves: 24, ncost: 844438.617053862\n",
      "Run: 3, iteration: 35/100, moves: 941, ncost: 844777.6968949537\n",
      "Run: 4, iteration: 36/100, moves: 464, ncost: 844554.764361506\n",
      "Run: 2, iteration: 37/100, moves: 34, ncost: 844438.6728955014\n",
      "Run: 1, iteration: 36/100, moves: 27, ncost: 844438.5110951763\n",
      "Run: 3, iteration: 36/100, moves: 820, ncost: 844670.9789828061\n",
      "Run: 4, iteration: 37/100, moves: 410, ncost: 844534.8214315588\n",
      "Run: 2, iteration: 38/100, moves: 20, ncost: 844438.6035314334\n",
      "Run: 1, iteration: 37/100, moves: 20, ncost: 844438.4273471286\n",
      "Run: 3, iteration: 37/100, moves: 641, ncost: 844619.4300758308\n",
      "Run: 4, iteration: 38/100, moves: 324, ncost: 844521.5988119899\n",
      "Run: 2, iteration: 39/100, moves: 24, ncost: 844438.5048290082\n",
      "Run: 1, iteration: 38/100, moves: 19, ncost: 844438.3186460562\n",
      "Run: 3, iteration: 38/100, moves: 497, ncost: 844587.4516125066\n",
      "Run: 4, iteration: 39/100, moves: 307, ncost: 844508.8368138033\n",
      "Run: 2, iteration: 40/100, moves: 18, ncost: 844438.4233902798\n",
      "Run: 1, iteration: 39/100, moves: 41, ncost: 844438.04004099\n",
      "Run: 3, iteration: 39/100, moves: 444, ncost: 844558.3785216161\n",
      "Run: 4, iteration: 40/100, moves: 289, ncost: 844497.4174035437\n",
      "Run: 2, iteration: 41/100, moves: 18, ncost: 844438.3186460572\n",
      "Run: 1, iteration: 40/100, moves: 25, ncost: 844437.9004033083\n",
      "Run: 3, iteration: 40/100, moves: 438, ncost: 844536.0639597371\n",
      "Run: 4, iteration: 41/100, moves: 271, ncost: 844487.4291807896\n",
      "Run: 2, iteration: 42/100, moves: 41, ncost: 844438.0400409902\n",
      "Run: 1, iteration: 41/100, moves: 15, ncost: 844437.8454878468\n",
      "Run: 4, iteration: 42/100, moves: 225, ncost: 844480.7032449999\n",
      "Run: 3, iteration: 41/100, moves: 316, ncost: 844522.8564185626\n",
      "Run: 2, iteration: 43/100, moves: 25, ncost: 844437.9004033084\n",
      "Run: 1, iteration: 42/100, moves: 19, ncost: 844437.6244382056\n",
      "Run: 4, iteration: 43/100, moves: 232, ncost: 844472.884131465\n",
      "Run: 3, iteration: 42/100, moves: 303, ncost: 844510.5531180208\n",
      "Run: 2, iteration: 44/100, moves: 15, ncost: 844437.8454878458\n",
      "Run: 1, iteration: 43/100, moves: 31, ncost: 844437.42422123\n",
      "Run: 4, iteration: 44/100, moves: 262, ncost: 844464.0132188388\n",
      "Run: 3, iteration: 43/100, moves: 292, ncost: 844498.9654647165\n",
      "Run: 2, iteration: 45/100, moves: 19, ncost: 844437.6244382038\n",
      "Run: 1, iteration: 44/100, moves: 42, ncost: 844437.1595815957\n",
      "Run: 4, iteration: 45/100, moves: 228, ncost: 844457.5383686624\n",
      "Run: 3, iteration: 44/100, moves: 281, ncost: 844488.250301658\n",
      "Run: 2, iteration: 46/100, moves: 31, ncost: 844437.4242212322\n",
      "Run: 1, iteration: 45/100, moves: 36, ncost: 844436.8831836053\n",
      "Run: 4, iteration: 46/100, moves: 194, ncost: 844452.1112283026\n",
      "Run: 3, iteration: 45/100, moves: 234, ncost: 844481.0884570238\n",
      "Run: 2, iteration: 47/100, moves: 42, ncost: 844437.1595815946\n",
      "Run: 1, iteration: 46/100, moves: 40, ncost: 844436.6516924765\n",
      "Run: 4, iteration: 47/100, moves: 190, ncost: 844447.0107308673\n",
      "Run: 2, iteration: 48/100, moves: 36, ncost: 844436.8831836039\n",
      "Run: 3, iteration: 46/100, moves: 238, ncost: 844473.2056648218\n",
      "Run: 1, iteration: 47/100, moves: 31, ncost: 844436.5026443648\n",
      "Run: 4, iteration: 48/100, moves: 154, ncost: 844443.8596529987\n",
      "Run: 2, iteration: 49/100, moves: 40, ncost: 844436.6516924766\n",
      "Run: 3, iteration: 47/100, moves: 258, ncost: 844464.4409615987\n",
      "Run: 1, iteration: 48/100, moves: 21, ncost: 844436.4205777516\n",
      "Run: 4, iteration: 49/100, moves: 104, ncost: 844442.2882353957\n",
      "Run: 2, iteration: 50/100, moves: 31, ncost: 844436.5026443655\n",
      "Run: 3, iteration: 48/100, moves: 234, ncost: 844457.7015427073\n",
      "Run: 1, iteration: 49/100, moves: 19, ncost: 844436.3430693665\n",
      "Run: 4, iteration: 50/100, moves: 83, ncost: 844441.3557063417\n",
      "Run: 3, iteration: 49/100, moves: 190, ncost: 844452.3624282997\n",
      "Run: 2, iteration: 51/100, moves: 21, ncost: 844436.4205777526\n",
      "Run: 4, iteration: 51/100, moves: 65, ncost: 844440.6460904118\n",
      "Run: 1, iteration: 50/100, moves: 16, ncost: 844436.291272435\n",
      "Run: 3, iteration: 50/100, moves: 185, ncost: 844447.4180925124\n",
      "Run: 2, iteration: 52/100, moves: 19, ncost: 844436.3430693649\n",
      "Run: 4, iteration: 52/100, moves: 48, ncost: 844440.2437313386\n",
      "Run: 1, iteration: 51/100, moves: 13, ncost: 844436.2649083269\n",
      "Run: 3, iteration: 51/100, moves: 163, ncost: 844443.9961239601\n",
      "Run: 2, iteration: 53/100, moves: 16, ncost: 844436.2912724342\n",
      "Run: 4, iteration: 53/100, moves: 45, ncost: 844439.8937165028\n",
      "Run: 3, iteration: 52/100, moves: 113, ncost: 844442.2677693896\n",
      "Run: 1, iteration: 52/100, moves: 9, ncost: 844436.2383633149\n",
      "Run: 2, iteration: 54/100, moves: 13, ncost: 844436.2649083262\n",
      "Run: 4, iteration: 54/100, moves: 36, ncost: 844439.65931389\n",
      "Run: 3, iteration: 53/100, moves: 79, ncost: 844441.3557063405\n",
      "Run: 1, iteration: 53/100, moves: 20, ncost: 844436.1872179415\n",
      "Run: 2, iteration: 55/100, moves: 9, ncost: 844436.2383633134\n",
      "Run: 4, iteration: 55/100, moves: 29, ncost: 844439.5046408895\n",
      "Run: 3, iteration: 54/100, moves: 65, ncost: 844440.6460904105\n",
      "Run: 1, iteration: 54/100, moves: 13, ncost: 844436.1570187415\n",
      "Run: 2, iteration: 56/100, moves: 20, ncost: 844436.1872179405\n",
      "Run: 4, iteration: 56/100, moves: 31, ncost: 844439.3522307497\n",
      "Run: 3, iteration: 55/100, moves: 48, ncost: 844440.2437313377\n",
      "Run: 1, iteration: 55/100, moves: 7, ncost: 844436.1486608637\n",
      "Run: 2, iteration: 57/100, moves: 13, ncost: 844436.1570187417\n",
      "Run: 4, iteration: 57/100, moves: 25, ncost: 844439.2411240789\n",
      "Run: 3, iteration: 56/100, moves: 45, ncost: 844439.8937165012\n",
      "Run: 1, iteration: 56/100, moves: 1, ncost: 844436.1482622555\n",
      "Run: 2, iteration: 58/100, moves: 7, ncost: 844436.1486608628\n",
      "Run: 4, iteration: 58/100, moves: 29, ncost: 844439.0763301703\n",
      "Run: 3, iteration: 57/100, moves: 36, ncost: 844439.6593138918\n",
      "Run: 1, iteration: 57/100, moves: 0, ncost: 844436.1482622555\n",
      "Run: 2, iteration: 59/100, moves: 1, ncost: 844436.1482622542\n",
      "Run: 4, iteration: 59/100, moves: 38, ncost: 844438.8329460656\n",
      "Run: 3, iteration: 58/100, moves: 29, ncost: 844439.5046408905\n",
      "Run: 2, iteration: 60/100, moves: 0, ncost: 844436.1482622542\n",
      "Run: 4, iteration: 60/100, moves: 34, ncost: 844438.6728955025\n",
      "Run: 3, iteration: 59/100, moves: 31, ncost: 844439.3522307511\n",
      "Run: 4, iteration: 61/100, moves: 20, ncost: 844438.6035314332\n",
      "Run: 3, iteration: 60/100, moves: 25, ncost: 844439.2411240791\n",
      "Run: 4, iteration: 62/100, moves: 24, ncost: 844438.504829008\n",
      "Run: 3, iteration: 61/100, moves: 29, ncost: 844439.0763301715\n",
      "Run: 4, iteration: 63/100, moves: 18, ncost: 844438.4233902787\n",
      "Run: 3, iteration: 62/100, moves: 38, ncost: 844438.8329460646\n",
      "Run: 4, iteration: 64/100, moves: 18, ncost: 844438.3186460583\n",
      "Run: 3, iteration: 63/100, moves: 34, ncost: 844438.6728954993\n",
      "Run: 4, iteration: 65/100, moves: 41, ncost: 844438.04004099\n",
      "Run: 3, iteration: 64/100, moves: 20, ncost: 844438.6035314333\n",
      "Run: 4, iteration: 66/100, moves: 25, ncost: 844437.9004033082\n",
      "Run: 3, iteration: 65/100, moves: 24, ncost: 844438.5048290086\n",
      "Run: 4, iteration: 67/100, moves: 15, ncost: 844437.8454878477\n",
      "Run: 3, iteration: 66/100, moves: 18, ncost: 844438.4233902795\n",
      "Run: 4, iteration: 68/100, moves: 19, ncost: 844437.6244382032\n",
      "Run: 3, iteration: 67/100, moves: 18, ncost: 844438.3186460572\n",
      "Run: 4, iteration: 69/100, moves: 31, ncost: 844437.4242212283\n",
      "Run: 3, iteration: 68/100, moves: 41, ncost: 844438.0400409921\n",
      "Run: 4, iteration: 70/100, moves: 42, ncost: 844437.1595815932\n",
      "Run: 3, iteration: 69/100, moves: 25, ncost: 844437.9004033094\n",
      "Run: 4, iteration: 71/100, moves: 36, ncost: 844436.8831836011\n",
      "Run: 3, iteration: 70/100, moves: 15, ncost: 844437.8454878483\n",
      "Run: 4, iteration: 72/100, moves: 40, ncost: 844436.6516924768\n",
      "Run: 3, iteration: 71/100, moves: 19, ncost: 844437.6244382024\n",
      "Run: 4, iteration: 73/100, moves: 31, ncost: 844436.5026443638\n",
      "Run: 3, iteration: 72/100, moves: 31, ncost: 844437.4242212302\n",
      "Run: 4, iteration: 74/100, moves: 21, ncost: 844436.4205777526\n",
      "Run: 3, iteration: 73/100, moves: 42, ncost: 844437.1595815965\n",
      "Run: 4, iteration: 75/100, moves: 19, ncost: 844436.3430693649\n",
      "Run: 3, iteration: 74/100, moves: 36, ncost: 844436.8831836039\n",
      "Run: 4, iteration: 76/100, moves: 16, ncost: 844436.2912724346\n",
      "Run: 3, iteration: 75/100, moves: 40, ncost: 844436.6516924787\n",
      "Run: 4, iteration: 77/100, moves: 13, ncost: 844436.264908326\n",
      "Run: 3, iteration: 76/100, moves: 31, ncost: 844436.502644366\n",
      "Run: 4, iteration: 78/100, moves: 9, ncost: 844436.2383633138\n",
      "Run: 3, iteration: 77/100, moves: 21, ncost: 844436.4205777514\n",
      "Run: 4, iteration: 79/100, moves: 20, ncost: 844436.1872179402\n",
      "Run: 3, iteration: 78/100, moves: 19, ncost: 844436.3430693658\n",
      "Run: 4, iteration: 80/100, moves: 13, ncost: 844436.1570187421\n",
      "Run: 3, iteration: 79/100, moves: 16, ncost: 844436.2912724358\n",
      "Run: 4, iteration: 81/100, moves: 7, ncost: 844436.1486608646\n",
      "Run: 3, iteration: 80/100, moves: 13, ncost: 844436.264908327\n",
      "Run: 4, iteration: 82/100, moves: 1, ncost: 844436.1482622563\n",
      "Run: 3, iteration: 81/100, moves: 9, ncost: 844436.2383633152\n",
      "Run: 4, iteration: 83/100, moves: 0, ncost: 844436.1482622563\n",
      "Run: 3, iteration: 82/100, moves: 20, ncost: 844436.1872179419\n",
      "Run: 3, iteration: 83/100, moves: 13, ncost: 844436.1570187414\n",
      "Run: 3, iteration: 84/100, moves: 7, ncost: 844436.1486608653\n",
      "Run: 3, iteration: 85/100, moves: 1, ncost: 844436.1482622563\n",
      "Run: 3, iteration: 86/100, moves: 0, ncost: 844436.1482622563\n",
      "Best run was number 7\n"
     ]
    },
    {
     "data": {
      "text/plain": [
       "array([1, 5, 0, ..., 5, 1, 5], dtype=uint16)"
      ]
     },
     "execution_count": 13,
     "metadata": {},
     "output_type": "execute_result"
    }
   ],
   "source": [
    "from kmodes.kprototypes import KPrototypes\n",
    "catColumnsPos = [df.columns.get_loc(col) for col in list(df.select_dtypes('object').columns)]\n",
    "\n",
    "model_Kproto = KPrototypes(n_clusters=6, init=\"Cao\", verbose=2, n_jobs=-1, n_init=8, random_state=42)\n",
    "df_std = df.copy()\n",
    "df_std[num_columns] = pipe.fit_transform(df[num_columns])\n",
    "model_Kproto.fit_predict(df_std, categorical = catColumnsPos)"
   ]
  },
  {
   "cell_type": "code",
   "execution_count": 14,
   "metadata": {},
   "outputs": [],
   "source": [
    "# Add the cluster to the dataframe\n",
    "df_kproto= df.copy()\n",
    "df_kproto['label'] = model_Kproto.labels_"
   ]
  },
  {
   "cell_type": "code",
   "execution_count": 15,
   "metadata": {},
   "outputs": [
    {
     "name": "stdout",
     "output_type": "stream",
     "text": [
      "{0: '#1f77b4', 1: '#ff7f0e', 2: '#2ca02c', 3: '#d62728', 4: '#9467bd', 5: '#8c564b', 6: '#e377c2', 7: '#7f7f7f', 8: '#bcbd22', 9: '#17becf'}\n"
     ]
    },
    {
     "data": {
      "image/png": "[encoded data removed]",
      "text/plain": [
       "<Figure size 800x550 with 1 Axes>"
      ]
     },
     "metadata": {},
     "output_type": "display_data"
    }
   ],
   "source": [
    "from mpl_toolkits.mplot3d import axes3d\n",
    "import matplotlib.colors as mcolors\n",
    "\n",
    "\n",
    "# Créer une liste de couleurs à partir de la palette \"Set1\" de Matplotlib\n",
    "set1_colors = list(mcolors.TABLEAU_COLORS.values())[:10]\n",
    "\n",
    "# Créer un dictionnaire pour mapper des couleurs aux valeurs de la liste\n",
    "color_dict = {i: set1_colors[i] for i in range(len(set1_colors))}\n",
    "print(color_dict)\n",
    "\n",
    "plt.scatter(tsne_value[:,0],tsne_value[:,1],marker=\".\",c=[color_dict[i] for i in df_kproto[\"label\"]])\n",
    "plt.show()"
   ]
  },
  {
   "cell_type": "code",
   "execution_count": 16,
   "metadata": {},
   "outputs": [
    {
     "name": "stderr",
     "output_type": "stream",
     "text": [
      "/tmp/ipykernel_16565/3786504865.py:1: FutureWarning:\n",
      "\n",
      "The default value of numeric_only in DataFrameGroupBy.mean is deprecated. In a future version, numeric_only will default to False. Either specify numeric_only or select only columns which should be valid for the function.\n",
      "\n"
     ]
    },
    {
     "data": {
      "text/html": [
       "<div>\n",
       "<style scoped>\n",
       "    .dataframe tbody tr th:only-of-type {\n",
       "        vertical-align: middle;\n",
       "    }\n",
       "\n",
       "    .dataframe tbody tr th {\n",
       "        vertical-align: top;\n",
       "    }\n",
       "\n",
       "    .dataframe thead th {\n",
       "        text-align: right;\n",
       "    }\n",
       "</style>\n",
       "<table border=\"1\" class=\"dataframe\">\n",
       "  <thead>\n",
       "    <tr style=\"text-align: right;\">\n",
       "      <th></th>\n",
       "      <th>nb_items_total</th>\n",
       "      <th>montant_total</th>\n",
       "      <th>nb_commande</th>\n",
       "      <th>mean_review_score</th>\n",
       "      <th>mean_payment_installments</th>\n",
       "      <th>mean_length_comment_title</th>\n",
       "      <th>mean_length_comment_message</th>\n",
       "      <th>mean_distance</th>\n",
       "      <th>recence</th>\n",
       "      <th>med_product_photos_qty</th>\n",
       "      <th>med_product_description_lenght</th>\n",
       "    </tr>\n",
       "    <tr>\n",
       "      <th>label</th>\n",
       "      <th></th>\n",
       "      <th></th>\n",
       "      <th></th>\n",
       "      <th></th>\n",
       "      <th></th>\n",
       "      <th></th>\n",
       "      <th></th>\n",
       "      <th></th>\n",
       "      <th></th>\n",
       "      <th></th>\n",
       "      <th></th>\n",
       "    </tr>\n",
       "  </thead>\n",
       "  <tbody>\n",
       "    <tr>\n",
       "      <th>0</th>\n",
       "      <td>1.104005</td>\n",
       "      <td>149.285867</td>\n",
       "      <td>1.000000</td>\n",
       "      <td>4.222905</td>\n",
       "      <td>3.205200</td>\n",
       "      <td>0.936826</td>\n",
       "      <td>29.454955</td>\n",
       "      <td>5.202667</td>\n",
       "      <td>306.574443</td>\n",
       "      <td>2.104462</td>\n",
       "      <td>956.538446</td>\n",
       "    </tr>\n",
       "    <tr>\n",
       "      <th>1</th>\n",
       "      <td>1.314727</td>\n",
       "      <td>200.093698</td>\n",
       "      <td>1.134683</td>\n",
       "      <td>4.064403</td>\n",
       "      <td>2.380084</td>\n",
       "      <td>2.021918</td>\n",
       "      <td>29.774867</td>\n",
       "      <td>5.453754</td>\n",
       "      <td>273.025977</td>\n",
       "      <td>2.374942</td>\n",
       "      <td>838.748018</td>\n",
       "    </tr>\n",
       "    <tr>\n",
       "      <th>2</th>\n",
       "      <td>1.197660</td>\n",
       "      <td>158.796694</td>\n",
       "      <td>1.011046</td>\n",
       "      <td>4.033325</td>\n",
       "      <td>1.341112</td>\n",
       "      <td>1.562139</td>\n",
       "      <td>30.069046</td>\n",
       "      <td>5.899824</td>\n",
       "      <td>289.750572</td>\n",
       "      <td>2.125270</td>\n",
       "      <td>854.550428</td>\n",
       "    </tr>\n",
       "    <tr>\n",
       "      <th>3</th>\n",
       "      <td>1.080557</td>\n",
       "      <td>183.002662</td>\n",
       "      <td>1.000000</td>\n",
       "      <td>4.236601</td>\n",
       "      <td>3.738879</td>\n",
       "      <td>0.003466</td>\n",
       "      <td>20.814686</td>\n",
       "      <td>6.027684</td>\n",
       "      <td>309.046601</td>\n",
       "      <td>2.248090</td>\n",
       "      <td>738.489056</td>\n",
       "    </tr>\n",
       "    <tr>\n",
       "      <th>4</th>\n",
       "      <td>1.057814</td>\n",
       "      <td>123.140992</td>\n",
       "      <td>1.000388</td>\n",
       "      <td>4.290690</td>\n",
       "      <td>2.680662</td>\n",
       "      <td>0.667972</td>\n",
       "      <td>17.896057</td>\n",
       "      <td>5.510089</td>\n",
       "      <td>298.001489</td>\n",
       "      <td>2.463615</td>\n",
       "      <td>619.102875</td>\n",
       "    </tr>\n",
       "    <tr>\n",
       "      <th>5</th>\n",
       "      <td>1.323922</td>\n",
       "      <td>177.006160</td>\n",
       "      <td>1.055361</td>\n",
       "      <td>3.915062</td>\n",
       "      <td>4.047364</td>\n",
       "      <td>2.909301</td>\n",
       "      <td>34.726303</td>\n",
       "      <td>5.432735</td>\n",
       "      <td>280.116319</td>\n",
       "      <td>2.009657</td>\n",
       "      <td>704.629329</td>\n",
       "    </tr>\n",
       "  </tbody>\n",
       "</table>\n",
       "</div>"
      ],
      "text/plain": [
       "       nb_items_total  montant_total  nb_commande  mean_review_score  \\\n",
       "label                                                                  \n",
       "0            1.104005     149.285867     1.000000           4.222905   \n",
       "1            1.314727     200.093698     1.134683           4.064403   \n",
       "2            1.197660     158.796694     1.011046           4.033325   \n",
       "3            1.080557     183.002662     1.000000           4.236601   \n",
       "4            1.057814     123.140992     1.000388           4.290690   \n",
       "5            1.323922     177.006160     1.055361           3.915062   \n",
       "\n",
       "       mean_payment_installments  mean_length_comment_title  \\\n",
       "label                                                         \n",
       "0                       3.205200                   0.936826   \n",
       "1                       2.380084                   2.021918   \n",
       "2                       1.341112                   1.562139   \n",
       "3                       3.738879                   0.003466   \n",
       "4                       2.680662                   0.667972   \n",
       "5                       4.047364                   2.909301   \n",
       "\n",
       "       mean_length_comment_message  mean_distance     recence  \\\n",
       "label                                                           \n",
       "0                        29.454955       5.202667  306.574443   \n",
       "1                        29.774867       5.453754  273.025977   \n",
       "2                        30.069046       5.899824  289.750572   \n",
       "3                        20.814686       6.027684  309.046601   \n",
       "4                        17.896057       5.510089  298.001489   \n",
       "5                        34.726303       5.432735  280.116319   \n",
       "\n",
       "       med_product_photos_qty  med_product_description_lenght  \n",
       "label                                                          \n",
       "0                    2.104462                      956.538446  \n",
       "1                    2.374942                      838.748018  \n",
       "2                    2.125270                      854.550428  \n",
       "3                    2.248090                      738.489056  \n",
       "4                    2.463615                      619.102875  \n",
       "5                    2.009657                      704.629329  "
      ]
     },
     "execution_count": 16,
     "metadata": {},
     "output_type": "execute_result"
    }
   ],
   "source": [
    "result_kprot = df.groupby(['label']).mean()\n",
    "result_kprot"
   ]
  },
  {
   "cell_type": "code",
   "execution_count": 17,
   "metadata": {},
   "outputs": [
    {
     "data": {
      "application/vnd.plotly.v1+json": {
       "config": {
        "plotlyServerURL": "https://plot.ly"
       },
       "data": [
        {
         "fill": "toself",
         "name": "cluster #0",
         "r": [
          1.1040047037303196,
          149.28586659698175,
          1,
          4.222904553472268,
          3.205200235186516,
          0.9368262886261187,
          29.454955249232377,
          5.202666789383244,
          306.57444306526423,
          2.1044620108447116,
          956.5384464624028
         ],
         "theta": [
          "nb_items_total",
          "montant_total",
          "nb_commande",
          "mean_review_score",
          "mean_payment_installments",
          "mean_length_comment_title",
          "mean_length_comment_message",
          "mean_distance",
          "recence",
          "med_product_photos_qty",
          "med_product_description_lenght"
         ],
         "type": "scatterpolar"
        },
        {
         "fill": "toself",
         "name": "cluster #1",
         "r": [
          1.3147272363951241,
          200.09369812828882,
          1.1346832744954374,
          4.064402702842721,
          2.380084032991513,
          2.021918464315054,
          29.77486733719665,
          5.453754370204863,
          273.02597748617865,
          2.3749417171784453,
          838.7480183840671
         ],
         "theta": [
          "nb_items_total",
          "montant_total",
          "nb_commande",
          "mean_review_score",
          "mean_payment_installments",
          "mean_length_comment_title",
          "mean_length_comment_message",
          "mean_distance",
          "recence",
          "med_product_photos_qty",
          "med_product_description_lenght"
         ],
         "type": "scatterpolar"
        },
        {
         "fill": "toself",
         "name": "cluster #2",
         "r": [
          1.1976599777763253,
          158.7966939015622,
          1.0110464736257272,
          4.033324618166765,
          1.3411116194958277,
          1.5621391376342681,
          30.0690459071399,
          5.89982449777176,
          289.75057193280605,
          2.125269625465717,
          854.5504281325577
         ],
         "theta": [
          "nb_items_total",
          "montant_total",
          "nb_commande",
          "mean_review_score",
          "mean_payment_installments",
          "mean_length_comment_title",
          "mean_length_comment_message",
          "mean_distance",
          "recence",
          "med_product_photos_qty",
          "med_product_description_lenght"
         ],
         "type": "scatterpolar"
        },
        {
         "fill": "toself",
         "name": "cluster #3",
         "r": [
          1.0805571602798638,
          183.00266191668274,
          1,
          4.236600552025162,
          3.7388792605430385,
          0.0034662045060658577,
          20.814686436870147,
          6.027684379140022,
          309.0466011939149,
          2.248090378073047,
          738.489055780217
         ],
         "theta": [
          "nb_items_total",
          "montant_total",
          "nb_commande",
          "mean_review_score",
          "mean_payment_installments",
          "mean_length_comment_title",
          "mean_length_comment_message",
          "mean_distance",
          "recence",
          "med_product_photos_qty",
          "med_product_description_lenght"
         ],
         "type": "scatterpolar"
        },
        {
         "fill": "toself",
         "name": "cluster #4",
         "r": [
          1.0578143208597695,
          123.14099184254823,
          1.0003884500841642,
          4.290690146316198,
          2.680661659976693,
          0.667972290560663,
          17.896057231645734,
          5.510088764045716,
          298.001489058656,
          2.463615175449955,
          619.1028745306228
         ],
         "theta": [
          "nb_items_total",
          "montant_total",
          "nb_commande",
          "mean_review_score",
          "mean_payment_installments",
          "mean_length_comment_title",
          "mean_length_comment_message",
          "mean_distance",
          "recence",
          "med_product_photos_qty",
          "med_product_description_lenght"
         ],
         "type": "scatterpolar"
        },
        {
         "fill": "toself",
         "name": "cluster #5",
         "r": [
          1.3239220028295504,
          177.00615980808269,
          1.0553607676693118,
          3.9150622296036577,
          4.0473642123393,
          2.9093006089684446,
          34.72630251583933,
          5.432734707955313,
          280.1163191240696,
          2.009657378360091,
          704.6293289044719
         ],
         "theta": [
          "nb_items_total",
          "montant_total",
          "nb_commande",
          "mean_review_score",
          "mean_payment_installments",
          "mean_length_comment_title",
          "mean_length_comment_message",
          "mean_distance",
          "recence",
          "med_product_photos_qty",
          "med_product_description_lenght"
         ],
         "type": "scatterpolar"
        }
       ],
       "layout": {
        "polar": {
         "radialaxis": {
          "range": [
           0,
           5
          ],
          "visible": true
         }
        },
        "showlegend": true,
        "template": {
         "data": {
          "bar": [
           {
            "error_x": {
             "color": "#2a3f5f"
            },
            "error_y": {
             "color": "#2a3f5f"
            },
            "marker": {
             "line": {
              "color": "#E5ECF6",
              "width": 0.5
             },
             "pattern": {
              "fillmode": "overlay",
              "size": 10,
              "solidity": 0.2
             }
            },
            "type": "bar"
           }
          ],
          "barpolar": [
           {
            "marker": {
             "line": {
              "color": "#E5ECF6",
              "width": 0.5
             },
             "pattern": {
              "fillmode": "overlay",
              "size": 10,
              "solidity": 0.2
             }
            },
            "type": "barpolar"
           }
          ],
          "carpet": [
           {
            "aaxis": {
             "endlinecolor": "#2a3f5f",
             "gridcolor": "white",
             "linecolor": "white",
             "minorgridcolor": "white",
             "startlinecolor": "#2a3f5f"
            },
            "baxis": {
             "endlinecolor": "#2a3f5f",
             "gridcolor": "white",
             "linecolor": "white",
             "minorgridcolor": "white",
             "startlinecolor": "#2a3f5f"
            },
            "type": "carpet"
           }
          ],
          "choropleth": [
           {
            "colorbar": {
             "outlinewidth": 0,
             "ticks": ""
            },
            "type": "choropleth"
           }
          ],
          "contour": [
           {
            "colorbar": {
             "outlinewidth": 0,
             "ticks": ""
            },
            "colorscale": [
             [
              0,
              "#0d0887"
             ],
             [
              0.1111111111111111,
              "#46039f"
             ],
             [
              0.2222222222222222,
              "#7201a8"
             ],
             [
              0.3333333333333333,
              "#9c179e"
             ],
             [
              0.4444444444444444,
              "#bd3786"
             ],
             [
              0.5555555555555556,
              "#d8576b"
             ],
             [
              0.6666666666666666,
              "#ed7953"
             ],
             [
              0.7777777777777778,
              "#fb9f3a"
             ],
             [
              0.8888888888888888,
              "#fdca26"
             ],
             [
              1,
              "#f0f921"
             ]
            ],
            "type": "contour"
           }
          ],
          "contourcarpet": [
           {
            "colorbar": {
             "outlinewidth": 0,
             "ticks": ""
            },
            "type": "contourcarpet"
           }
          ],
          "heatmap": [
           {
            "colorbar": {
             "outlinewidth": 0,
             "ticks": ""
            },
            "colorscale": [
             [
              0,
              "#0d0887"
             ],
             [
              0.1111111111111111,
              "#46039f"
             ],
             [
              0.2222222222222222,
              "#7201a8"
             ],
             [
              0.3333333333333333,
              "#9c179e"
             ],
             [
              0.4444444444444444,
              "#bd3786"
             ],
             [
              0.5555555555555556,
              "#d8576b"
             ],
             [
              0.6666666666666666,
              "#ed7953"
             ],
             [
              0.7777777777777778,
              "#fb9f3a"
             ],
             [
              0.8888888888888888,
              "#fdca26"
             ],
             [
              1,
              "#f0f921"
             ]
            ],
            "type": "heatmap"
           }
          ],
          "heatmapgl": [
           {
            "colorbar": {
             "outlinewidth": 0,
             "ticks": ""
            },
            "colorscale": [
             [
              0,
              "#0d0887"
             ],
             [
              0.1111111111111111,
              "#46039f"
             ],
             [
              0.2222222222222222,
              "#7201a8"
             ],
             [
              0.3333333333333333,
              "#9c179e"
             ],
             [
              0.4444444444444444,
              "#bd3786"
             ],
             [
              0.5555555555555556,
              "#d8576b"
             ],
             [
              0.6666666666666666,
              "#ed7953"
             ],
             [
              0.7777777777777778,
              "#fb9f3a"
             ],
             [
              0.8888888888888888,
              "#fdca26"
             ],
             [
              1,
              "#f0f921"
             ]
            ],
            "type": "heatmapgl"
           }
          ],
          "histogram": [
           {
            "marker": {
             "pattern": {
              "fillmode": "overlay",
              "size": 10,
              "solidity": 0.2
             }
            },
            "type": "histogram"
           }
          ],
          "histogram2d": [
           {
            "colorbar": {
             "outlinewidth": 0,
             "ticks": ""
            },
            "colorscale": [
             [
              0,
              "#0d0887"
             ],
             [
              0.1111111111111111,
              "#46039f"
             ],
             [
              0.2222222222222222,
              "#7201a8"
             ],
             [
              0.3333333333333333,
              "#9c179e"
             ],
             [
              0.4444444444444444,
              "#bd3786"
             ],
             [
              0.5555555555555556,
              "#d8576b"
             ],
             [
              0.6666666666666666,
              "#ed7953"
             ],
             [
              0.7777777777777778,
              "#fb9f3a"
             ],
             [
              0.8888888888888888,
              "#fdca26"
             ],
             [
              1,
              "#f0f921"
             ]
            ],
            "type": "histogram2d"
           }
          ],
          "histogram2dcontour": [
           {
            "colorbar": {
             "outlinewidth": 0,
             "ticks": ""
            },
            "colorscale": [
             [
              0,
              "#0d0887"
             ],
             [
              0.1111111111111111,
              "#46039f"
             ],
             [
              0.2222222222222222,
              "#7201a8"
             ],
             [
              0.3333333333333333,
              "#9c179e"
             ],
             [
              0.4444444444444444,
              "#bd3786"
             ],
             [
              0.5555555555555556,
              "#d8576b"
             ],
             [
              0.6666666666666666,
              "#ed7953"
             ],
             [
              0.7777777777777778,
              "#fb9f3a"
             ],
             [
              0.8888888888888888,
              "#fdca26"
             ],
             [
              1,
              "#f0f921"
             ]
            ],
            "type": "histogram2dcontour"
           }
          ],
          "mesh3d": [
           {
            "colorbar": {
             "outlinewidth": 0,
             "ticks": ""
            },
            "type": "mesh3d"
           }
          ],
          "parcoords": [
           {
            "line": {
             "colorbar": {
              "outlinewidth": 0,
              "ticks": ""
             }
            },
            "type": "parcoords"
           }
          ],
          "pie": [
           {
            "automargin": true,
            "type": "pie"
           }
          ],
          "scatter": [
           {
            "fillpattern": {
             "fillmode": "overlay",
             "size": 10,
             "solidity": 0.2
            },
            "type": "scatter"
           }
          ],
          "scatter3d": [
           {
            "line": {
             "colorbar": {
              "outlinewidth": 0,
              "ticks": ""
             }
            },
            "marker": {
             "colorbar": {
              "outlinewidth": 0,
              "ticks": ""
             }
            },
            "type": "scatter3d"
           }
          ],
          "scattercarpet": [
           {
            "marker": {
             "colorbar": {
              "outlinewidth": 0,
              "ticks": ""
             }
            },
            "type": "scattercarpet"
           }
          ],
          "scattergeo": [
           {
            "marker": {
             "colorbar": {
              "outlinewidth": 0,
              "ticks": ""
             }
            },
            "type": "scattergeo"
           }
          ],
          "scattergl": [
           {
            "marker": {
             "colorbar": {
              "outlinewidth": 0,
              "ticks": ""
             }
            },
            "type": "scattergl"
           }
          ],
          "scattermapbox": [
           {
            "marker": {
             "colorbar": {
              "outlinewidth": 0,
              "ticks": ""
             }
            },
            "type": "scattermapbox"
           }
          ],
          "scatterpolar": [
           {
            "marker": {
             "colorbar": {
              "outlinewidth": 0,
              "ticks": ""
             }
            },
            "type": "scatterpolar"
           }
          ],
          "scatterpolargl": [
           {
            "marker": {
             "colorbar": {
              "outlinewidth": 0,
              "ticks": ""
             }
            },
            "type": "scatterpolargl"
           }
          ],
          "scatterternary": [
           {
            "marker": {
             "colorbar": {
              "outlinewidth": 0,
              "ticks": ""
             }
            },
            "type": "scatterternary"
           }
          ],
          "surface": [
           {
            "colorbar": {
             "outlinewidth": 0,
             "ticks": ""
            },
            "colorscale": [
             [
              0,
              "#0d0887"
             ],
             [
              0.1111111111111111,
              "#46039f"
             ],
             [
              0.2222222222222222,
              "#7201a8"
             ],
             [
              0.3333333333333333,
              "#9c179e"
             ],
             [
              0.4444444444444444,
              "#bd3786"
             ],
             [
              0.5555555555555556,
              "#d8576b"
             ],
             [
              0.6666666666666666,
              "#ed7953"
             ],
             [
              0.7777777777777778,
              "#fb9f3a"
             ],
             [
              0.8888888888888888,
              "#fdca26"
             ],
             [
              1,
              "#f0f921"
             ]
            ],
            "type": "surface"
           }
          ],
          "table": [
           {
            "cells": {
             "fill": {
              "color": "#EBF0F8"
             },
             "line": {
              "color": "white"
             }
            },
            "header": {
             "fill": {
              "color": "#C8D4E3"
             },
             "line": {
              "color": "white"
             }
            },
            "type": "table"
           }
          ]
         },
         "layout": {
          "annotationdefaults": {
           "arrowcolor": "#2a3f5f",
           "arrowhead": 0,
           "arrowwidth": 1
          },
          "autotypenumbers": "strict",
          "coloraxis": {
           "colorbar": {
            "outlinewidth": 0,
            "ticks": ""
           }
          },
          "colorscale": {
           "diverging": [
            [
             0,
             "#8e0152"
            ],
            [
             0.1,
             "#c51b7d"
            ],
            [
             0.2,
             "#de77ae"
            ],
            [
             0.3,
             "#f1b6da"
            ],
            [
             0.4,
             "#fde0ef"
            ],
            [
             0.5,
             "#f7f7f7"
            ],
            [
             0.6,
             "#e6f5d0"
            ],
            [
             0.7,
             "#b8e186"
            ],
            [
             0.8,
             "#7fbc41"
            ],
            [
             0.9,
             "#4d9221"
            ],
            [
             1,
             "#276419"
            ]
           ],
           "sequential": [
            [
             0,
             "#0d0887"
            ],
            [
             0.1111111111111111,
             "#46039f"
            ],
            [
             0.2222222222222222,
             "#7201a8"
            ],
            [
             0.3333333333333333,
             "#9c179e"
            ],
            [
             0.4444444444444444,
             "#bd3786"
            ],
            [
             0.5555555555555556,
             "#d8576b"
            ],
            [
             0.6666666666666666,
             "#ed7953"
            ],
            [
             0.7777777777777778,
             "#fb9f3a"
            ],
            [
             0.8888888888888888,
             "#fdca26"
            ],
            [
             1,
             "#f0f921"
            ]
           ],
           "sequentialminus": [
            [
             0,
             "#0d0887"
            ],
            [
             0.1111111111111111,
             "#46039f"
            ],
            [
             0.2222222222222222,
             "#7201a8"
            ],
            [
             0.3333333333333333,
             "#9c179e"
            ],
            [
             0.4444444444444444,
             "#bd3786"
            ],
            [
             0.5555555555555556,
             "#d8576b"
            ],
            [
             0.6666666666666666,
             "#ed7953"
            ],
            [
             0.7777777777777778,
             "#fb9f3a"
            ],
            [
             0.8888888888888888,
             "#fdca26"
            ],
            [
             1,
             "#f0f921"
            ]
           ]
          },
          "colorway": [
           "#636efa",
           "#EF553B",
           "#00cc96",
           "#ab63fa",
           "#FFA15A",
           "#19d3f3",
           "#FF6692",
           "#B6E880",
           "#FF97FF",
           "#FECB52"
          ],
          "font": {
           "color": "#2a3f5f"
          },
          "geo": {
           "bgcolor": "white",
           "lakecolor": "white",
           "landcolor": "#E5ECF6",
           "showlakes": true,
           "showland": true,
           "subunitcolor": "white"
          },
          "hoverlabel": {
           "align": "left"
          },
          "hovermode": "closest",
          "mapbox": {
           "style": "light"
          },
          "paper_bgcolor": "white",
          "plot_bgcolor": "#E5ECF6",
          "polar": {
           "angularaxis": {
            "gridcolor": "white",
            "linecolor": "white",
            "ticks": ""
           },
           "bgcolor": "#E5ECF6",
           "radialaxis": {
            "gridcolor": "white",
            "linecolor": "white",
            "ticks": ""
           }
          },
          "scene": {
           "xaxis": {
            "backgroundcolor": "#E5ECF6",
            "gridcolor": "white",
            "gridwidth": 2,
            "linecolor": "white",
            "showbackground": true,
            "ticks": "",
            "zerolinecolor": "white"
           },
           "yaxis": {
            "backgroundcolor": "#E5ECF6",
            "gridcolor": "white",
            "gridwidth": 2,
            "linecolor": "white",
            "showbackground": true,
            "ticks": "",
            "zerolinecolor": "white"
           },
           "zaxis": {
            "backgroundcolor": "#E5ECF6",
            "gridcolor": "white",
            "gridwidth": 2,
            "linecolor": "white",
            "showbackground": true,
            "ticks": "",
            "zerolinecolor": "white"
           }
          },
          "shapedefaults": {
           "line": {
            "color": "#2a3f5f"
           }
          },
          "ternary": {
           "aaxis": {
            "gridcolor": "white",
            "linecolor": "white",
            "ticks": ""
           },
           "baxis": {
            "gridcolor": "white",
            "linecolor": "white",
            "ticks": ""
           },
           "bgcolor": "#E5ECF6",
           "caxis": {
            "gridcolor": "white",
            "linecolor": "white",
            "ticks": ""
           }
          },
          "title": {
           "x": 0.05
          },
          "xaxis": {
           "automargin": true,
           "gridcolor": "white",
           "linecolor": "white",
           "ticks": "",
           "title": {
            "standoff": 15
           },
           "zerolinecolor": "white",
           "zerolinewidth": 2
          },
          "yaxis": {
           "automargin": true,
           "gridcolor": "white",
           "linecolor": "white",
           "ticks": "",
           "title": {
            "standoff": 15
           },
           "zerolinecolor": "white",
           "zerolinewidth": 2
          }
         }
        },
        "title": {
         "text": "Issues with Plotly",
         "x": 0.5
        }
       }
      }
     },
     "metadata": {},
     "output_type": "display_data"
    }
   ],
   "source": [
    "import plotly.graph_objects as go\n",
    "\n",
    "categories = result_kprot.columns\n",
    "fig = go.Figure()\n",
    "\n",
    "for g in result_kprot.index:\n",
    "    fig.add_trace(go.Scatterpolar(\n",
    "        r = result_kprot.loc[g].values,\n",
    "        theta = categories,\n",
    "        fill = 'toself',\n",
    "        name = f'cluster #{g}'\n",
    "    ))\n",
    "\n",
    "fig.update_layout(\n",
    "  polar=dict(\n",
    "    radialaxis=dict(\n",
    "      visible=True,\n",
    "      range=[0, 5] # here we can define the range\n",
    "    )),\n",
    "  showlegend=True,\n",
    "    title=\"Issues with Plotly\",\n",
    "    title_x=0.5\n",
    ")\n",
    "\n",
    "fig.show()"
   ]
  }
 ],
 "metadata": {
  "kernelspec": {
   "display_name": "client",
   "language": "python",
   "name": "python3"
  },
  "language_info": {
   "codemirror_mode": {
    "name": "ipython",
    "version": 3
   },
   "file_extension": ".py",
   "mimetype": "text/x-python",
   "name": "python",
   "nbconvert_exporter": "python",
   "pygments_lexer": "ipython3",
   "version": "3.10.9"
  },
  "orig_nbformat": 4,
  "vscode": {
   "interpreter": {
    "hash": "fac8336b4023db0dd2de0d497a22458410b3d75ee45ffeba42d3464a936c51da"
   }
  }
 },
 "nbformat": 4,
 "nbformat_minor": 2
}
