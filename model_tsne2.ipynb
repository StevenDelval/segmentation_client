{
 "cells": [
  {
   "cell_type": "code",
   "execution_count": 2,
   "metadata": {},
   "outputs": [],
   "source": [
    "import numpy as np\n",
    "import pandas as pd\n",
    "import matplotlib.pyplot as plt\n",
    "from sklearn.cluster import KMeans\n",
    "pd.options.display.max_rows = 150\n",
    "pd.options.display.max_columns = 150"
   ]
  },
  {
   "cell_type": "code",
   "execution_count": 3,
   "metadata": {},
   "outputs": [],
   "source": [
    "df = pd.read_csv(\"data/data_merge.csv\")"
   ]
  },
  {
   "cell_type": "code",
   "execution_count": 4,
   "metadata": {},
   "outputs": [],
   "source": [
    "num_columns = [col for col in df.columns if df[col].dtype != \"object\"]\n",
    "cat_columns = [col for col in df.columns if df[col].dtype == \"object\"]"
   ]
  },
  {
   "cell_type": "code",
   "execution_count": 5,
   "metadata": {},
   "outputs": [
    {
     "name": "stdout",
     "output_type": "stream",
     "text": [
      "[t-SNE] Computing 91 nearest neighbors...\n",
      "[t-SNE] Indexed 92901 samples in 0.002s...\n",
      "[t-SNE] Computed neighbors for 92901 samples in 14.470s...\n",
      "[t-SNE] Computed conditional probabilities for sample 1000 / 92901\n",
      "[t-SNE] Computed conditional probabilities for sample 2000 / 92901\n",
      "[t-SNE] Computed conditional probabilities for sample 3000 / 92901\n",
      "[t-SNE] Computed conditional probabilities for sample 4000 / 92901\n",
      "[t-SNE] Computed conditional probabilities for sample 5000 / 92901\n",
      "[t-SNE] Computed conditional probabilities for sample 6000 / 92901\n",
      "[t-SNE] Computed conditional probabilities for sample 7000 / 92901\n",
      "[t-SNE] Computed conditional probabilities for sample 8000 / 92901\n",
      "[t-SNE] Computed conditional probabilities for sample 9000 / 92901\n",
      "[t-SNE] Computed conditional probabilities for sample 10000 / 92901\n",
      "[t-SNE] Computed conditional probabilities for sample 11000 / 92901\n",
      "[t-SNE] Computed conditional probabilities for sample 12000 / 92901\n",
      "[t-SNE] Computed conditional probabilities for sample 13000 / 92901\n",
      "[t-SNE] Computed conditional probabilities for sample 14000 / 92901\n",
      "[t-SNE] Computed conditional probabilities for sample 15000 / 92901\n",
      "[t-SNE] Computed conditional probabilities for sample 16000 / 92901\n",
      "[t-SNE] Computed conditional probabilities for sample 17000 / 92901\n",
      "[t-SNE] Computed conditional probabilities for sample 18000 / 92901\n",
      "[t-SNE] Computed conditional probabilities for sample 19000 / 92901\n",
      "[t-SNE] Computed conditional probabilities for sample 20000 / 92901\n",
      "[t-SNE] Computed conditional probabilities for sample 21000 / 92901\n",
      "[t-SNE] Computed conditional probabilities for sample 22000 / 92901\n",
      "[t-SNE] Computed conditional probabilities for sample 23000 / 92901\n",
      "[t-SNE] Computed conditional probabilities for sample 24000 / 92901\n",
      "[t-SNE] Computed conditional probabilities for sample 25000 / 92901\n",
      "[t-SNE] Computed conditional probabilities for sample 26000 / 92901\n",
      "[t-SNE] Computed conditional probabilities for sample 27000 / 92901\n",
      "[t-SNE] Computed conditional probabilities for sample 28000 / 92901\n",
      "[t-SNE] Computed conditional probabilities for sample 29000 / 92901\n",
      "[t-SNE] Computed conditional probabilities for sample 30000 / 92901\n",
      "[t-SNE] Computed conditional probabilities for sample 31000 / 92901\n",
      "[t-SNE] Computed conditional probabilities for sample 32000 / 92901\n",
      "[t-SNE] Computed conditional probabilities for sample 33000 / 92901\n",
      "[t-SNE] Computed conditional probabilities for sample 34000 / 92901\n",
      "[t-SNE] Computed conditional probabilities for sample 35000 / 92901\n",
      "[t-SNE] Computed conditional probabilities for sample 36000 / 92901\n",
      "[t-SNE] Computed conditional probabilities for sample 37000 / 92901\n",
      "[t-SNE] Computed conditional probabilities for sample 38000 / 92901\n",
      "[t-SNE] Computed conditional probabilities for sample 39000 / 92901\n",
      "[t-SNE] Computed conditional probabilities for sample 40000 / 92901\n",
      "[t-SNE] Computed conditional probabilities for sample 41000 / 92901\n",
      "[t-SNE] Computed conditional probabilities for sample 42000 / 92901\n",
      "[t-SNE] Computed conditional probabilities for sample 43000 / 92901\n",
      "[t-SNE] Computed conditional probabilities for sample 44000 / 92901\n",
      "[t-SNE] Computed conditional probabilities for sample 45000 / 92901\n",
      "[t-SNE] Computed conditional probabilities for sample 46000 / 92901\n",
      "[t-SNE] Computed conditional probabilities for sample 47000 / 92901\n",
      "[t-SNE] Computed conditional probabilities for sample 48000 / 92901\n",
      "[t-SNE] Computed conditional probabilities for sample 49000 / 92901\n",
      "[t-SNE] Computed conditional probabilities for sample 50000 / 92901\n",
      "[t-SNE] Computed conditional probabilities for sample 51000 / 92901\n",
      "[t-SNE] Computed conditional probabilities for sample 52000 / 92901\n",
      "[t-SNE] Computed conditional probabilities for sample 53000 / 92901\n",
      "[t-SNE] Computed conditional probabilities for sample 54000 / 92901\n",
      "[t-SNE] Computed conditional probabilities for sample 55000 / 92901\n",
      "[t-SNE] Computed conditional probabilities for sample 56000 / 92901\n",
      "[t-SNE] Computed conditional probabilities for sample 57000 / 92901\n",
      "[t-SNE] Computed conditional probabilities for sample 58000 / 92901\n",
      "[t-SNE] Computed conditional probabilities for sample 59000 / 92901\n",
      "[t-SNE] Computed conditional probabilities for sample 60000 / 92901\n",
      "[t-SNE] Computed conditional probabilities for sample 61000 / 92901\n",
      "[t-SNE] Computed conditional probabilities for sample 62000 / 92901\n",
      "[t-SNE] Computed conditional probabilities for sample 63000 / 92901\n",
      "[t-SNE] Computed conditional probabilities for sample 64000 / 92901\n",
      "[t-SNE] Computed conditional probabilities for sample 65000 / 92901\n",
      "[t-SNE] Computed conditional probabilities for sample 66000 / 92901\n",
      "[t-SNE] Computed conditional probabilities for sample 67000 / 92901\n",
      "[t-SNE] Computed conditional probabilities for sample 68000 / 92901\n",
      "[t-SNE] Computed conditional probabilities for sample 69000 / 92901\n",
      "[t-SNE] Computed conditional probabilities for sample 70000 / 92901\n",
      "[t-SNE] Computed conditional probabilities for sample 71000 / 92901\n",
      "[t-SNE] Computed conditional probabilities for sample 72000 / 92901\n",
      "[t-SNE] Computed conditional probabilities for sample 73000 / 92901\n",
      "[t-SNE] Computed conditional probabilities for sample 74000 / 92901\n",
      "[t-SNE] Computed conditional probabilities for sample 75000 / 92901\n",
      "[t-SNE] Computed conditional probabilities for sample 76000 / 92901\n",
      "[t-SNE] Computed conditional probabilities for sample 77000 / 92901\n",
      "[t-SNE] Computed conditional probabilities for sample 78000 / 92901\n",
      "[t-SNE] Computed conditional probabilities for sample 79000 / 92901\n",
      "[t-SNE] Computed conditional probabilities for sample 80000 / 92901\n",
      "[t-SNE] Computed conditional probabilities for sample 81000 / 92901\n",
      "[t-SNE] Computed conditional probabilities for sample 82000 / 92901\n",
      "[t-SNE] Computed conditional probabilities for sample 83000 / 92901\n",
      "[t-SNE] Computed conditional probabilities for sample 84000 / 92901\n",
      "[t-SNE] Computed conditional probabilities for sample 85000 / 92901\n",
      "[t-SNE] Computed conditional probabilities for sample 86000 / 92901\n",
      "[t-SNE] Computed conditional probabilities for sample 87000 / 92901\n",
      "[t-SNE] Computed conditional probabilities for sample 88000 / 92901\n",
      "[t-SNE] Computed conditional probabilities for sample 89000 / 92901\n",
      "[t-SNE] Computed conditional probabilities for sample 90000 / 92901\n",
      "[t-SNE] Computed conditional probabilities for sample 91000 / 92901\n",
      "[t-SNE] Computed conditional probabilities for sample 92000 / 92901\n",
      "[t-SNE] Computed conditional probabilities for sample 92901 / 92901\n",
      "[t-SNE] Mean sigma: 0.658226\n",
      "[t-SNE] Computed conditional probabilities in 2.987s\n",
      "[t-SNE] Iteration 50: error = 108.2331467, gradient norm = 0.0091789 (50 iterations in 30.347s)\n",
      "[t-SNE] Iteration 100: error = 97.5421753, gradient norm = 0.0043167 (50 iterations in 24.414s)\n",
      "[t-SNE] Iteration 150: error = 93.6728210, gradient norm = 0.0030390 (50 iterations in 23.855s)\n",
      "[t-SNE] Iteration 200: error = 91.4374313, gradient norm = 0.0023292 (50 iterations in 23.525s)\n",
      "[t-SNE] Iteration 250: error = 89.9431381, gradient norm = 0.0019222 (50 iterations in 23.979s)\n",
      "[t-SNE] KL divergence after 250 iterations with early exaggeration: 89.943138\n",
      "[t-SNE] Iteration 300: error = 4.2157712, gradient norm = 0.0041721 (50 iterations in 23.432s)\n",
      "[t-SNE] Iteration 350: error = 3.5350394, gradient norm = 0.0046171 (50 iterations in 21.527s)\n",
      "[t-SNE] Iteration 400: error = 3.1177146, gradient norm = 0.0044892 (50 iterations in 25.638s)\n",
      "[t-SNE] Iteration 450: error = 2.8404150, gradient norm = 0.0043042 (50 iterations in 24.026s)\n",
      "[t-SNE] Iteration 500: error = 2.6452439, gradient norm = 0.0040444 (50 iterations in 25.811s)\n",
      "[t-SNE] Iteration 550: error = 2.5022998, gradient norm = 0.0037139 (50 iterations in 27.366s)\n",
      "[t-SNE] Iteration 600: error = 2.3945689, gradient norm = 0.0034060 (50 iterations in 19.746s)\n",
      "[t-SNE] Iteration 650: error = 2.3101244, gradient norm = 0.0031252 (50 iterations in 26.329s)\n",
      "[t-SNE] Iteration 700: error = 2.2419579, gradient norm = 0.0028915 (50 iterations in 18.458s)\n",
      "[t-SNE] Iteration 750: error = 2.1857014, gradient norm = 0.0026997 (50 iterations in 24.075s)\n",
      "[t-SNE] Iteration 800: error = 2.1380551, gradient norm = 0.0025273 (50 iterations in 20.024s)\n",
      "[t-SNE] Iteration 850: error = 2.0970466, gradient norm = 0.0023878 (50 iterations in 18.855s)\n",
      "[t-SNE] Iteration 900: error = 2.0612824, gradient norm = 0.0022554 (50 iterations in 17.825s)\n",
      "[t-SNE] Iteration 950: error = 2.0298481, gradient norm = 0.0021349 (50 iterations in 17.867s)\n",
      "[t-SNE] Iteration 1000: error = 2.0018599, gradient norm = 0.0020348 (50 iterations in 18.068s)\n",
      "[t-SNE] KL divergence after 1000 iterations: 2.001860\n"
     ]
    }
   ],
   "source": [
    "from sklearn.compose import ColumnTransformer\n",
    "from sklearn.preprocessing import  StandardScaler,OneHotEncoder,FunctionTransformer\n",
    "from sklearn.decomposition import PCA,TruncatedSVD\n",
    "from sklearn.pipeline import Pipeline\n",
    "from sklearn.manifold import TSNE\n",
    "\n",
    "std = StandardScaler()\n",
    "ohe= OneHotEncoder(sparse_output=False)\n",
    "\n",
    "log_1p = FunctionTransformer(func=np.log1p)\n",
    "preprocessor_pca = ColumnTransformer(\n",
    "    transformers=[\n",
    "        (\"ohe\",ohe,cat_columns),\n",
    "        (\"log\",log_1p,num_columns)\n",
    "    ]\n",
    "    \n",
    ")\n",
    "tsne=Pipeline([\n",
    "     ('preprocessor', preprocessor_pca),\n",
    "     ('std', std ),\n",
    "     (\"tsne\", TSNE(n_components=2,random_state=42,verbose=2,n_jobs=-1))\n",
    "])\n",
    "\n",
    "tsne_value = tsne.fit_transform(df)"
   ]
  },
  {
   "cell_type": "code",
   "execution_count": 6,
   "metadata": {},
   "outputs": [],
   "source": [
    "# import pickle\n",
    "# pickle_out = open(\"tsne_com2.pkl\", \"wb\") \n",
    "# pickle.dump(tsne_value, pickle_out) \n",
    "# pickle_out.close()\n",
    "# pickle_in = open('tsne.pkl', 'rb') \n",
    "# tsne_value = pickle.load(pickle_in)"
   ]
  },
  {
   "cell_type": "code",
   "execution_count": null,
   "metadata": {},
   "outputs": [],
   "source": []
  },
  {
   "cell_type": "code",
   "execution_count": 7,
   "metadata": {},
   "outputs": [
    {
     "data": {
      "image/png": "[encoded data removed]",
      "text/plain": [
       "<Figure size 800x550 with 1 Axes>"
      ]
     },
     "metadata": {},
     "output_type": "display_data"
    },
    {
     "data": {
      "text/plain": [
       "<AxesSubplot: title={'center': 'Distortion Score Elbow for KMeans Clustering'}, xlabel='k', ylabel='distortion score'>"
      ]
     },
     "execution_count": 7,
     "metadata": {},
     "output_type": "execute_result"
    }
   ],
   "source": [
    "from yellowbrick.cluster import KElbowVisualizer\n",
    "visualizer = KElbowVisualizer(KMeans(n_init=10,random_state=42),metric=\"distortion\", k=(2,12),timings=False)\n",
    "\n",
    "visualizer.fit(tsne_value)        # Fit the data to the visualizer\n",
    "visualizer.show()        # Finalize and render the figure"
   ]
  },
  {
   "cell_type": "code",
   "execution_count": 8,
   "metadata": {},
   "outputs": [
    {
     "data": {
      "text/html": [
       "<style>#sk-container-id-1 {color: black;background-color: white;}#sk-container-id-1 pre{padding: 0;}#sk-container-id-1 div.sk-toggleable {background-color: white;}#sk-container-id-1 label.sk-toggleable__label {cursor: pointer;display: block;width: 100%;margin-bottom: 0;padding: 0.3em;box-sizing: border-box;text-align: center;}#sk-container-id-1 label.sk-toggleable__label-arrow:before {content: \"▸\";float: left;margin-right: 0.25em;color: #696969;}#sk-container-id-1 label.sk-toggleable__label-arrow:hover:before {color: black;}#sk-container-id-1 div.sk-estimator:hover label.sk-toggleable__label-arrow:before {color: black;}#sk-container-id-1 div.sk-toggleable__content {max-height: 0;max-width: 0;overflow: hidden;text-align: left;background-color: #f0f8ff;}#sk-container-id-1 div.sk-toggleable__content pre {margin: 0.2em;color: black;border-radius: 0.25em;background-color: #f0f8ff;}#sk-container-id-1 input.sk-toggleable__control:checked~div.sk-toggleable__content {max-height: 200px;max-width: 100%;overflow: auto;}#sk-container-id-1 input.sk-toggleable__control:checked~label.sk-toggleable__label-arrow:before {content: \"▾\";}#sk-container-id-1 div.sk-estimator input.sk-toggleable__control:checked~label.sk-toggleable__label {background-color: #d4ebff;}#sk-container-id-1 div.sk-label input.sk-toggleable__control:checked~label.sk-toggleable__label {background-color: #d4ebff;}#sk-container-id-1 input.sk-hidden--visually {border: 0;clip: rect(1px 1px 1px 1px);clip: rect(1px, 1px, 1px, 1px);height: 1px;margin: -1px;overflow: hidden;padding: 0;position: absolute;width: 1px;}#sk-container-id-1 div.sk-estimator {font-family: monospace;background-color: #f0f8ff;border: 1px dotted black;border-radius: 0.25em;box-sizing: border-box;margin-bottom: 0.5em;}#sk-container-id-1 div.sk-estimator:hover {background-color: #d4ebff;}#sk-container-id-1 div.sk-parallel-item::after {content: \"\";width: 100%;border-bottom: 1px solid gray;flex-grow: 1;}#sk-container-id-1 div.sk-label:hover label.sk-toggleable__label {background-color: #d4ebff;}#sk-container-id-1 div.sk-serial::before {content: \"\";position: absolute;border-left: 1px solid gray;box-sizing: border-box;top: 0;bottom: 0;left: 50%;z-index: 0;}#sk-container-id-1 div.sk-serial {display: flex;flex-direction: column;align-items: center;background-color: white;padding-right: 0.2em;padding-left: 0.2em;position: relative;}#sk-container-id-1 div.sk-item {position: relative;z-index: 1;}#sk-container-id-1 div.sk-parallel {display: flex;align-items: stretch;justify-content: center;background-color: white;position: relative;}#sk-container-id-1 div.sk-item::before, #sk-container-id-1 div.sk-parallel-item::before {content: \"\";position: absolute;border-left: 1px solid gray;box-sizing: border-box;top: 0;bottom: 0;left: 50%;z-index: -1;}#sk-container-id-1 div.sk-parallel-item {display: flex;flex-direction: column;z-index: 1;position: relative;background-color: white;}#sk-container-id-1 div.sk-parallel-item:first-child::after {align-self: flex-end;width: 50%;}#sk-container-id-1 div.sk-parallel-item:last-child::after {align-self: flex-start;width: 50%;}#sk-container-id-1 div.sk-parallel-item:only-child::after {width: 0;}#sk-container-id-1 div.sk-dashed-wrapped {border: 1px dashed gray;margin: 0 0.4em 0.5em 0.4em;box-sizing: border-box;padding-bottom: 0.4em;background-color: white;}#sk-container-id-1 div.sk-label label {font-family: monospace;font-weight: bold;display: inline-block;line-height: 1.2em;}#sk-container-id-1 div.sk-label-container {text-align: center;}#sk-container-id-1 div.sk-container {/* jupyter's `normalize.less` sets `[hidden] { display: none; }` but bootstrap.min.css set `[hidden] { display: none !important; }` so we also need the `!important` here to be able to override the default hidden behavior on the sphinx rendered scikit-learn.org. See: https://github.com/scikit-learn/scikit-learn/issues/21755 */display: inline-block !important;position: relative;}#sk-container-id-1 div.sk-text-repr-fallback {display: none;}</style><div id=\"sk-container-id-1\" class=\"sk-top-container\"><div class=\"sk-text-repr-fallback\"><pre>KMeans(n_clusters=4, n_init=10, random_state=42)</pre><b>In a Jupyter environment, please rerun this cell to show the HTML representation or trust the notebook. <br />On GitHub, the HTML representation is unable to render, please try loading this page with nbviewer.org.</b></div><div class=\"sk-container\" hidden><div class=\"sk-item\"><div class=\"sk-estimator sk-toggleable\"><input class=\"sk-toggleable__control sk-hidden--visually\" id=\"sk-estimator-id-1\" type=\"checkbox\" checked><label for=\"sk-estimator-id-1\" class=\"sk-toggleable__label sk-toggleable__label-arrow\">KMeans</label><div class=\"sk-toggleable__content\"><pre>KMeans(n_clusters=4, n_init=10, random_state=42)</pre></div></div></div></div></div>"
      ],
      "text/plain": [
       "KMeans(n_clusters=4, n_init=10, random_state=42)"
      ]
     },
     "execution_count": 8,
     "metadata": {},
     "output_type": "execute_result"
    }
   ],
   "source": [
    "kmeans = KMeans(n_clusters=4,n_init=10,random_state=42)\n",
    "kmeans.fit(tsne_value)"
   ]
  },
  {
   "cell_type": "code",
   "execution_count": 9,
   "metadata": {},
   "outputs": [],
   "source": [
    "df[\"label\"]=kmeans.labels_"
   ]
  },
  {
   "cell_type": "code",
   "execution_count": 10,
   "metadata": {},
   "outputs": [
    {
     "name": "stdout",
     "output_type": "stream",
     "text": [
      "{0: '#1f77b4', 1: '#ff7f0e', 2: '#2ca02c', 3: '#d62728', 4: '#9467bd', 5: '#8c564b', 6: '#e377c2', 7: '#7f7f7f', 8: '#bcbd22', 9: '#17becf'}\n"
     ]
    },
    {
     "data": {
      "image/png": "[encoded data removed]",
      "text/plain": [
       "<Figure size 800x550 with 1 Axes>"
      ]
     },
     "metadata": {},
     "output_type": "display_data"
    }
   ],
   "source": [
    "from mpl_toolkits.mplot3d import axes3d\n",
    "import matplotlib.colors as mcolors\n",
    "\n",
    "\n",
    "# Créer une liste de couleurs à partir de la palette \"Set1\" de Matplotlib\n",
    "set1_colors = list(mcolors.TABLEAU_COLORS.values())[:10]\n",
    "\n",
    "# Créer un dictionnaire pour mapper des couleurs aux valeurs de la liste\n",
    "color_dict = {i: set1_colors[i] for i in range(len(set1_colors))}\n",
    "print(color_dict)\n",
    "\n",
    "plt.scatter(tsne_value[:,0],tsne_value[:,1],marker=\".\",c=[color_dict[i] for i in df[\"label\"]])\n",
    "plt.show()"
   ]
  },
  {
   "cell_type": "code",
   "execution_count": 11,
   "metadata": {},
   "outputs": [
    {
     "name": "stderr",
     "output_type": "stream",
     "text": [
      "/tmp/ipykernel_20853/825856455.py:1: FutureWarning: The default value of numeric_only in DataFrameGroupBy.mean is deprecated. In a future version, numeric_only will default to False. Either specify numeric_only or select only columns which should be valid for the function.\n",
      "  result = df.groupby(['label']).mean()\n"
     ]
    },
    {
     "data": {
      "text/html": [
       "<div>\n",
       "<style scoped>\n",
       "    .dataframe tbody tr th:only-of-type {\n",
       "        vertical-align: middle;\n",
       "    }\n",
       "\n",
       "    .dataframe tbody tr th {\n",
       "        vertical-align: top;\n",
       "    }\n",
       "\n",
       "    .dataframe thead th {\n",
       "        text-align: right;\n",
       "    }\n",
       "</style>\n",
       "<table border=\"1\" class=\"dataframe\">\n",
       "  <thead>\n",
       "    <tr style=\"text-align: right;\">\n",
       "      <th></th>\n",
       "      <th>nb_items_total</th>\n",
       "      <th>montant_total</th>\n",
       "      <th>nb_commande</th>\n",
       "      <th>mean_review_score</th>\n",
       "      <th>mean_payment_installments</th>\n",
       "      <th>mean_length_comment_title</th>\n",
       "      <th>mean_length_comment_message</th>\n",
       "      <th>mean_distance</th>\n",
       "      <th>recence</th>\n",
       "      <th>med_product_photos_qty</th>\n",
       "      <th>med_product_description_lenght</th>\n",
       "    </tr>\n",
       "    <tr>\n",
       "      <th>label</th>\n",
       "      <th></th>\n",
       "      <th></th>\n",
       "      <th></th>\n",
       "      <th></th>\n",
       "      <th></th>\n",
       "      <th></th>\n",
       "      <th></th>\n",
       "      <th></th>\n",
       "      <th></th>\n",
       "      <th></th>\n",
       "      <th></th>\n",
       "    </tr>\n",
       "  </thead>\n",
       "  <tbody>\n",
       "    <tr>\n",
       "      <th>0</th>\n",
       "      <td>1.059742</td>\n",
       "      <td>169.636453</td>\n",
       "      <td>1.000000</td>\n",
       "      <td>4.315386</td>\n",
       "      <td>3.694940</td>\n",
       "      <td>0.088220</td>\n",
       "      <td>14.572792</td>\n",
       "      <td>5.621002</td>\n",
       "      <td>306.575579</td>\n",
       "      <td>2.186970</td>\n",
       "      <td>786.037001</td>\n",
       "    </tr>\n",
       "    <tr>\n",
       "      <th>1</th>\n",
       "      <td>1.100338</td>\n",
       "      <td>137.494937</td>\n",
       "      <td>1.002196</td>\n",
       "      <td>4.195070</td>\n",
       "      <td>2.685527</td>\n",
       "      <td>0.870417</td>\n",
       "      <td>23.382712</td>\n",
       "      <td>5.457086</td>\n",
       "      <td>305.705660</td>\n",
       "      <td>2.331511</td>\n",
       "      <td>674.655294</td>\n",
       "    </tr>\n",
       "    <tr>\n",
       "      <th>2</th>\n",
       "      <td>1.183259</td>\n",
       "      <td>152.447586</td>\n",
       "      <td>1.005988</td>\n",
       "      <td>4.068601</td>\n",
       "      <td>1.488471</td>\n",
       "      <td>1.700791</td>\n",
       "      <td>28.375317</td>\n",
       "      <td>5.628455</td>\n",
       "      <td>284.320814</td>\n",
       "      <td>2.213289</td>\n",
       "      <td>871.243670</td>\n",
       "    </tr>\n",
       "    <tr>\n",
       "      <th>3</th>\n",
       "      <td>1.384582</td>\n",
       "      <td>200.581978</td>\n",
       "      <td>1.126499</td>\n",
       "      <td>3.912504</td>\n",
       "      <td>3.720937</td>\n",
       "      <td>2.853318</td>\n",
       "      <td>43.045719</td>\n",
       "      <td>5.641723</td>\n",
       "      <td>273.551408</td>\n",
       "      <td>2.146489</td>\n",
       "      <td>803.771728</td>\n",
       "    </tr>\n",
       "  </tbody>\n",
       "</table>\n",
       "</div>"
      ],
      "text/plain": [
       "       nb_items_total  montant_total  nb_commande  mean_review_score  \\\n",
       "label                                                                  \n",
       "0            1.059742     169.636453     1.000000           4.315386   \n",
       "1            1.100338     137.494937     1.002196           4.195070   \n",
       "2            1.183259     152.447586     1.005988           4.068601   \n",
       "3            1.384582     200.581978     1.126499           3.912504   \n",
       "\n",
       "       mean_payment_installments  mean_length_comment_title  \\\n",
       "label                                                         \n",
       "0                       3.694940                   0.088220   \n",
       "1                       2.685527                   0.870417   \n",
       "2                       1.488471                   1.700791   \n",
       "3                       3.720937                   2.853318   \n",
       "\n",
       "       mean_length_comment_message  mean_distance     recence  \\\n",
       "label                                                           \n",
       "0                        14.572792       5.621002  306.575579   \n",
       "1                        23.382712       5.457086  305.705660   \n",
       "2                        28.375317       5.628455  284.320814   \n",
       "3                        43.045719       5.641723  273.551408   \n",
       "\n",
       "       med_product_photos_qty  med_product_description_lenght  \n",
       "label                                                          \n",
       "0                    2.186970                      786.037001  \n",
       "1                    2.331511                      674.655294  \n",
       "2                    2.213289                      871.243670  \n",
       "3                    2.146489                      803.771728  "
      ]
     },
     "execution_count": 11,
     "metadata": {},
     "output_type": "execute_result"
    }
   ],
   "source": [
    "result = df.groupby(['label']).mean()\n",
    "result"
   ]
  },
  {
   "cell_type": "code",
   "execution_count": 12,
   "metadata": {},
   "outputs": [
    {
     "data": {
      "application/vnd.plotly.v1+json": {
       "config": {
        "plotlyServerURL": "https://plot.ly"
       },
       "data": [
        {
         "fill": "toself",
         "name": "cluster #0",
         "r": [
          1.0597418561770129,
          169.63645318582257,
          1,
          4.31538619135423,
          3.694939561565253,
          0.08821962712558902,
          14.572792460561361,
          5.621002192413381,
          306.57557877484123,
          2.1869698832206517,
          786.0370006146281
         ],
         "theta": [
          "nb_items_total",
          "montant_total",
          "nb_commande",
          "mean_review_score",
          "mean_payment_installments",
          "mean_length_comment_title",
          "mean_length_comment_message",
          "mean_distance",
          "recence",
          "med_product_photos_qty",
          "med_product_description_lenght"
         ],
         "type": "scatterpolar"
        },
        {
         "fill": "toself",
         "name": "cluster #1",
         "r": [
          1.1003381197031572,
          137.4949369867826,
          1.002195582488034,
          4.195070185453534,
          2.6855267202388795,
          0.8704167215562288,
          23.38271198348922,
          5.457085553117722,
          305.70566021165416,
          2.3315109998682653,
          674.6552935493786
         ],
         "theta": [
          "nb_items_total",
          "montant_total",
          "nb_commande",
          "mean_review_score",
          "mean_payment_installments",
          "mean_length_comment_title",
          "mean_length_comment_message",
          "mean_distance",
          "recence",
          "med_product_photos_qty",
          "med_product_description_lenght"
         ],
         "type": "scatterpolar"
        },
        {
         "fill": "toself",
         "name": "cluster #2",
         "r": [
          1.1832592135969353,
          152.44758619171327,
          1.0059882876139317,
          4.068601118400775,
          1.4884710786256292,
          1.700791099760762,
          28.375317393920717,
          5.628455000427505,
          284.3208137026111,
          2.2132887147197393,
          871.2436704680551
         ],
         "theta": [
          "nb_items_total",
          "montant_total",
          "nb_commande",
          "mean_review_score",
          "mean_payment_installments",
          "mean_length_comment_title",
          "mean_length_comment_message",
          "mean_distance",
          "recence",
          "med_product_photos_qty",
          "med_product_description_lenght"
         ],
         "type": "scatterpolar"
        },
        {
         "fill": "toself",
         "name": "cluster #3",
         "r": [
          1.3845819572397011,
          200.58197766382756,
          1.126499217799409,
          3.9125041041389035,
          3.7209369714627845,
          2.8533183515019083,
          43.04571890028391,
          5.641723218928369,
          273.5514079610638,
          2.146488788458196,
          803.7717277941944
         ],
         "theta": [
          "nb_items_total",
          "montant_total",
          "nb_commande",
          "mean_review_score",
          "mean_payment_installments",
          "mean_length_comment_title",
          "mean_length_comment_message",
          "mean_distance",
          "recence",
          "med_product_photos_qty",
          "med_product_description_lenght"
         ],
         "type": "scatterpolar"
        }
       ],
       "layout": {
        "polar": {
         "radialaxis": {
          "range": [
           0,
           5
          ],
          "visible": true
         }
        },
        "showlegend": true,
        "template": {
         "data": {
          "bar": [
           {
            "error_x": {
             "color": "#2a3f5f"
            },
            "error_y": {
             "color": "#2a3f5f"
            },
            "marker": {
             "line": {
              "color": "#E5ECF6",
              "width": 0.5
             },
             "pattern": {
              "fillmode": "overlay",
              "size": 10,
              "solidity": 0.2
             }
            },
            "type": "bar"
           }
          ],
          "barpolar": [
           {
            "marker": {
             "line": {
              "color": "#E5ECF6",
              "width": 0.5
             },
             "pattern": {
              "fillmode": "overlay",
              "size": 10,
              "solidity": 0.2
             }
            },
            "type": "barpolar"
           }
          ],
          "carpet": [
           {
            "aaxis": {
             "endlinecolor": "#2a3f5f",
             "gridcolor": "white",
             "linecolor": "white",
             "minorgridcolor": "white",
             "startlinecolor": "#2a3f5f"
            },
            "baxis": {
             "endlinecolor": "#2a3f5f",
             "gridcolor": "white",
             "linecolor": "white",
             "minorgridcolor": "white",
             "startlinecolor": "#2a3f5f"
            },
            "type": "carpet"
           }
          ],
          "choropleth": [
           {
            "colorbar": {
             "outlinewidth": 0,
             "ticks": ""
            },
            "type": "choropleth"
           }
          ],
          "contour": [
           {
            "colorbar": {
             "outlinewidth": 0,
             "ticks": ""
            },
            "colorscale": [
             [
              0,
              "#0d0887"
             ],
             [
              0.1111111111111111,
              "#46039f"
             ],
             [
              0.2222222222222222,
              "#7201a8"
             ],
             [
              0.3333333333333333,
              "#9c179e"
             ],
             [
              0.4444444444444444,
              "#bd3786"
             ],
             [
              0.5555555555555556,
              "#d8576b"
             ],
             [
              0.6666666666666666,
              "#ed7953"
             ],
             [
              0.7777777777777778,
              "#fb9f3a"
             ],
             [
              0.8888888888888888,
              "#fdca26"
             ],
             [
              1,
              "#f0f921"
             ]
            ],
            "type": "contour"
           }
          ],
          "contourcarpet": [
           {
            "colorbar": {
             "outlinewidth": 0,
             "ticks": ""
            },
            "type": "contourcarpet"
           }
          ],
          "heatmap": [
           {
            "colorbar": {
             "outlinewidth": 0,
             "ticks": ""
            },
            "colorscale": [
             [
              0,
              "#0d0887"
             ],
             [
              0.1111111111111111,
              "#46039f"
             ],
             [
              0.2222222222222222,
              "#7201a8"
             ],
             [
              0.3333333333333333,
              "#9c179e"
             ],
             [
              0.4444444444444444,
              "#bd3786"
             ],
             [
              0.5555555555555556,
              "#d8576b"
             ],
             [
              0.6666666666666666,
              "#ed7953"
             ],
             [
              0.7777777777777778,
              "#fb9f3a"
             ],
             [
              0.8888888888888888,
              "#fdca26"
             ],
             [
              1,
              "#f0f921"
             ]
            ],
            "type": "heatmap"
           }
          ],
          "heatmapgl": [
           {
            "colorbar": {
             "outlinewidth": 0,
             "ticks": ""
            },
            "colorscale": [
             [
              0,
              "#0d0887"
             ],
             [
              0.1111111111111111,
              "#46039f"
             ],
             [
              0.2222222222222222,
              "#7201a8"
             ],
             [
              0.3333333333333333,
              "#9c179e"
             ],
             [
              0.4444444444444444,
              "#bd3786"
             ],
             [
              0.5555555555555556,
              "#d8576b"
             ],
             [
              0.6666666666666666,
              "#ed7953"
             ],
             [
              0.7777777777777778,
              "#fb9f3a"
             ],
             [
              0.8888888888888888,
              "#fdca26"
             ],
             [
              1,
              "#f0f921"
             ]
            ],
            "type": "heatmapgl"
           }
          ],
          "histogram": [
           {
            "marker": {
             "pattern": {
              "fillmode": "overlay",
              "size": 10,
              "solidity": 0.2
             }
            },
            "type": "histogram"
           }
          ],
          "histogram2d": [
           {
            "colorbar": {
             "outlinewidth": 0,
             "ticks": ""
            },
            "colorscale": [
             [
              0,
              "#0d0887"
             ],
             [
              0.1111111111111111,
              "#46039f"
             ],
             [
              0.2222222222222222,
              "#7201a8"
             ],
             [
              0.3333333333333333,
              "#9c179e"
             ],
             [
              0.4444444444444444,
              "#bd3786"
             ],
             [
              0.5555555555555556,
              "#d8576b"
             ],
             [
              0.6666666666666666,
              "#ed7953"
             ],
             [
              0.7777777777777778,
              "#fb9f3a"
             ],
             [
              0.8888888888888888,
              "#fdca26"
             ],
             [
              1,
              "#f0f921"
             ]
            ],
            "type": "histogram2d"
           }
          ],
          "histogram2dcontour": [
           {
            "colorbar": {
             "outlinewidth": 0,
             "ticks": ""
            },
            "colorscale": [
             [
              0,
              "#0d0887"
             ],
             [
              0.1111111111111111,
              "#46039f"
             ],
             [
              0.2222222222222222,
              "#7201a8"
             ],
             [
              0.3333333333333333,
              "#9c179e"
             ],
             [
              0.4444444444444444,
              "#bd3786"
             ],
             [
              0.5555555555555556,
              "#d8576b"
             ],
             [
              0.6666666666666666,
              "#ed7953"
             ],
             [
              0.7777777777777778,
              "#fb9f3a"
             ],
             [
              0.8888888888888888,
              "#fdca26"
             ],
             [
              1,
              "#f0f921"
             ]
            ],
            "type": "histogram2dcontour"
           }
          ],
          "mesh3d": [
           {
            "colorbar": {
             "outlinewidth": 0,
             "ticks": ""
            },
            "type": "mesh3d"
           }
          ],
          "parcoords": [
           {
            "line": {
             "colorbar": {
              "outlinewidth": 0,
              "ticks": ""
             }
            },
            "type": "parcoords"
           }
          ],
          "pie": [
           {
            "automargin": true,
            "type": "pie"
           }
          ],
          "scatter": [
           {
            "fillpattern": {
             "fillmode": "overlay",
             "size": 10,
             "solidity": 0.2
            },
            "type": "scatter"
           }
          ],
          "scatter3d": [
           {
            "line": {
             "colorbar": {
              "outlinewidth": 0,
              "ticks": ""
             }
            },
            "marker": {
             "colorbar": {
              "outlinewidth": 0,
              "ticks": ""
             }
            },
            "type": "scatter3d"
           }
          ],
          "scattercarpet": [
           {
            "marker": {
             "colorbar": {
              "outlinewidth": 0,
              "ticks": ""
             }
            },
            "type": "scattercarpet"
           }
          ],
          "scattergeo": [
           {
            "marker": {
             "colorbar": {
              "outlinewidth": 0,
              "ticks": ""
             }
            },
            "type": "scattergeo"
           }
          ],
          "scattergl": [
           {
            "marker": {
             "colorbar": {
              "outlinewidth": 0,
              "ticks": ""
             }
            },
            "type": "scattergl"
           }
          ],
          "scattermapbox": [
           {
            "marker": {
             "colorbar": {
              "outlinewidth": 0,
              "ticks": ""
             }
            },
            "type": "scattermapbox"
           }
          ],
          "scatterpolar": [
           {
            "marker": {
             "colorbar": {
              "outlinewidth": 0,
              "ticks": ""
             }
            },
            "type": "scatterpolar"
           }
          ],
          "scatterpolargl": [
           {
            "marker": {
             "colorbar": {
              "outlinewidth": 0,
              "ticks": ""
             }
            },
            "type": "scatterpolargl"
           }
          ],
          "scatterternary": [
           {
            "marker": {
             "colorbar": {
              "outlinewidth": 0,
              "ticks": ""
             }
            },
            "type": "scatterternary"
           }
          ],
          "surface": [
           {
            "colorbar": {
             "outlinewidth": 0,
             "ticks": ""
            },
            "colorscale": [
             [
              0,
              "#0d0887"
             ],
             [
              0.1111111111111111,
              "#46039f"
             ],
             [
              0.2222222222222222,
              "#7201a8"
             ],
             [
              0.3333333333333333,
              "#9c179e"
             ],
             [
              0.4444444444444444,
              "#bd3786"
             ],
             [
              0.5555555555555556,
              "#d8576b"
             ],
             [
              0.6666666666666666,
              "#ed7953"
             ],
             [
              0.7777777777777778,
              "#fb9f3a"
             ],
             [
              0.8888888888888888,
              "#fdca26"
             ],
             [
              1,
              "#f0f921"
             ]
            ],
            "type": "surface"
           }
          ],
          "table": [
           {
            "cells": {
             "fill": {
              "color": "#EBF0F8"
             },
             "line": {
              "color": "white"
             }
            },
            "header": {
             "fill": {
              "color": "#C8D4E3"
             },
             "line": {
              "color": "white"
             }
            },
            "type": "table"
           }
          ]
         },
         "layout": {
          "annotationdefaults": {
           "arrowcolor": "#2a3f5f",
           "arrowhead": 0,
           "arrowwidth": 1
          },
          "autotypenumbers": "strict",
          "coloraxis": {
           "colorbar": {
            "outlinewidth": 0,
            "ticks": ""
           }
          },
          "colorscale": {
           "diverging": [
            [
             0,
             "#8e0152"
            ],
            [
             0.1,
             "#c51b7d"
            ],
            [
             0.2,
             "#de77ae"
            ],
            [
             0.3,
             "#f1b6da"
            ],
            [
             0.4,
             "#fde0ef"
            ],
            [
             0.5,
             "#f7f7f7"
            ],
            [
             0.6,
             "#e6f5d0"
            ],
            [
             0.7,
             "#b8e186"
            ],
            [
             0.8,
             "#7fbc41"
            ],
            [
             0.9,
             "#4d9221"
            ],
            [
             1,
             "#276419"
            ]
           ],
           "sequential": [
            [
             0,
             "#0d0887"
            ],
            [
             0.1111111111111111,
             "#46039f"
            ],
            [
             0.2222222222222222,
             "#7201a8"
            ],
            [
             0.3333333333333333,
             "#9c179e"
            ],
            [
             0.4444444444444444,
             "#bd3786"
            ],
            [
             0.5555555555555556,
             "#d8576b"
            ],
            [
             0.6666666666666666,
             "#ed7953"
            ],
            [
             0.7777777777777778,
             "#fb9f3a"
            ],
            [
             0.8888888888888888,
             "#fdca26"
            ],
            [
             1,
             "#f0f921"
            ]
           ],
           "sequentialminus": [
            [
             0,
             "#0d0887"
            ],
            [
             0.1111111111111111,
             "#46039f"
            ],
            [
             0.2222222222222222,
             "#7201a8"
            ],
            [
             0.3333333333333333,
             "#9c179e"
            ],
            [
             0.4444444444444444,
             "#bd3786"
            ],
            [
             0.5555555555555556,
             "#d8576b"
            ],
            [
             0.6666666666666666,
             "#ed7953"
            ],
            [
             0.7777777777777778,
             "#fb9f3a"
            ],
            [
             0.8888888888888888,
             "#fdca26"
            ],
            [
             1,
             "#f0f921"
            ]
           ]
          },
          "colorway": [
           "#636efa",
           "#EF553B",
           "#00cc96",
           "#ab63fa",
           "#FFA15A",
           "#19d3f3",
           "#FF6692",
           "#B6E880",
           "#FF97FF",
           "#FECB52"
          ],
          "font": {
           "color": "#2a3f5f"
          },
          "geo": {
           "bgcolor": "white",
           "lakecolor": "white",
           "landcolor": "#E5ECF6",
           "showlakes": true,
           "showland": true,
           "subunitcolor": "white"
          },
          "hoverlabel": {
           "align": "left"
          },
          "hovermode": "closest",
          "mapbox": {
           "style": "light"
          },
          "paper_bgcolor": "white",
          "plot_bgcolor": "#E5ECF6",
          "polar": {
           "angularaxis": {
            "gridcolor": "white",
            "linecolor": "white",
            "ticks": ""
           },
           "bgcolor": "#E5ECF6",
           "radialaxis": {
            "gridcolor": "white",
            "linecolor": "white",
            "ticks": ""
           }
          },
          "scene": {
           "xaxis": {
            "backgroundcolor": "#E5ECF6",
            "gridcolor": "white",
            "gridwidth": 2,
            "linecolor": "white",
            "showbackground": true,
            "ticks": "",
            "zerolinecolor": "white"
           },
           "yaxis": {
            "backgroundcolor": "#E5ECF6",
            "gridcolor": "white",
            "gridwidth": 2,
            "linecolor": "white",
            "showbackground": true,
            "ticks": "",
            "zerolinecolor": "white"
           },
           "zaxis": {
            "backgroundcolor": "#E5ECF6",
            "gridcolor": "white",
            "gridwidth": 2,
            "linecolor": "white",
            "showbackground": true,
            "ticks": "",
            "zerolinecolor": "white"
           }
          },
          "shapedefaults": {
           "line": {
            "color": "#2a3f5f"
           }
          },
          "ternary": {
           "aaxis": {
            "gridcolor": "white",
            "linecolor": "white",
            "ticks": ""
           },
           "baxis": {
            "gridcolor": "white",
            "linecolor": "white",
            "ticks": ""
           },
           "bgcolor": "#E5ECF6",
           "caxis": {
            "gridcolor": "white",
            "linecolor": "white",
            "ticks": ""
           }
          },
          "title": {
           "x": 0.05
          },
          "xaxis": {
           "automargin": true,
           "gridcolor": "white",
           "linecolor": "white",
           "ticks": "",
           "title": {
            "standoff": 15
           },
           "zerolinecolor": "white",
           "zerolinewidth": 2
          },
          "yaxis": {
           "automargin": true,
           "gridcolor": "white",
           "linecolor": "white",
           "ticks": "",
           "title": {
            "standoff": 15
           },
           "zerolinecolor": "white",
           "zerolinewidth": 2
          }
         }
        },
        "title": {
         "text": "Issues with Plotly",
         "x": 0.5
        }
       }
      }
     },
     "metadata": {},
     "output_type": "display_data"
    }
   ],
   "source": [
    "import plotly.graph_objects as go\n",
    "\n",
    "categories = result.columns\n",
    "fig = go.Figure()\n",
    "\n",
    "for g in result.index:\n",
    "    fig.add_trace(go.Scatterpolar(\n",
    "        r = result.loc[g].values,\n",
    "        theta = categories,\n",
    "        fill = 'toself',\n",
    "        name = f'cluster #{g}'\n",
    "    ))\n",
    "\n",
    "fig.update_layout(\n",
    "  polar=dict(\n",
    "    radialaxis=dict(\n",
    "      visible=True,\n",
    "      range=[0, 5] # here we can define the range\n",
    "    )),\n",
    "  showlegend=True,\n",
    "    title=\"Issues with Plotly\",\n",
    "    title_x=0.5\n",
    ")\n",
    "\n",
    "fig.show()"
   ]
  },
  {
   "cell_type": "code",
   "execution_count": 13,
   "metadata": {},
   "outputs": [],
   "source": [
    "from sklearn.compose import ColumnTransformer\n",
    "from sklearn.preprocessing import  StandardScaler,FunctionTransformer\n",
    "from sklearn.pipeline import Pipeline\n",
    "\n",
    "\n",
    "std = StandardScaler()\n",
    "\n",
    "log_1p = FunctionTransformer(func=np.log1p)\n",
    "preprocessor_pca = ColumnTransformer(\n",
    "    transformers=[\n",
    "        (\"log\",log_1p,num_columns)\n",
    "    ]\n",
    "    \n",
    ")\n",
    "pipe=Pipeline([\n",
    "     ('preprocessor', preprocessor_pca),\n",
    "     ('std', std )\n",
    "])\n",
    "\n"
   ]
  },
  {
   "cell_type": "code",
   "execution_count": 20,
   "metadata": {},
   "outputs": [
    {
     "name": "stdout",
     "output_type": "stream",
     "text": [
      "Initialization method and algorithm are deterministic. Setting n_init to 1.\n",
      "Init: initializing centroids\n",
      "Init: initializing centroids\n",
      "Init: initializing centroids\n",
      "Init: initializing clusters\n",
      "Init: initializing centroids\n",
      "Init: initializing centroids\n",
      "Init: initializing centroids\n",
      "Init: initializing clusters\n",
      "Init: initializing centroids\n",
      "Init: initializing centroids\n",
      "Init: initializing clusters\n",
      "Init: initializing clusters\n",
      "Init: initializing clusters\n",
      "Init: initializing clusters\n",
      "Init: initializing clusters\n",
      "Init: initializing clusters\n",
      "Starting iterations...\n",
      "Starting iterations...\n",
      "Starting iterations...\n",
      "Starting iterations...\n",
      "Starting iterations...\n",
      "Starting iterations...\n",
      "Starting iterations...\n",
      "Starting iterations...\n",
      "Run: 6, iteration: 1/100, moves: 31393, ncost: 946734.8342586237\n",
      "Run: 5, iteration: 1/100, moves: 29872, ncost: 917574.9537613371\n",
      "Run: 2, iteration: 1/100, moves: 20939, ncost: 891620.3279055256\n",
      "Run: 8, iteration: 1/100, moves: 25733, ncost: 898059.3993874758\n",
      "Run: 1, iteration: 1/100, moves: 25435, ncost: 895450.929812467\n",
      "Run: 4, iteration: 1/100, moves: 31682, ncost: 911383.7626981761\n",
      "Run: 7, iteration: 1/100, moves: 20623, ncost: 904560.9614552562\n",
      "Run: 3, iteration: 1/100, moves: 37983, ncost: 944447.4741225543\n",
      "Run: 5, iteration: 2/100, moves: 18392, ncost: 890622.7319105963\n",
      "Run: 6, iteration: 2/100, moves: 14487, ncost: 930533.7812891774\n",
      "Run: 8, iteration: 2/100, moves: 12584, ncost: 883912.7987759464\n",
      "Run: 2, iteration: 2/100, moves: 11097, ncost: 877309.5614600434\n",
      "Run: 1, iteration: 2/100, moves: 10542, ncost: 883617.758034671\n",
      "Run: 3, iteration: 2/100, moves: 14586, ncost: 931655.9663358157\n",
      "Run: 7, iteration: 2/100, moves: 13640, ncost: 878064.2122211171\n",
      "Run: 4, iteration: 2/100, moves: 19083, ncost: 886177.7154093671\n",
      "Run: 8, iteration: 3/100, moves: 7334, ncost: 879875.5364805248\n",
      "Run: 2, iteration: 3/100, moves: 7954, ncost: 870717.0904973563\n",
      "Run: 6, iteration: 3/100, moves: 11367, ncost: 904662.417046858\n",
      "Run: 5, iteration: 3/100, moves: 9854, ncost: 883070.0537398373\n",
      "Run: 7, iteration: 3/100, moves: 5781, ncost: 868920.0430307103\n",
      "Run: 1, iteration: 3/100, moves: 7009, ncost: 878299.8350859703\n",
      "Run: 3, iteration: 3/100, moves: 9858, ncost: 921965.372618723\n",
      "Run: 4, iteration: 3/100, moves: 9575, ncost: 879626.5162004146\n",
      "Run: 2, iteration: 4/100, moves: 4139, ncost: 869270.186236882\n",
      "Run: 6, iteration: 4/100, moves: 8785, ncost: 890340.2718161147\n",
      "Run: 8, iteration: 4/100, moves: 3792, ncost: 878824.5535638038\n",
      "Run: 5, iteration: 4/100, moves: 4656, ncost: 880501.3170589055\n",
      "Run: 7, iteration: 4/100, moves: 3212, ncost: 864562.9020089634\n",
      "Run: 1, iteration: 4/100, moves: 5190, ncost: 873325.7405386374\n",
      "Run: 3, iteration: 4/100, moves: 9368, ncost: 912533.703185477\n",
      "Run: 4, iteration: 4/100, moves: 4856, ncost: 877791.723556645\n",
      "Run: 8, iteration: 5/100, moves: 2016, ncost: 878487.981086796\n",
      "Run: 2, iteration: 5/100, moves: 1889, ncost: 868910.1485496568\n",
      "Run: 6, iteration: 5/100, moves: 5467, ncost: 882957.9022348846\n",
      "Run: 5, iteration: 5/100, moves: 2695, ncost: 879243.9951763321\n",
      "Run: 7, iteration: 5/100, moves: 2492, ncost: 861871.4552336221\n",
      "Run: 1, iteration: 5/100, moves: 3111, ncost: 871454.3291984416\n",
      "Run: 4, iteration: 5/100, moves: 2361, ncost: 877383.0370365146\n",
      "Run: 3, iteration: 5/100, moves: 6741, ncost: 907599.3350067189\n",
      "Run: 8, iteration: 6/100, moves: 1384, ncost: 878316.4312051652\n",
      "Run: 2, iteration: 6/100, moves: 1547, ncost: 868374.6860879401\n",
      "Run: 6, iteration: 6/100, moves: 2869, ncost: 880180.1809169103\n",
      "Run: 5, iteration: 6/100, moves: 2091, ncost: 878593.2977293896\n",
      "Run: 7, iteration: 6/100, moves: 1874, ncost: 860602.9618734315\n",
      "Run: 1, iteration: 6/100, moves: 1924, ncost: 870259.4035344179\n",
      "Run: 3, iteration: 6/100, moves: 3854, ncost: 905755.6982484276\n",
      "Run: 4, iteration: 6/100, moves: 1048, ncost: 877295.2196076517\n",
      "Run: 8, iteration: 7/100, moves: 998, ncost: 878208.4091380828\n",
      "Run: 2, iteration: 7/100, moves: 1435, ncost: 868215.2016634223\n",
      "Run: 6, iteration: 7/100, moves: 1720, ncost: 878598.3630377457\n",
      "Run: 5, iteration: 7/100, moves: 1564, ncost: 878337.1077360228\n",
      "Run: 7, iteration: 7/100, moves: 1356, ncost: 860256.2211774804\n",
      "Run: 3, iteration: 7/100, moves: 2243, ncost: 905041.2147957225\n",
      "Run: 1, iteration: 7/100, moves: 1073, ncost: 869657.7485678406\n",
      "Run: 4, iteration: 7/100, moves: 558, ncost: 877265.138696781\n",
      "Run: 2, iteration: 8/100, moves: 832, ncost: 868138.6385157753\n",
      "Run: 6, iteration: 8/100, moves: 1128, ncost: 877631.5024121653\n",
      "Run: 8, iteration: 8/100, moves: 906, ncost: 878101.8860834563\n",
      "Run: 7, iteration: 8/100, moves: 1002, ncost: 860117.3398907774\n",
      "Run: 5, iteration: 8/100, moves: 1249, ncost: 878201.3291291024\n",
      "Run: 3, iteration: 8/100, moves: 1232, ncost: 904850.8765589861\n",
      "Run: 1, iteration: 8/100, moves: 663, ncost: 869252.8086202217\n",
      "Run: 4, iteration: 8/100, moves: 285, ncost: 877255.8212007163\n",
      "Run: 8, iteration: 9/100, moves: 990, ncost: 877925.8024110628\n",
      "Run: 2, iteration: 9/100, moves: 715, ncost: 868076.6522195267\n",
      "Run: 6, iteration: 9/100, moves: 756, ncost: 877338.0253296065\n",
      "Run: 7, iteration: 9/100, moves: 636, ncost: 860058.9707808209\n",
      "Run: 5, iteration: 9/100, moves: 862, ncost: 878131.9706928371\n",
      "Run: 3, iteration: 9/100, moves: 603, ncost: 904807.4863932255\n",
      "Run: 1, iteration: 9/100, moves: 444, ncost: 869131.8856312069\n",
      "Run: 8, iteration: 10/100, moves: 1286, ncost: 877516.9109425435\n",
      "Run: 4, iteration: 9/100, moves: 183, ncost: 877251.500873204\n",
      "Run: 6, iteration: 10/100, moves: 475, ncost: 877276.008451287\n",
      "Run: 2, iteration: 10/100, moves: 696, ncost: 868011.997117814\n",
      "Run: 7, iteration: 10/100, moves: 461, ncost: 860024.2439843973\n",
      "Run: 5, iteration: 10/100, moves: 674, ncost: 878089.332124791\n",
      "Run: 3, iteration: 10/100, moves: 367, ncost: 904790.3268632625\n",
      "Run: 1, iteration: 10/100, moves: 365, ncost: 869091.2737055301\n",
      "Run: 8, iteration: 11/100, moves: 1670, ncost: 876358.2082356939\n",
      "Run: 6, iteration: 11/100, moves: 327, ncost: 877260.8304466651\n",
      "Run: 4, iteration: 10/100, moves: 113, ncost: 877249.8823623919\n",
      "Run: 2, iteration: 11/100, moves: 649, ncost: 867950.4218029347\n",
      "Run: 7, iteration: 11/100, moves: 346, ncost: 860006.1249264631\n",
      "Run: 5, iteration: 11/100, moves: 546, ncost: 878061.5737948152\n",
      "Run: 3, iteration: 11/100, moves: 263, ncost: 904783.5565139205\n",
      "Run: 1, iteration: 11/100, moves: 330, ncost: 869063.9930351803\n",
      "Run: 6, iteration: 12/100, moves: 255, ncost: 877254.578206782\n",
      "Run: 8, iteration: 12/100, moves: 2370, ncost: 872399.5837509502\n",
      "Run: 4, iteration: 11/100, moves: 75, ncost: 877249.1676875534\n",
      "Run: 2, iteration: 12/100, moves: 722, ncost: 867876.8125357794\n",
      "Run: 7, iteration: 12/100, moves: 240, ncost: 859997.1153601544\n",
      "Run: 1, iteration: 12/100, moves: 346, ncost: 869045.1343993499\n",
      "Run: 5, iteration: 12/100, moves: 519, ncost: 878036.0674433094\n",
      "Run: 3, iteration: 12/100, moves: 170, ncost: 904781.0296675821\n",
      "Run: 6, iteration: 13/100, moves: 186, ncost: 877251.4676751246\n",
      "Run: 8, iteration: 13/100, moves: 2106, ncost: 869261.5926957481\n",
      "Run: 4, iteration: 12/100, moves: 40, ncost: 877248.9906149525\n",
      "Run: 2, iteration: 13/100, moves: 763, ncost: 867791.3062511202\n",
      "Run: 7, iteration: 13/100, moves: 157, ncost: 859993.7600467947\n",
      "Run: 1, iteration: 13/100, moves: 375, ncost: 869026.4181013387\n",
      "Run: 5, iteration: 13/100, moves: 416, ncost: 878014.7295380993\n",
      "Run: 3, iteration: 13/100, moves: 95, ncost: 904780.0987867103\n",
      "Run: 8, iteration: 14/100, moves: 877, ncost: 869144.0087168894\n",
      "Run: 4, iteration: 13/100, moves: 20, ncost: 877248.9076489075\n",
      "Run: 6, iteration: 14/100, moves: 94, ncost: 877250.4524519726\n",
      "Run: 2, iteration: 14/100, moves: 799, ncost: 867702.1921838798\n",
      "Run: 7, iteration: 14/100, moves: 93, ncost: 859992.2711244359\n",
      "Run: 5, iteration: 14/100, moves: 459, ncost: 877991.7874417795\n",
      "Run: 1, iteration: 14/100, moves: 318, ncost: 869011.7938554846\n",
      "Run: 3, iteration: 14/100, moves: 38, ncost: 904779.9260612777\n",
      "Run: 8, iteration: 15/100, moves: 978, ncost: 868979.1555252628\n",
      "Run: 4, iteration: 14/100, moves: 24, ncost: 877248.8386184019\n",
      "Run: 6, iteration: 15/100, moves: 51, ncost: 877250.0573839978\n",
      "Run: 2, iteration: 15/100, moves: 812, ncost: 867611.9555539612\n",
      "Run: 7, iteration: 15/100, moves: 80, ncost: 859990.9119966766\n",
      "Run: 5, iteration: 15/100, moves: 415, ncost: 877971.3293641473\n",
      "Run: 1, iteration: 15/100, moves: 353, ncost: 868987.2798024488\n",
      "Run: 3, iteration: 15/100, moves: 31, ncost: 904779.7841517911\n",
      "Run: 6, iteration: 16/100, moves: 43, ncost: 877249.7685278883\n",
      "Run: 4, iteration: 15/100, moves: 9, ncost: 877248.8255322314\n",
      "Run: 8, iteration: 16/100, moves: 1417, ncost: 868602.5728571283\n",
      "Run: 2, iteration: 16/100, moves: 842, ncost: 867511.5857842037\n",
      "Run: 7, iteration: 16/100, moves: 75, ncost: 859989.6285788042\n",
      "Run: 5, iteration: 16/100, moves: 578, ncost: 877647.4901838116\n",
      "Run: 1, iteration: 16/100, moves: 403, ncost: 868958.9067019307\n",
      "Run: 3, iteration: 16/100, moves: 29, ncost: 904779.6126318352\n",
      "Run: 4, iteration: 16/100, moves: 3, ncost: 877248.8233113661\n",
      "Run: 6, iteration: 17/100, moves: 30, ncost: 877249.6112414885\n",
      "Run: 8, iteration: 17/100, moves: 2191, ncost: 867785.6982812431\n",
      "Run: 2, iteration: 17/100, moves: 838, ncost: 867410.191861594\n",
      "Run: 7, iteration: 17/100, moves: 87, ncost: 859988.1482770067\n",
      "Run: 5, iteration: 17/100, moves: 1522, ncost: 877489.1208021914\n",
      "Run: 3, iteration: 17/100, moves: 39, ncost: 904779.4277705153\n",
      "Run: 1, iteration: 17/100, moves: 340, ncost: 868942.237846064\n",
      "Run: 4, iteration: 17/100, moves: 0, ncost: 877248.8233113661\n",
      "Run: 6, iteration: 18/100, moves: 20, ncost: 877249.550641162\n",
      "Run: 8, iteration: 18/100, moves: 2535, ncost: 866710.7472485827\n",
      "Run: 2, iteration: 18/100, moves: 939, ncost: 867287.7802045568\n",
      "Run: 7, iteration: 18/100, moves: 55, ncost: 859987.5665856968\n",
      "Run: 5, iteration: 18/100, moves: 972, ncost: 877394.2481607804\n",
      "Run: 1, iteration: 18/100, moves: 284, ncost: 868930.3882390014\n",
      "Run: 3, iteration: 18/100, moves: 22, ncost: 904779.3806300005\n",
      "Run: 6, iteration: 19/100, moves: 25, ncost: 877249.4549246532\n",
      "Run: 8, iteration: 19/100, moves: 2525, ncost: 865842.400625561\n",
      "Run: 2, iteration: 19/100, moves: 930, ncost: 867161.691650159\n",
      "Run: 7, iteration: 19/100, moves: 32, ncost: 859987.3847015534\n",
      "Run: 5, iteration: 19/100, moves: 790, ncost: 877331.5719383452\n",
      "Run: 3, iteration: 19/100, moves: 19, ncost: 904779.310086998\n",
      "Run: 1, iteration: 19/100, moves: 285, ncost: 868919.1471797698\n",
      "Run: 6, iteration: 20/100, moves: 24, ncost: 877249.333244619\n",
      "Run: 8, iteration: 20/100, moves: 2182, ncost: 865255.0589792487\n",
      "Run: 2, iteration: 20/100, moves: 1136, ncost: 866970.5022659077\n",
      "Run: 7, iteration: 20/100, moves: 33, ncost: 859987.1262813888\n",
      "Run: 3, iteration: 20/100, moves: 16, ncost: 904779.2756405205\n",
      "Run: 5, iteration: 20/100, moves: 578, ncost: 877297.0203835646\n",
      "Run: 1, iteration: 20/100, moves: 281, ncost: 868908.0546835125\n",
      "Run: 6, iteration: 21/100, moves: 32, ncost: 877249.1474838237\n",
      "Run: 8, iteration: 21/100, moves: 2595, ncost: 864183.2080503501\n",
      "Run: 2, iteration: 21/100, moves: 1413, ncost: 866686.9685126769\n",
      "Run: 7, iteration: 21/100, moves: 30, ncost: 859986.9563444593\n",
      "Run: 3, iteration: 21/100, moves: 18, ncost: 904779.2400127766\n",
      "Run: 5, iteration: 21/100, moves: 420, ncost: 877278.920982405\n",
      "Run: 6, iteration: 22/100, moves: 42, ncost: 877248.964794105\n",
      "Run: 1, iteration: 21/100, moves: 273, ncost: 868896.9628670564\n",
      "Run: 8, iteration: 22/100, moves: 2707, ncost: 862973.1142162351\n",
      "Run: 2, iteration: 22/100, moves: 1657, ncost: 865933.490724849\n",
      "Run: 3, iteration: 22/100, moves: 4, ncost: 904779.2327556086\n",
      "Run: 7, iteration: 22/100, moves: 17, ncost: 859986.9080700479\n",
      "Run: 5, iteration: 22/100, moves: 325, ncost: 877267.9736433894\n",
      "Run: 6, iteration: 23/100, moves: 22, ncost: 877248.9100236528\n",
      "Run: 1, iteration: 22/100, moves: 239, ncost: 868889.0441970847\n",
      "Run: 8, iteration: 23/100, moves: 1512, ncost: 862090.1811921345\n",
      "Run: 2, iteration: 23/100, moves: 2569, ncost: 865015.9182726233\n",
      "Run: 3, iteration: 23/100, moves: 11, ncost: 904779.2091679595\n",
      "Run: 7, iteration: 23/100, moves: 13, ncost: 859986.8823660971\n",
      "Run: 8, iteration: 24/100, moves: 1057, ncost: 861684.8104788435\n",
      "Run: 5, iteration: 23/100, moves: 252, ncost: 877260.8895204489\n",
      "Run: 6, iteration: 24/100, moves: 9, ncost: 877248.8889841124\n",
      "Run: 1, iteration: 23/100, moves: 192, ncost: 868883.458887435\n",
      "Run: 2, iteration: 24/100, moves: 2715, ncost: 863755.8690196881\n",
      "Run: 3, iteration: 24/100, moves: 6, ncost: 904779.2031002281\n",
      "Run: 7, iteration: 24/100, moves: 4, ncost: 859986.8758614704\n",
      "Run: 6, iteration: 25/100, moves: 10, ncost: 877248.8730996785\n",
      "Run: 8, iteration: 25/100, moves: 535, ncost: 861618.0855136153\n",
      "Run: 5, iteration: 24/100, moves: 242, ncost: 877254.8140460623\n",
      "Run: 1, iteration: 24/100, moves: 187, ncost: 868878.8350316251\n",
      "Run: 2, iteration: 25/100, moves: 2943, ncost: 862064.0918370446\n",
      "Run: 3, iteration: 25/100, moves: 3, ncost: 904779.2009856642\n",
      "Run: 6, iteration: 26/100, moves: 8, ncost: 877248.8633913093\n",
      "Run: 8, iteration: 26/100, moves: 247, ncost: 861605.1313816954\n",
      "Run: 7, iteration: 25/100, moves: 1, ncost: 859986.8754488548\n",
      "Run: 5, iteration: 25/100, moves: 164, ncost: 877252.1758682423\n",
      "Run: 1, iteration: 25/100, moves: 170, ncost: 868874.6822555481\n",
      "Run: 2, iteration: 26/100, moves: 2823, ncost: 860675.3423928594\n",
      "Run: 3, iteration: 26/100, moves: 2, ncost: 904779.198527712\n",
      "Run: 8, iteration: 27/100, moves: 136, ncost: 861601.821193963\n",
      "Run: 6, iteration: 27/100, moves: 8, ncost: 877248.8495356849\n",
      "Run: 7, iteration: 26/100, moves: 0, ncost: 859986.8754488548\n",
      "Run: 5, iteration: 26/100, moves: 109, ncost: 877250.9790224838\n",
      "Run: 1, iteration: 26/100, moves: 199, ncost: 868868.2983283373\n",
      "Run: 2, iteration: 27/100, moves: 1792, ncost: 860198.0783751117\n",
      "Run: 3, iteration: 27/100, moves: 3, ncost: 904779.195818963\n",
      "Run: 6, iteration: 28/100, moves: 9, ncost: 877248.8204930304\n",
      "Run: 8, iteration: 28/100, moves: 69, ncost: 861601.1198344684\n",
      "Run: 5, iteration: 27/100, moves: 73, ncost: 877250.4629396965\n",
      "Run: 1, iteration: 27/100, moves: 206, ncost: 868862.6232030118\n",
      "Run: 2, iteration: 28/100, moves: 994, ncost: 860055.536021751\n",
      "Run: 6, iteration: 29/100, moves: 10, ncost: 877248.7941913094\n",
      "Run: 3, iteration: 28/100, moves: 4, ncost: 904779.1931384935\n",
      "Run: 8, iteration: 29/100, moves: 46, ncost: 861600.7539640259\n",
      "Run: 5, iteration: 28/100, moves: 65, ncost: 877250.0421850218\n",
      "Run: 1, iteration: 28/100, moves: 162, ncost: 868858.3415952272\n",
      "Run: 2, iteration: 29/100, moves: 568, ncost: 860006.155479581\n",
      "Run: 6, iteration: 30/100, moves: 14, ncost: 877248.7662169499\n",
      "Run: 3, iteration: 29/100, moves: 0, ncost: 904779.1931384935\n",
      "Run: 8, iteration: 30/100, moves: 24, ncost: 861600.6632962967\n",
      "Run: 5, iteration: 29/100, moves: 53, ncost: 877249.7808289949\n",
      "Run: 1, iteration: 29/100, moves: 196, ncost: 868852.1296151656\n",
      "Run: 6, iteration: 31/100, moves: 10, ncost: 877248.7453133889\n",
      "Run: 2, iteration: 30/100, moves: 264, ncost: 859996.135604425\n",
      "Run: 8, iteration: 31/100, moves: 6, ncost: 861600.6567505758\n",
      "Run: 5, iteration: 30/100, moves: 37, ncost: 877249.5734006242\n",
      "Run: 6, iteration: 32/100, moves: 8, ncost: 877248.7220621783\n",
      "Run: 1, iteration: 30/100, moves: 209, ncost: 868846.4081817237\n",
      "Run: 5, iteration: 31/100, moves: 32, ncost: 877249.3943919279\n",
      "Run: 2, iteration: 31/100, moves: 138, ncost: 859993.1266498412\n",
      "Run: 8, iteration: 32/100, moves: 3, ncost: 861600.653959336\n",
      "Run: 6, iteration: 33/100, moves: 2, ncost: 877248.7154215756\n",
      "Run: 1, iteration: 31/100, moves: 212, ncost: 868841.1793064458\n",
      "Run: 5, iteration: 32/100, moves: 53, ncost: 877249.049402186\n",
      "Run: 6, iteration: 34/100, moves: 2, ncost: 877248.7113681448\n",
      "Run: 1, iteration: 32/100, moves: 189, ncost: 868836.3274019643\n",
      "Run: 2, iteration: 32/100, moves: 89, ncost: 859991.9500319917\n",
      "Run: 8, iteration: 33/100, moves: 2, ncost: 861600.6517900479\n",
      "Run: 5, iteration: 33/100, moves: 34, ncost: 877248.9284734239\n",
      "Run: 6, iteration: 35/100, moves: 1, ncost: 877248.7105918066\n",
      "Run: 1, iteration: 33/100, moves: 190, ncost: 868831.6318038944\n",
      "Run: 6, iteration: 36/100, moves: 0, ncost: 877248.7105918066\n",
      "Run: 5, iteration: 34/100, moves: 29, ncost: 877248.8120829293\n",
      "Run: 8, iteration: 34/100, moves: 0, ncost: 861600.6517900479\n",
      "Run: 2, iteration: 33/100, moves: 74, ncost: 859990.6083371501\n",
      "Run: 1, iteration: 34/100, moves: 160, ncost: 868827.5578335366\n",
      "Run: 5, iteration: 35/100, moves: 23, ncost: 877248.7288127246\n",
      "Run: 2, iteration: 34/100, moves: 84, ncost: 859989.0575431895\n",
      "Run: 1, iteration: 35/100, moves: 194, ncost: 868822.3304551225\n",
      "Run: 2, iteration: 35/100, moves: 83, ncost: 859987.7935581282\n",
      "Run: 5, iteration: 36/100, moves: 19, ncost: 877248.6817990014\n",
      "Run: 1, iteration: 36/100, moves: 584, ncost: 868485.8862922816\n",
      "Run: 2, iteration: 36/100, moves: 53, ncost: 859987.412509412\n",
      "Run: 5, iteration: 37/100, moves: 4, ncost: 877248.6761878141\n",
      "Run: 1, iteration: 37/100, moves: 1376, ncost: 868367.6640427717\n",
      "Run: 2, iteration: 37/100, moves: 32, ncost: 859987.1611001869\n",
      "Run: 5, iteration: 38/100, moves: 3, ncost: 877248.6734089815\n",
      "Run: 1, iteration: 38/100, moves: 865, ncost: 868282.5660890691\n",
      "Run: 2, iteration: 38/100, moves: 28, ncost: 859986.9766535169\n",
      "Run: 5, iteration: 39/100, moves: 0, ncost: 877248.6734089815\n",
      "Run: 1, iteration: 39/100, moves: 696, ncost: 868221.8362403192\n",
      "Run: 2, iteration: 39/100, moves: 22, ncost: 859986.9095184951\n",
      "Run: 1, iteration: 40/100, moves: 606, ncost: 868168.2605757926\n",
      "Run: 2, iteration: 40/100, moves: 14, ncost: 859986.8823660933\n",
      "Run: 1, iteration: 41/100, moves: 601, ncost: 868115.922620993\n",
      "Run: 2, iteration: 41/100, moves: 4, ncost: 859986.8758614676\n",
      "Run: 1, iteration: 42/100, moves: 588, ncost: 868062.5353351719\n",
      "Run: 2, iteration: 42/100, moves: 1, ncost: 859986.8754488574\n",
      "Run: 1, iteration: 43/100, moves: 698, ncost: 867997.0410268306\n",
      "Run: 2, iteration: 43/100, moves: 0, ncost: 859986.8754488574\n",
      "Run: 1, iteration: 44/100, moves: 663, ncost: 867934.6184211302\n",
      "Run: 1, iteration: 45/100, moves: 751, ncost: 867853.8620507729\n",
      "Run: 1, iteration: 46/100, moves: 775, ncost: 867767.494303578\n",
      "Run: 1, iteration: 47/100, moves: 795, ncost: 867679.7660049547\n",
      "Run: 1, iteration: 48/100, moves: 822, ncost: 867587.147963485\n",
      "Run: 1, iteration: 49/100, moves: 861, ncost: 867483.8631253694\n",
      "Run: 1, iteration: 50/100, moves: 875, ncost: 867376.9981098196\n",
      "Run: 1, iteration: 51/100, moves: 969, ncost: 867247.987755965\n",
      "Run: 1, iteration: 52/100, moves: 1011, ncost: 867103.5447581883\n",
      "Run: 1, iteration: 53/100, moves: 1263, ncost: 866878.512299822\n",
      "Run: 1, iteration: 54/100, moves: 1473, ncost: 866560.569641952\n",
      "Run: 1, iteration: 55/100, moves: 2162, ncost: 865589.7756191132\n",
      "Run: 1, iteration: 56/100, moves: 2570, ncost: 864563.4871097297\n",
      "Run: 1, iteration: 57/100, moves: 2868, ncost: 863077.7878489059\n",
      "Run: 1, iteration: 58/100, moves: 3038, ncost: 861336.6107734711\n",
      "Run: 1, iteration: 59/100, moves: 2380, ncost: 860406.6336479564\n",
      "Run: 1, iteration: 60/100, moves: 1447, ncost: 860115.3081399705\n",
      "Run: 1, iteration: 61/100, moves: 779, ncost: 860026.7383648005\n",
      "Run: 1, iteration: 62/100, moves: 419, ncost: 859999.7355315443\n",
      "Run: 1, iteration: 63/100, moves: 212, ncost: 859993.910599444\n",
      "Run: 1, iteration: 64/100, moves: 111, ncost: 859992.2623613466\n",
      "Run: 1, iteration: 65/100, moves: 66, ncost: 859991.1581597505\n",
      "Run: 1, iteration: 66/100, moves: 81, ncost: 859989.6330673591\n",
      "Run: 1, iteration: 67/100, moves: 78, ncost: 859988.2967578021\n",
      "Run: 1, iteration: 68/100, moves: 66, ncost: 859987.550457892\n",
      "Run: 1, iteration: 69/100, moves: 32, ncost: 859987.3638568929\n",
      "Run: 1, iteration: 70/100, moves: 31, ncost: 859987.1118068959\n",
      "Run: 1, iteration: 71/100, moves: 27, ncost: 859986.9600723701\n",
      "Run: 1, iteration: 72/100, moves: 18, ncost: 859986.9080700467\n",
      "Run: 1, iteration: 73/100, moves: 13, ncost: 859986.8823660954\n",
      "Run: 1, iteration: 74/100, moves: 4, ncost: 859986.875861469\n",
      "Run: 1, iteration: 75/100, moves: 1, ncost: 859986.8754488559\n",
      "Run: 1, iteration: 76/100, moves: 0, ncost: 859986.8754488559\n",
      "Best run was number 7\n"
     ]
    },
    {
     "data": {
      "text/plain": [
       "array([1, 2, 2, ..., 0, 1, 2], dtype=uint16)"
      ]
     },
     "execution_count": 20,
     "metadata": {},
     "output_type": "execute_result"
    }
   ],
   "source": [
    "from kmodes.kprototypes import KPrototypes\n",
    "catColumnsPos = [df.columns.get_loc(col) for col in list(df.select_dtypes('object').columns)]\n",
    "\n",
    "model_Kproto = KPrototypes(n_clusters=4, init=\"Cao\", verbose=2, n_jobs=-1, n_init=8, random_state=42)\n",
    "df_std = df.copy()\n",
    "df_std[num_columns] = pipe.fit_transform(df[num_columns])\n",
    "model_Kproto.fit_predict(df_std, categorical = catColumnsPos)"
   ]
  },
  {
   "cell_type": "code",
   "execution_count": 21,
   "metadata": {},
   "outputs": [],
   "source": [
    "# Add the cluster to the dataframe\n",
    "df_kproto= df.copy()\n",
    "df_kproto['label'] = model_Kproto.labels_"
   ]
  },
  {
   "cell_type": "code",
   "execution_count": 22,
   "metadata": {},
   "outputs": [
    {
     "name": "stdout",
     "output_type": "stream",
     "text": [
      "{0: '#1f77b4', 1: '#ff7f0e', 2: '#2ca02c', 3: '#d62728', 4: '#9467bd', 5: '#8c564b', 6: '#e377c2', 7: '#7f7f7f', 8: '#bcbd22', 9: '#17becf'}\n"
     ]
    },
    {
     "data": {
      "image/png": "[encoded data removed]",
      "text/plain": [
       "<Figure size 800x550 with 1 Axes>"
      ]
     },
     "metadata": {},
     "output_type": "display_data"
    }
   ],
   "source": [
    "from mpl_toolkits.mplot3d import axes3d\n",
    "import matplotlib.colors as mcolors\n",
    "\n",
    "\n",
    "# Créer une liste de couleurs à partir de la palette \"Set1\" de Matplotlib\n",
    "set1_colors = list(mcolors.TABLEAU_COLORS.values())[:10]\n",
    "\n",
    "# Créer un dictionnaire pour mapper des couleurs aux valeurs de la liste\n",
    "color_dict = {i: set1_colors[i] for i in range(len(set1_colors))}\n",
    "print(color_dict)\n",
    "\n",
    "plt.scatter(tsne_value[:,0],tsne_value[:,1],marker=\".\",c=[color_dict[i] for i in df_kproto[\"label\"]])\n",
    "plt.show()"
   ]
  },
  {
   "cell_type": "code",
   "execution_count": 23,
   "metadata": {},
   "outputs": [
    {
     "name": "stderr",
     "output_type": "stream",
     "text": [
      "/tmp/ipykernel_20853/3786504865.py:1: FutureWarning:\n",
      "\n",
      "The default value of numeric_only in DataFrameGroupBy.mean is deprecated. In a future version, numeric_only will default to False. Either specify numeric_only or select only columns which should be valid for the function.\n",
      "\n"
     ]
    },
    {
     "data": {
      "text/html": [
       "<div>\n",
       "<style scoped>\n",
       "    .dataframe tbody tr th:only-of-type {\n",
       "        vertical-align: middle;\n",
       "    }\n",
       "\n",
       "    .dataframe tbody tr th {\n",
       "        vertical-align: top;\n",
       "    }\n",
       "\n",
       "    .dataframe thead th {\n",
       "        text-align: right;\n",
       "    }\n",
       "</style>\n",
       "<table border=\"1\" class=\"dataframe\">\n",
       "  <thead>\n",
       "    <tr style=\"text-align: right;\">\n",
       "      <th></th>\n",
       "      <th>nb_items_total</th>\n",
       "      <th>montant_total</th>\n",
       "      <th>nb_commande</th>\n",
       "      <th>mean_review_score</th>\n",
       "      <th>mean_payment_installments</th>\n",
       "      <th>mean_length_comment_title</th>\n",
       "      <th>mean_length_comment_message</th>\n",
       "      <th>mean_distance</th>\n",
       "      <th>recence</th>\n",
       "      <th>med_product_photos_qty</th>\n",
       "      <th>med_product_description_lenght</th>\n",
       "    </tr>\n",
       "    <tr>\n",
       "      <th>label</th>\n",
       "      <th></th>\n",
       "      <th></th>\n",
       "      <th></th>\n",
       "      <th></th>\n",
       "      <th></th>\n",
       "      <th></th>\n",
       "      <th></th>\n",
       "      <th></th>\n",
       "      <th></th>\n",
       "      <th></th>\n",
       "      <th></th>\n",
       "    </tr>\n",
       "  </thead>\n",
       "  <tbody>\n",
       "    <tr>\n",
       "      <th>0</th>\n",
       "      <td>1.059742</td>\n",
       "      <td>169.636453</td>\n",
       "      <td>1.000000</td>\n",
       "      <td>4.315386</td>\n",
       "      <td>3.694940</td>\n",
       "      <td>0.088220</td>\n",
       "      <td>14.572792</td>\n",
       "      <td>5.621002</td>\n",
       "      <td>306.575579</td>\n",
       "      <td>2.186970</td>\n",
       "      <td>786.037001</td>\n",
       "    </tr>\n",
       "    <tr>\n",
       "      <th>1</th>\n",
       "      <td>1.100338</td>\n",
       "      <td>137.494937</td>\n",
       "      <td>1.002196</td>\n",
       "      <td>4.195070</td>\n",
       "      <td>2.685527</td>\n",
       "      <td>0.870417</td>\n",
       "      <td>23.382712</td>\n",
       "      <td>5.457086</td>\n",
       "      <td>305.705660</td>\n",
       "      <td>2.331511</td>\n",
       "      <td>674.655294</td>\n",
       "    </tr>\n",
       "    <tr>\n",
       "      <th>2</th>\n",
       "      <td>1.183259</td>\n",
       "      <td>152.447586</td>\n",
       "      <td>1.005988</td>\n",
       "      <td>4.068601</td>\n",
       "      <td>1.488471</td>\n",
       "      <td>1.700791</td>\n",
       "      <td>28.375317</td>\n",
       "      <td>5.628455</td>\n",
       "      <td>284.320814</td>\n",
       "      <td>2.213289</td>\n",
       "      <td>871.243670</td>\n",
       "    </tr>\n",
       "    <tr>\n",
       "      <th>3</th>\n",
       "      <td>1.384582</td>\n",
       "      <td>200.581978</td>\n",
       "      <td>1.126499</td>\n",
       "      <td>3.912504</td>\n",
       "      <td>3.720937</td>\n",
       "      <td>2.853318</td>\n",
       "      <td>43.045719</td>\n",
       "      <td>5.641723</td>\n",
       "      <td>273.551408</td>\n",
       "      <td>2.146489</td>\n",
       "      <td>803.771728</td>\n",
       "    </tr>\n",
       "  </tbody>\n",
       "</table>\n",
       "</div>"
      ],
      "text/plain": [
       "       nb_items_total  montant_total  nb_commande  mean_review_score  \\\n",
       "label                                                                  \n",
       "0            1.059742     169.636453     1.000000           4.315386   \n",
       "1            1.100338     137.494937     1.002196           4.195070   \n",
       "2            1.183259     152.447586     1.005988           4.068601   \n",
       "3            1.384582     200.581978     1.126499           3.912504   \n",
       "\n",
       "       mean_payment_installments  mean_length_comment_title  \\\n",
       "label                                                         \n",
       "0                       3.694940                   0.088220   \n",
       "1                       2.685527                   0.870417   \n",
       "2                       1.488471                   1.700791   \n",
       "3                       3.720937                   2.853318   \n",
       "\n",
       "       mean_length_comment_message  mean_distance     recence  \\\n",
       "label                                                           \n",
       "0                        14.572792       5.621002  306.575579   \n",
       "1                        23.382712       5.457086  305.705660   \n",
       "2                        28.375317       5.628455  284.320814   \n",
       "3                        43.045719       5.641723  273.551408   \n",
       "\n",
       "       med_product_photos_qty  med_product_description_lenght  \n",
       "label                                                          \n",
       "0                    2.186970                      786.037001  \n",
       "1                    2.331511                      674.655294  \n",
       "2                    2.213289                      871.243670  \n",
       "3                    2.146489                      803.771728  "
      ]
     },
     "execution_count": 23,
     "metadata": {},
     "output_type": "execute_result"
    }
   ],
   "source": [
    "result_kprot = df.groupby(['label']).mean()\n",
    "result_kprot"
   ]
  },
  {
   "cell_type": "code",
   "execution_count": 24,
   "metadata": {},
   "outputs": [
    {
     "data": {
      "application/vnd.plotly.v1+json": {
       "config": {
        "plotlyServerURL": "https://plot.ly"
       },
       "data": [
        {
         "fill": "toself",
         "name": "cluster #0",
         "r": [
          1.0597418561770129,
          169.63645318582257,
          1,
          4.31538619135423,
          3.694939561565253,
          0.08821962712558902,
          14.572792460561361,
          5.621002192413381,
          306.57557877484123,
          2.1869698832206517,
          786.0370006146281
         ],
         "theta": [
          "nb_items_total",
          "montant_total",
          "nb_commande",
          "mean_review_score",
          "mean_payment_installments",
          "mean_length_comment_title",
          "mean_length_comment_message",
          "mean_distance",
          "recence",
          "med_product_photos_qty",
          "med_product_description_lenght"
         ],
         "type": "scatterpolar"
        },
        {
         "fill": "toself",
         "name": "cluster #1",
         "r": [
          1.1003381197031572,
          137.4949369867826,
          1.002195582488034,
          4.195070185453534,
          2.6855267202388795,
          0.8704167215562288,
          23.38271198348922,
          5.457085553117722,
          305.70566021165416,
          2.3315109998682653,
          674.6552935493786
         ],
         "theta": [
          "nb_items_total",
          "montant_total",
          "nb_commande",
          "mean_review_score",
          "mean_payment_installments",
          "mean_length_comment_title",
          "mean_length_comment_message",
          "mean_distance",
          "recence",
          "med_product_photos_qty",
          "med_product_description_lenght"
         ],
         "type": "scatterpolar"
        },
        {
         "fill": "toself",
         "name": "cluster #2",
         "r": [
          1.1832592135969353,
          152.44758619171327,
          1.0059882876139317,
          4.068601118400775,
          1.4884710786256292,
          1.700791099760762,
          28.375317393920717,
          5.628455000427505,
          284.3208137026111,
          2.2132887147197393,
          871.2436704680551
         ],
         "theta": [
          "nb_items_total",
          "montant_total",
          "nb_commande",
          "mean_review_score",
          "mean_payment_installments",
          "mean_length_comment_title",
          "mean_length_comment_message",
          "mean_distance",
          "recence",
          "med_product_photos_qty",
          "med_product_description_lenght"
         ],
         "type": "scatterpolar"
        },
        {
         "fill": "toself",
         "name": "cluster #3",
         "r": [
          1.3845819572397011,
          200.58197766382756,
          1.126499217799409,
          3.9125041041389035,
          3.7209369714627845,
          2.8533183515019083,
          43.04571890028391,
          5.641723218928369,
          273.5514079610638,
          2.146488788458196,
          803.7717277941944
         ],
         "theta": [
          "nb_items_total",
          "montant_total",
          "nb_commande",
          "mean_review_score",
          "mean_payment_installments",
          "mean_length_comment_title",
          "mean_length_comment_message",
          "mean_distance",
          "recence",
          "med_product_photos_qty",
          "med_product_description_lenght"
         ],
         "type": "scatterpolar"
        }
       ],
       "layout": {
        "polar": {
         "radialaxis": {
          "range": [
           0,
           5
          ],
          "visible": true
         }
        },
        "showlegend": true,
        "template": {
         "data": {
          "bar": [
           {
            "error_x": {
             "color": "#2a3f5f"
            },
            "error_y": {
             "color": "#2a3f5f"
            },
            "marker": {
             "line": {
              "color": "#E5ECF6",
              "width": 0.5
             },
             "pattern": {
              "fillmode": "overlay",
              "size": 10,
              "solidity": 0.2
             }
            },
            "type": "bar"
           }
          ],
          "barpolar": [
           {
            "marker": {
             "line": {
              "color": "#E5ECF6",
              "width": 0.5
             },
             "pattern": {
              "fillmode": "overlay",
              "size": 10,
              "solidity": 0.2
             }
            },
            "type": "barpolar"
           }
          ],
          "carpet": [
           {
            "aaxis": {
             "endlinecolor": "#2a3f5f",
             "gridcolor": "white",
             "linecolor": "white",
             "minorgridcolor": "white",
             "startlinecolor": "#2a3f5f"
            },
            "baxis": {
             "endlinecolor": "#2a3f5f",
             "gridcolor": "white",
             "linecolor": "white",
             "minorgridcolor": "white",
             "startlinecolor": "#2a3f5f"
            },
            "type": "carpet"
           }
          ],
          "choropleth": [
           {
            "colorbar": {
             "outlinewidth": 0,
             "ticks": ""
            },
            "type": "choropleth"
           }
          ],
          "contour": [
           {
            "colorbar": {
             "outlinewidth": 0,
             "ticks": ""
            },
            "colorscale": [
             [
              0,
              "#0d0887"
             ],
             [
              0.1111111111111111,
              "#46039f"
             ],
             [
              0.2222222222222222,
              "#7201a8"
             ],
             [
              0.3333333333333333,
              "#9c179e"
             ],
             [
              0.4444444444444444,
              "#bd3786"
             ],
             [
              0.5555555555555556,
              "#d8576b"
             ],
             [
              0.6666666666666666,
              "#ed7953"
             ],
             [
              0.7777777777777778,
              "#fb9f3a"
             ],
             [
              0.8888888888888888,
              "#fdca26"
             ],
             [
              1,
              "#f0f921"
             ]
            ],
            "type": "contour"
           }
          ],
          "contourcarpet": [
           {
            "colorbar": {
             "outlinewidth": 0,
             "ticks": ""
            },
            "type": "contourcarpet"
           }
          ],
          "heatmap": [
           {
            "colorbar": {
             "outlinewidth": 0,
             "ticks": ""
            },
            "colorscale": [
             [
              0,
              "#0d0887"
             ],
             [
              0.1111111111111111,
              "#46039f"
             ],
             [
              0.2222222222222222,
              "#7201a8"
             ],
             [
              0.3333333333333333,
              "#9c179e"
             ],
             [
              0.4444444444444444,
              "#bd3786"
             ],
             [
              0.5555555555555556,
              "#d8576b"
             ],
             [
              0.6666666666666666,
              "#ed7953"
             ],
             [
              0.7777777777777778,
              "#fb9f3a"
             ],
             [
              0.8888888888888888,
              "#fdca26"
             ],
             [
              1,
              "#f0f921"
             ]
            ],
            "type": "heatmap"
           }
          ],
          "heatmapgl": [
           {
            "colorbar": {
             "outlinewidth": 0,
             "ticks": ""
            },
            "colorscale": [
             [
              0,
              "#0d0887"
             ],
             [
              0.1111111111111111,
              "#46039f"
             ],
             [
              0.2222222222222222,
              "#7201a8"
             ],
             [
              0.3333333333333333,
              "#9c179e"
             ],
             [
              0.4444444444444444,
              "#bd3786"
             ],
             [
              0.5555555555555556,
              "#d8576b"
             ],
             [
              0.6666666666666666,
              "#ed7953"
             ],
             [
              0.7777777777777778,
              "#fb9f3a"
             ],
             [
              0.8888888888888888,
              "#fdca26"
             ],
             [
              1,
              "#f0f921"
             ]
            ],
            "type": "heatmapgl"
           }
          ],
          "histogram": [
           {
            "marker": {
             "pattern": {
              "fillmode": "overlay",
              "size": 10,
              "solidity": 0.2
             }
            },
            "type": "histogram"
           }
          ],
          "histogram2d": [
           {
            "colorbar": {
             "outlinewidth": 0,
             "ticks": ""
            },
            "colorscale": [
             [
              0,
              "#0d0887"
             ],
             [
              0.1111111111111111,
              "#46039f"
             ],
             [
              0.2222222222222222,
              "#7201a8"
             ],
             [
              0.3333333333333333,
              "#9c179e"
             ],
             [
              0.4444444444444444,
              "#bd3786"
             ],
             [
              0.5555555555555556,
              "#d8576b"
             ],
             [
              0.6666666666666666,
              "#ed7953"
             ],
             [
              0.7777777777777778,
              "#fb9f3a"
             ],
             [
              0.8888888888888888,
              "#fdca26"
             ],
             [
              1,
              "#f0f921"
             ]
            ],
            "type": "histogram2d"
           }
          ],
          "histogram2dcontour": [
           {
            "colorbar": {
             "outlinewidth": 0,
             "ticks": ""
            },
            "colorscale": [
             [
              0,
              "#0d0887"
             ],
             [
              0.1111111111111111,
              "#46039f"
             ],
             [
              0.2222222222222222,
              "#7201a8"
             ],
             [
              0.3333333333333333,
              "#9c179e"
             ],
             [
              0.4444444444444444,
              "#bd3786"
             ],
             [
              0.5555555555555556,
              "#d8576b"
             ],
             [
              0.6666666666666666,
              "#ed7953"
             ],
             [
              0.7777777777777778,
              "#fb9f3a"
             ],
             [
              0.8888888888888888,
              "#fdca26"
             ],
             [
              1,
              "#f0f921"
             ]
            ],
            "type": "histogram2dcontour"
           }
          ],
          "mesh3d": [
           {
            "colorbar": {
             "outlinewidth": 0,
             "ticks": ""
            },
            "type": "mesh3d"
           }
          ],
          "parcoords": [
           {
            "line": {
             "colorbar": {
              "outlinewidth": 0,
              "ticks": ""
             }
            },
            "type": "parcoords"
           }
          ],
          "pie": [
           {
            "automargin": true,
            "type": "pie"
           }
          ],
          "scatter": [
           {
            "fillpattern": {
             "fillmode": "overlay",
             "size": 10,
             "solidity": 0.2
            },
            "type": "scatter"
           }
          ],
          "scatter3d": [
           {
            "line": {
             "colorbar": {
              "outlinewidth": 0,
              "ticks": ""
             }
            },
            "marker": {
             "colorbar": {
              "outlinewidth": 0,
              "ticks": ""
             }
            },
            "type": "scatter3d"
           }
          ],
          "scattercarpet": [
           {
            "marker": {
             "colorbar": {
              "outlinewidth": 0,
              "ticks": ""
             }
            },
            "type": "scattercarpet"
           }
          ],
          "scattergeo": [
           {
            "marker": {
             "colorbar": {
              "outlinewidth": 0,
              "ticks": ""
             }
            },
            "type": "scattergeo"
           }
          ],
          "scattergl": [
           {
            "marker": {
             "colorbar": {
              "outlinewidth": 0,
              "ticks": ""
             }
            },
            "type": "scattergl"
           }
          ],
          "scattermapbox": [
           {
            "marker": {
             "colorbar": {
              "outlinewidth": 0,
              "ticks": ""
             }
            },
            "type": "scattermapbox"
           }
          ],
          "scatterpolar": [
           {
            "marker": {
             "colorbar": {
              "outlinewidth": 0,
              "ticks": ""
             }
            },
            "type": "scatterpolar"
           }
          ],
          "scatterpolargl": [
           {
            "marker": {
             "colorbar": {
              "outlinewidth": 0,
              "ticks": ""
             }
            },
            "type": "scatterpolargl"
           }
          ],
          "scatterternary": [
           {
            "marker": {
             "colorbar": {
              "outlinewidth": 0,
              "ticks": ""
             }
            },
            "type": "scatterternary"
           }
          ],
          "surface": [
           {
            "colorbar": {
             "outlinewidth": 0,
             "ticks": ""
            },
            "colorscale": [
             [
              0,
              "#0d0887"
             ],
             [
              0.1111111111111111,
              "#46039f"
             ],
             [
              0.2222222222222222,
              "#7201a8"
             ],
             [
              0.3333333333333333,
              "#9c179e"
             ],
             [
              0.4444444444444444,
              "#bd3786"
             ],
             [
              0.5555555555555556,
              "#d8576b"
             ],
             [
              0.6666666666666666,
              "#ed7953"
             ],
             [
              0.7777777777777778,
              "#fb9f3a"
             ],
             [
              0.8888888888888888,
              "#fdca26"
             ],
             [
              1,
              "#f0f921"
             ]
            ],
            "type": "surface"
           }
          ],
          "table": [
           {
            "cells": {
             "fill": {
              "color": "#EBF0F8"
             },
             "line": {
              "color": "white"
             }
            },
            "header": {
             "fill": {
              "color": "#C8D4E3"
             },
             "line": {
              "color": "white"
             }
            },
            "type": "table"
           }
          ]
         },
         "layout": {
          "annotationdefaults": {
           "arrowcolor": "#2a3f5f",
           "arrowhead": 0,
           "arrowwidth": 1
          },
          "autotypenumbers": "strict",
          "coloraxis": {
           "colorbar": {
            "outlinewidth": 0,
            "ticks": ""
           }
          },
          "colorscale": {
           "diverging": [
            [
             0,
             "#8e0152"
            ],
            [
             0.1,
             "#c51b7d"
            ],
            [
             0.2,
             "#de77ae"
            ],
            [
             0.3,
             "#f1b6da"
            ],
            [
             0.4,
             "#fde0ef"
            ],
            [
             0.5,
             "#f7f7f7"
            ],
            [
             0.6,
             "#e6f5d0"
            ],
            [
             0.7,
             "#b8e186"
            ],
            [
             0.8,
             "#7fbc41"
            ],
            [
             0.9,
             "#4d9221"
            ],
            [
             1,
             "#276419"
            ]
           ],
           "sequential": [
            [
             0,
             "#0d0887"
            ],
            [
             0.1111111111111111,
             "#46039f"
            ],
            [
             0.2222222222222222,
             "#7201a8"
            ],
            [
             0.3333333333333333,
             "#9c179e"
            ],
            [
             0.4444444444444444,
             "#bd3786"
            ],
            [
             0.5555555555555556,
             "#d8576b"
            ],
            [
             0.6666666666666666,
             "#ed7953"
            ],
            [
             0.7777777777777778,
             "#fb9f3a"
            ],
            [
             0.8888888888888888,
             "#fdca26"
            ],
            [
             1,
             "#f0f921"
            ]
           ],
           "sequentialminus": [
            [
             0,
             "#0d0887"
            ],
            [
             0.1111111111111111,
             "#46039f"
            ],
            [
             0.2222222222222222,
             "#7201a8"
            ],
            [
             0.3333333333333333,
             "#9c179e"
            ],
            [
             0.4444444444444444,
             "#bd3786"
            ],
            [
             0.5555555555555556,
             "#d8576b"
            ],
            [
             0.6666666666666666,
             "#ed7953"
            ],
            [
             0.7777777777777778,
             "#fb9f3a"
            ],
            [
             0.8888888888888888,
             "#fdca26"
            ],
            [
             1,
             "#f0f921"
            ]
           ]
          },
          "colorway": [
           "#636efa",
           "#EF553B",
           "#00cc96",
           "#ab63fa",
           "#FFA15A",
           "#19d3f3",
           "#FF6692",
           "#B6E880",
           "#FF97FF",
           "#FECB52"
          ],
          "font": {
           "color": "#2a3f5f"
          },
          "geo": {
           "bgcolor": "white",
           "lakecolor": "white",
           "landcolor": "#E5ECF6",
           "showlakes": true,
           "showland": true,
           "subunitcolor": "white"
          },
          "hoverlabel": {
           "align": "left"
          },
          "hovermode": "closest",
          "mapbox": {
           "style": "light"
          },
          "paper_bgcolor": "white",
          "plot_bgcolor": "#E5ECF6",
          "polar": {
           "angularaxis": {
            "gridcolor": "white",
            "linecolor": "white",
            "ticks": ""
           },
           "bgcolor": "#E5ECF6",
           "radialaxis": {
            "gridcolor": "white",
            "linecolor": "white",
            "ticks": ""
           }
          },
          "scene": {
           "xaxis": {
            "backgroundcolor": "#E5ECF6",
            "gridcolor": "white",
            "gridwidth": 2,
            "linecolor": "white",
            "showbackground": true,
            "ticks": "",
            "zerolinecolor": "white"
           },
           "yaxis": {
            "backgroundcolor": "#E5ECF6",
            "gridcolor": "white",
            "gridwidth": 2,
            "linecolor": "white",
            "showbackground": true,
            "ticks": "",
            "zerolinecolor": "white"
           },
           "zaxis": {
            "backgroundcolor": "#E5ECF6",
            "gridcolor": "white",
            "gridwidth": 2,
            "linecolor": "white",
            "showbackground": true,
            "ticks": "",
            "zerolinecolor": "white"
           }
          },
          "shapedefaults": {
           "line": {
            "color": "#2a3f5f"
           }
          },
          "ternary": {
           "aaxis": {
            "gridcolor": "white",
            "linecolor": "white",
            "ticks": ""
           },
           "baxis": {
            "gridcolor": "white",
            "linecolor": "white",
            "ticks": ""
           },
           "bgcolor": "#E5ECF6",
           "caxis": {
            "gridcolor": "white",
            "linecolor": "white",
            "ticks": ""
           }
          },
          "title": {
           "x": 0.05
          },
          "xaxis": {
           "automargin": true,
           "gridcolor": "white",
           "linecolor": "white",
           "ticks": "",
           "title": {
            "standoff": 15
           },
           "zerolinecolor": "white",
           "zerolinewidth": 2
          },
          "yaxis": {
           "automargin": true,
           "gridcolor": "white",
           "linecolor": "white",
           "ticks": "",
           "title": {
            "standoff": 15
           },
           "zerolinecolor": "white",
           "zerolinewidth": 2
          }
         }
        },
        "title": {
         "text": "Issues with Plotly",
         "x": 0.5
        }
       }
      }
     },
     "metadata": {},
     "output_type": "display_data"
    }
   ],
   "source": [
    "import plotly.graph_objects as go\n",
    "\n",
    "categories = result_kprot.columns\n",
    "fig = go.Figure()\n",
    "\n",
    "for g in result_kprot.index:\n",
    "    fig.add_trace(go.Scatterpolar(\n",
    "        r = result_kprot.loc[g].values,\n",
    "        theta = categories,\n",
    "        fill = 'toself',\n",
    "        name = f'cluster #{g}'\n",
    "    ))\n",
    "\n",
    "fig.update_layout(\n",
    "  polar=dict(\n",
    "    radialaxis=dict(\n",
    "      visible=True,\n",
    "      range=[0, 5] # here we can define the range\n",
    "    )),\n",
    "  showlegend=True,\n",
    "    title=\"Issues with Plotly\",\n",
    "    title_x=0.5\n",
    ")\n",
    "\n",
    "fig.show()"
   ]
  },
  {
   "cell_type": "code",
   "execution_count": 26,
   "metadata": {},
   "outputs": [],
   "source": [
    "\n",
    "df.to_csv(\"data/df_tsne_comp2_kmean.csv\",index=False)\n",
    "df_kproto.to_csv(\"data/df_tsne_comp2_kproto.csv\",index=False)"
   ]
  }
 ],
 "metadata": {
  "kernelspec": {
   "display_name": "client",
   "language": "python",
   "name": "python3"
  },
  "language_info": {
   "codemirror_mode": {
    "name": "ipython",
    "version": 3
   },
   "file_extension": ".py",
   "mimetype": "text/x-python",
   "name": "python",
   "nbconvert_exporter": "python",
   "pygments_lexer": "ipython3",
   "version": "3.10.9"
  },
  "orig_nbformat": 4,
  "vscode": {
   "interpreter": {
    "hash": "fac8336b4023db0dd2de0d497a22458410b3d75ee45ffeba42d3464a936c51da"
   }
  }
 },
 "nbformat": 4,
 "nbformat_minor": 2
}
